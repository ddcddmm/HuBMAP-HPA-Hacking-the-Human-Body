{
 "cells": [
  {
   "cell_type": "code",
   "execution_count": 1,
   "id": "bba8a70c",
   "metadata": {
    "execution": {
     "iopub.execute_input": "2022-09-18T13:10:18.767125Z",
     "iopub.status.busy": "2022-09-18T13:10:18.766099Z",
     "iopub.status.idle": "2022-09-18T13:10:18.770738Z",
     "shell.execute_reply": "2022-09-18T13:10:18.769989Z",
     "shell.execute_reply.started": "2022-09-18T12:37:26.560313Z"
    },
    "papermill": {
     "duration": 0.142274,
     "end_time": "2022-09-18T13:10:18.770918",
     "exception": false,
     "start_time": "2022-09-18T13:10:18.628644",
     "status": "completed"
    },
    "tags": []
   },
   "outputs": [],
   "source": [
    "import os\n",
    "from pathlib import Path\n",
    "import base64"
   ]
  },
  {
   "cell_type": "code",
   "execution_count": 2,
   "id": "e6663b04",
   "metadata": {
    "execution": {
     "iopub.execute_input": "2022-09-18T13:10:18.809922Z",
     "iopub.status.busy": "2022-09-18T13:10:18.808860Z",
     "iopub.status.idle": "2022-09-18T13:10:18.820767Z",
     "shell.execute_reply": "2022-09-18T13:10:18.820171Z",
     "shell.execute_reply.started": "2022-09-18T12:37:37.259379Z"
    },
    "papermill": {
     "duration": 0.03055,
     "end_time": "2022-09-18T13:10:18.820892",
     "exception": false,
     "start_time": "2022-09-18T13:10:18.790342",
     "status": "completed"
    },
    "tags": []
   },
   "outputs": [],
   "source": [
    "code1 = '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'"
   ]
  },
  {
   "cell_type": "code",
   "execution_count": 3,
   "id": "72b2c324",
   "metadata": {
    "execution": {
     "iopub.execute_input": "2022-09-18T13:10:18.877071Z",
     "iopub.status.busy": "2022-09-18T13:10:18.875843Z",
     "iopub.status.idle": "2022-09-18T13:10:18.884416Z",
     "shell.execute_reply": "2022-09-18T13:10:18.883290Z",
     "shell.execute_reply.started": "2022-09-18T12:39:27.870971Z"
    },
    "papermill": {
     "duration": 0.04876,
     "end_time": "2022-09-18T13:10:18.884767",
     "exception": false,
     "start_time": "2022-09-18T13:10:18.836007",
     "status": "completed"
    },
    "tags": []
   },
   "outputs": [
    {
     "data": {
      "text/plain": [
       "11541"
      ]
     },
     "execution_count": 3,
     "metadata": {},
     "output_type": "execute_result"
    }
   ],
   "source": [
    "path = 'code1.py'\n",
    "path = Path(path)\n",
    "path.write_bytes(base64.b64decode(code1))"
   ]
  },
  {
   "cell_type": "code",
   "execution_count": 4,
   "id": "5217033a",
   "metadata": {
    "execution": {
     "iopub.execute_input": "2022-09-18T13:10:19.000901Z",
     "iopub.status.busy": "2022-09-18T13:10:18.999613Z",
     "iopub.status.idle": "2022-09-18T13:13:01.053411Z",
     "shell.execute_reply": "2022-09-18T13:13:01.051941Z",
     "shell.execute_reply.started": "2022-09-18T12:40:00.869091Z"
    },
    "papermill": {
     "duration": 162.121134,
     "end_time": "2022-09-18T13:13:01.053672",
     "exception": false,
     "start_time": "2022-09-18T13:10:18.932538",
     "status": "completed"
    },
    "tags": []
   },
   "outputs": [
    {
     "name": "stdout",
     "output_type": "stream",
     "text": [
      "2022-09-18 13:10:22.221314: I tensorflow/stream_executor/platform/default/dso_loader.cc:49] Successfully opened dynamic library libcudart.so.11.0\r\n",
      "MEAN: [0.16183016 0.18965785 0.1697808 ], STD: [0.1697331  0.19511677 0.175394  ]\r\n",
      "Running on GPU\r\n",
      "REPLICAS: 1\r\n",
      "2022-09-18 13:10:30.255868: I tensorflow/compiler/jit/xla_cpu_device.cc:41] Not creating XLA devices, tf_xla_enable_xla_devices not set\r\n",
      "2022-09-18 13:10:30.260341: I tensorflow/stream_executor/platform/default/dso_loader.cc:49] Successfully opened dynamic library libcuda.so.1\r\n",
      "2022-09-18 13:10:30.348843: I tensorflow/stream_executor/cuda/cuda_gpu_executor.cc:941] successful NUMA node read from SysFS had negative value (-1), but there must be at least one NUMA node, so returning NUMA node zero\r\n",
      "2022-09-18 13:10:30.352728: I tensorflow/core/common_runtime/gpu/gpu_device.cc:1720] Found device 0 with properties: \r\n",
      "pciBusID: 0000:00:04.0 name: Tesla P100-PCIE-16GB computeCapability: 6.0\r\n",
      "coreClock: 1.3285GHz coreCount: 56 deviceMemorySize: 15.90GiB deviceMemoryBandwidth: 681.88GiB/s\r\n",
      "2022-09-18 13:10:30.352807: I tensorflow/stream_executor/platform/default/dso_loader.cc:49] Successfully opened dynamic library libcudart.so.11.0\r\n",
      "2022-09-18 13:10:30.394973: I tensorflow/stream_executor/platform/default/dso_loader.cc:49] Successfully opened dynamic library libcublas.so.11\r\n",
      "2022-09-18 13:10:30.395086: I tensorflow/stream_executor/platform/default/dso_loader.cc:49] Successfully opened dynamic library libcublasLt.so.11\r\n",
      "2022-09-18 13:10:30.427915: I tensorflow/stream_executor/platform/default/dso_loader.cc:49] Successfully opened dynamic library libcufft.so.10\r\n",
      "2022-09-18 13:10:30.437180: I tensorflow/stream_executor/platform/default/dso_loader.cc:49] Successfully opened dynamic library libcurand.so.10\r\n",
      "2022-09-18 13:10:30.474915: I tensorflow/stream_executor/platform/default/dso_loader.cc:49] Successfully opened dynamic library libcusolver.so.10\r\n",
      "2022-09-18 13:10:30.492180: I tensorflow/stream_executor/platform/default/dso_loader.cc:49] Successfully opened dynamic library libcusparse.so.11\r\n",
      "2022-09-18 13:10:30.496844: I tensorflow/stream_executor/platform/default/dso_loader.cc:49] Successfully opened dynamic library libcudnn.so.8\r\n",
      "2022-09-18 13:10:30.497102: I tensorflow/stream_executor/cuda/cuda_gpu_executor.cc:941] successful NUMA node read from SysFS had negative value (-1), but there must be at least one NUMA node, so returning NUMA node zero\r\n",
      "2022-09-18 13:10:30.500926: I tensorflow/stream_executor/cuda/cuda_gpu_executor.cc:941] successful NUMA node read from SysFS had negative value (-1), but there must be at least one NUMA node, so returning NUMA node zero\r\n",
      "2022-09-18 13:10:30.507250: I tensorflow/core/common_runtime/gpu/gpu_device.cc:1862] Adding visible gpu devices: 0\r\n",
      "2022-09-18 13:10:30.508565: I tensorflow/core/platform/cpu_feature_guard.cc:142] This TensorFlow binary is optimized with oneAPI Deep Neural Network Library (oneDNN) to use the following CPU instructions in performance-critical operations:  AVX2 FMA\r\n",
      "To enable them in other operations, rebuild TensorFlow with the appropriate compiler flags.\r\n",
      "2022-09-18 13:10:30.509016: I tensorflow/compiler/jit/xla_gpu_device.cc:99] Not creating XLA devices, tf_xla_enable_xla_devices not set\r\n",
      "2022-09-18 13:10:30.509376: I tensorflow/stream_executor/cuda/cuda_gpu_executor.cc:941] successful NUMA node read from SysFS had negative value (-1), but there must be at least one NUMA node, so returning NUMA node zero\r\n",
      "2022-09-18 13:10:30.513357: I tensorflow/core/common_runtime/gpu/gpu_device.cc:1720] Found device 0 with properties: \r\n",
      "pciBusID: 0000:00:04.0 name: Tesla P100-PCIE-16GB computeCapability: 6.0\r\n",
      "coreClock: 1.3285GHz coreCount: 56 deviceMemorySize: 15.90GiB deviceMemoryBandwidth: 681.88GiB/s\r\n",
      "2022-09-18 13:10:30.513440: I tensorflow/stream_executor/platform/default/dso_loader.cc:49] Successfully opened dynamic library libcudart.so.11.0\r\n",
      "2022-09-18 13:10:30.513544: I tensorflow/stream_executor/platform/default/dso_loader.cc:49] Successfully opened dynamic library libcublas.so.11\r\n",
      "2022-09-18 13:10:30.513619: I tensorflow/stream_executor/platform/default/dso_loader.cc:49] Successfully opened dynamic library libcublasLt.so.11\r\n",
      "2022-09-18 13:10:30.513692: I tensorflow/stream_executor/platform/default/dso_loader.cc:49] Successfully opened dynamic library libcufft.so.10\r\n",
      "2022-09-18 13:10:30.513773: I tensorflow/stream_executor/platform/default/dso_loader.cc:49] Successfully opened dynamic library libcurand.so.10\r\n",
      "2022-09-18 13:10:30.513844: I tensorflow/stream_executor/platform/default/dso_loader.cc:49] Successfully opened dynamic library libcusolver.so.10\r\n",
      "2022-09-18 13:10:30.513909: I tensorflow/stream_executor/platform/default/dso_loader.cc:49] Successfully opened dynamic library libcusparse.so.11\r\n",
      "2022-09-18 13:10:30.513987: I tensorflow/stream_executor/platform/default/dso_loader.cc:49] Successfully opened dynamic library libcudnn.so.8\r\n",
      "2022-09-18 13:10:30.514215: I tensorflow/stream_executor/cuda/cuda_gpu_executor.cc:941] successful NUMA node read from SysFS had negative value (-1), but there must be at least one NUMA node, so returning NUMA node zero\r\n",
      "2022-09-18 13:10:30.518260: I tensorflow/stream_executor/cuda/cuda_gpu_executor.cc:941] successful NUMA node read from SysFS had negative value (-1), but there must be at least one NUMA node, so returning NUMA node zero\r\n",
      "2022-09-18 13:10:30.522208: I tensorflow/core/common_runtime/gpu/gpu_device.cc:1862] Adding visible gpu devices: 0\r\n",
      "2022-09-18 13:10:30.523547: I tensorflow/stream_executor/platform/default/dso_loader.cc:49] Successfully opened dynamic library libcudart.so.11.0\r\n",
      "2022-09-18 13:10:32.887920: I tensorflow/core/common_runtime/gpu/gpu_device.cc:1261] Device interconnect StreamExecutor with strength 1 edge matrix:\r\n",
      "2022-09-18 13:10:32.887996: I tensorflow/core/common_runtime/gpu/gpu_device.cc:1267]      0 \r\n",
      "2022-09-18 13:10:32.888121: I tensorflow/core/common_runtime/gpu/gpu_device.cc:1280] 0:   N \r\n",
      "2022-09-18 13:10:32.891196: I tensorflow/stream_executor/cuda/cuda_gpu_executor.cc:941] successful NUMA node read from SysFS had negative value (-1), but there must be at least one NUMA node, so returning NUMA node zero\r\n",
      "2022-09-18 13:10:32.895398: I tensorflow/stream_executor/cuda/cuda_gpu_executor.cc:941] successful NUMA node read from SysFS had negative value (-1), but there must be at least one NUMA node, so returning NUMA node zero\r\n",
      "2022-09-18 13:10:32.899225: I tensorflow/stream_executor/cuda/cuda_gpu_executor.cc:941] successful NUMA node read from SysFS had negative value (-1), but there must be at least one NUMA node, so returning NUMA node zero\r\n",
      "2022-09-18 13:10:32.902844: I tensorflow/core/common_runtime/gpu/gpu_device.cc:1406] Created TensorFlow device (/job:localhost/replica:0/task:0/device:GPU:0 with 14957 MB memory) -> physical GPU (device: 0, name: Tesla P100-PCIE-16GB, pci bus id: 0000:00:04.0, compute capability: 6.0)\r\n",
      "embedding shape: (None, 2816) up1 shape: (None, 20, 20, 2816), up2 shape: (None, 20, 20, 704)\r\n",
      "up3 shape: (None, 40, 40, 248), up4 shape: (None, 80, 80, 88), up5 shape: (None, 160, 160, 56), up6 shape: (None, 320, 320, 32)\r\n",
      "dec0 shape: (None, 20, 20, 640), dec1 shape: (None, 40, 40, 352), dec2 shape: (None, 80, 80, 112), dec3 shape: (None, 160, 160, 64), dec4 shape: (None, 320, 320, 64)\r\n",
      "dec_fpn shape: (None, 320, 320, 192)\r\n",
      "Loading pretrained weights...\r\n",
      "embedding shape: (None, 2816) up1 shape: (None, 20, 20, 2816), up2 shape: (None, 20, 20, 704)\r\n",
      "up3 shape: (None, 40, 40, 248), up4 shape: (None, 80, 80, 88), up5 shape: (None, 160, 160, 56), up6 shape: (None, 320, 320, 32)\r\n",
      "dec0 shape: (None, 20, 20, 640), dec1 shape: (None, 40, 40, 352), dec2 shape: (None, 80, 80, 112), dec3 shape: (None, 160, 160, 64), dec4 shape: (None, 320, 320, 64)\r\n",
      "dec_fpn shape: (None, 320, 320, 192)\r\n",
      "Loading pretrained weights...\r\n",
      "embedding shape: (None, 2816) up1 shape: (None, 20, 20, 2816), up2 shape: (None, 20, 20, 704)\r\n",
      "up3 shape: (None, 40, 40, 248), up4 shape: (None, 80, 80, 88), up5 shape: (None, 160, 160, 56), up6 shape: (None, 320, 320, 32)\r\n",
      "dec0 shape: (None, 20, 20, 640), dec1 shape: (None, 40, 40, 352), dec2 shape: (None, 80, 80, 112), dec3 shape: (None, 160, 160, 64), dec4 shape: (None, 320, 320, 64)\r\n",
      "dec_fpn shape: (None, 320, 320, 192)\r\n",
      "Loading pretrained weights...\r\n",
      "embedding shape: (None, 2816) up1 shape: (None, 20, 20, 2816), up2 shape: (None, 20, 20, 704)\r\n",
      "up3 shape: (None, 40, 40, 248), up4 shape: (None, 80, 80, 88), up5 shape: (None, 160, 160, 56), up6 shape: (None, 320, 320, 32)\r\n",
      "dec0 shape: (None, 20, 20, 640), dec1 shape: (None, 40, 40, 352), dec2 shape: (None, 80, 80, 112), dec3 shape: (None, 160, 160, 64), dec4 shape: (None, 320, 320, 64)\r\n",
      "dec_fpn shape: (None, 320, 320, 192)\r\n",
      "Loading pretrained weights...\r\n",
      "  0%|          | 0/1 [00:00<?, ?it/s]\r\n",
      "2022-09-18 13:12:06.180429: I tensorflow/compiler/mlir/mlir_graph_optimization_pass.cc:116] None of the MLIR optimization passes are enabled (registered 2)\r\n",
      "2022-09-18 13:12:06.196057: I tensorflow/core/platform/profile_utils/cpu_utils.cc:112] CPU Frequency: 2200000000 Hz\r\n",
      "2022-09-18 13:12:15.590843: I tensorflow/stream_executor/platform/default/dso_loader.cc:49] Successfully opened dynamic library libcudnn.so.8\r\n",
      "2022-09-18 13:12:24.058898: I tensorflow/stream_executor/platform/default/dso_loader.cc:49] Successfully opened dynamic library libcublas.so.11\r\n",
      "2022-09-18 13:12:25.349937: I tensorflow/stream_executor/platform/default/dso_loader.cc:49] Successfully opened dynamic library libcublasLt.so.11\r\n"
     ]
    }
   ],
   "source": [
    "!python code1.py"
   ]
  },
  {
   "cell_type": "code",
   "execution_count": 5,
   "id": "f371df7e",
   "metadata": {
    "execution": {
     "iopub.execute_input": "2022-09-18T13:13:01.144783Z",
     "iopub.status.busy": "2022-09-18T13:13:01.143725Z",
     "iopub.status.idle": "2022-09-18T13:13:01.157179Z",
     "shell.execute_reply": "2022-09-18T13:13:01.158456Z",
     "shell.execute_reply.started": "2022-09-18T12:44:50.542017Z"
    },
    "papermill": {
     "duration": 0.063892,
     "end_time": "2022-09-18T13:13:01.158719",
     "exception": false,
     "start_time": "2022-09-18T13:13:01.094827",
     "status": "completed"
    },
    "tags": []
   },
   "outputs": [],
   "source": [
    "code2 = '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'"
   ]
  },
  {
   "cell_type": "code",
   "execution_count": 6,
   "id": "d79fe9a1",
   "metadata": {
    "execution": {
     "iopub.execute_input": "2022-09-18T13:13:01.246755Z",
     "iopub.status.busy": "2022-09-18T13:13:01.244660Z",
     "iopub.status.idle": "2022-09-18T13:13:01.251313Z",
     "shell.execute_reply": "2022-09-18T13:13:01.251984Z",
     "shell.execute_reply.started": "2022-09-18T12:45:12.193113Z"
    },
    "papermill": {
     "duration": 0.05497,
     "end_time": "2022-09-18T13:13:01.252211",
     "exception": false,
     "start_time": "2022-09-18T13:13:01.197241",
     "status": "completed"
    },
    "tags": []
   },
   "outputs": [
    {
     "data": {
      "text/plain": [
       "11541"
      ]
     },
     "execution_count": 6,
     "metadata": {},
     "output_type": "execute_result"
    }
   ],
   "source": [
    "path = 'code2.py'\n",
    "path = Path(path)\n",
    "path.write_bytes(base64.b64decode(code2))"
   ]
  },
  {
   "cell_type": "code",
   "execution_count": 7,
   "id": "cf6890ae",
   "metadata": {
    "execution": {
     "iopub.execute_input": "2022-09-18T13:13:01.348589Z",
     "iopub.status.busy": "2022-09-18T13:13:01.347202Z",
     "iopub.status.idle": "2022-09-18T13:15:27.099882Z",
     "shell.execute_reply": "2022-09-18T13:15:27.099209Z",
     "shell.execute_reply.started": "2022-09-18T12:45:45.804512Z"
    },
    "papermill": {
     "duration": 145.806335,
     "end_time": "2022-09-18T13:15:27.100049",
     "exception": false,
     "start_time": "2022-09-18T13:13:01.293714",
     "status": "completed"
    },
    "tags": []
   },
   "outputs": [
    {
     "name": "stdout",
     "output_type": "stream",
     "text": [
      "2022-09-18 13:13:03.195181: I tensorflow/stream_executor/platform/default/dso_loader.cc:49] Successfully opened dynamic library libcudart.so.11.0\r\n",
      "MEAN: [0.16183016 0.18965785 0.1697808 ], STD: [0.1697331  0.19511677 0.175394  ]\r\n",
      "Running on GPU\r\n",
      "REPLICAS: 1\r\n",
      "2022-09-18 13:13:07.264248: I tensorflow/compiler/jit/xla_cpu_device.cc:41] Not creating XLA devices, tf_xla_enable_xla_devices not set\r\n",
      "2022-09-18 13:13:07.265765: I tensorflow/stream_executor/platform/default/dso_loader.cc:49] Successfully opened dynamic library libcuda.so.1\r\n",
      "2022-09-18 13:13:07.352894: I tensorflow/stream_executor/cuda/cuda_gpu_executor.cc:941] successful NUMA node read from SysFS had negative value (-1), but there must be at least one NUMA node, so returning NUMA node zero\r\n",
      "2022-09-18 13:13:07.357060: I tensorflow/core/common_runtime/gpu/gpu_device.cc:1720] Found device 0 with properties: \r\n",
      "pciBusID: 0000:00:04.0 name: Tesla P100-PCIE-16GB computeCapability: 6.0\r\n",
      "coreClock: 1.3285GHz coreCount: 56 deviceMemorySize: 15.90GiB deviceMemoryBandwidth: 681.88GiB/s\r\n",
      "2022-09-18 13:13:07.357141: I tensorflow/stream_executor/platform/default/dso_loader.cc:49] Successfully opened dynamic library libcudart.so.11.0\r\n",
      "2022-09-18 13:13:07.361937: I tensorflow/stream_executor/platform/default/dso_loader.cc:49] Successfully opened dynamic library libcublas.so.11\r\n",
      "2022-09-18 13:13:07.362047: I tensorflow/stream_executor/platform/default/dso_loader.cc:49] Successfully opened dynamic library libcublasLt.so.11\r\n",
      "2022-09-18 13:13:07.364048: I tensorflow/stream_executor/platform/default/dso_loader.cc:49] Successfully opened dynamic library libcufft.so.10\r\n",
      "2022-09-18 13:13:07.364642: I tensorflow/stream_executor/platform/default/dso_loader.cc:49] Successfully opened dynamic library libcurand.so.10\r\n",
      "2022-09-18 13:13:07.369697: I tensorflow/stream_executor/platform/default/dso_loader.cc:49] Successfully opened dynamic library libcusolver.so.10\r\n",
      "2022-09-18 13:13:07.370838: I tensorflow/stream_executor/platform/default/dso_loader.cc:49] Successfully opened dynamic library libcusparse.so.11\r\n",
      "2022-09-18 13:13:07.371233: I tensorflow/stream_executor/platform/default/dso_loader.cc:49] Successfully opened dynamic library libcudnn.so.8\r\n",
      "2022-09-18 13:13:07.371455: I tensorflow/stream_executor/cuda/cuda_gpu_executor.cc:941] successful NUMA node read from SysFS had negative value (-1), but there must be at least one NUMA node, so returning NUMA node zero\r\n",
      "2022-09-18 13:13:07.375622: I tensorflow/stream_executor/cuda/cuda_gpu_executor.cc:941] successful NUMA node read from SysFS had negative value (-1), but there must be at least one NUMA node, so returning NUMA node zero\r\n",
      "2022-09-18 13:13:07.379380: I tensorflow/core/common_runtime/gpu/gpu_device.cc:1862] Adding visible gpu devices: 0\r\n",
      "2022-09-18 13:13:07.379868: I tensorflow/core/platform/cpu_feature_guard.cc:142] This TensorFlow binary is optimized with oneAPI Deep Neural Network Library (oneDNN) to use the following CPU instructions in performance-critical operations:  AVX2 FMA\r\n",
      "To enable them in other operations, rebuild TensorFlow with the appropriate compiler flags.\r\n",
      "2022-09-18 13:13:07.380119: I tensorflow/compiler/jit/xla_gpu_device.cc:99] Not creating XLA devices, tf_xla_enable_xla_devices not set\r\n",
      "2022-09-18 13:13:07.380422: I tensorflow/stream_executor/cuda/cuda_gpu_executor.cc:941] successful NUMA node read from SysFS had negative value (-1), but there must be at least one NUMA node, so returning NUMA node zero\r\n",
      "2022-09-18 13:13:07.384440: I tensorflow/core/common_runtime/gpu/gpu_device.cc:1720] Found device 0 with properties: \r\n",
      "pciBusID: 0000:00:04.0 name: Tesla P100-PCIE-16GB computeCapability: 6.0\r\n",
      "coreClock: 1.3285GHz coreCount: 56 deviceMemorySize: 15.90GiB deviceMemoryBandwidth: 681.88GiB/s\r\n",
      "2022-09-18 13:13:07.384533: I tensorflow/stream_executor/platform/default/dso_loader.cc:49] Successfully opened dynamic library libcudart.so.11.0\r\n",
      "2022-09-18 13:13:07.384635: I tensorflow/stream_executor/platform/default/dso_loader.cc:49] Successfully opened dynamic library libcublas.so.11\r\n",
      "2022-09-18 13:13:07.384699: I tensorflow/stream_executor/platform/default/dso_loader.cc:49] Successfully opened dynamic library libcublasLt.so.11\r\n",
      "2022-09-18 13:13:07.384771: I tensorflow/stream_executor/platform/default/dso_loader.cc:49] Successfully opened dynamic library libcufft.so.10\r\n",
      "2022-09-18 13:13:07.384868: I tensorflow/stream_executor/platform/default/dso_loader.cc:49] Successfully opened dynamic library libcurand.so.10\r\n",
      "2022-09-18 13:13:07.384937: I tensorflow/stream_executor/platform/default/dso_loader.cc:49] Successfully opened dynamic library libcusolver.so.10\r\n",
      "2022-09-18 13:13:07.385004: I tensorflow/stream_executor/platform/default/dso_loader.cc:49] Successfully opened dynamic library libcusparse.so.11\r\n",
      "2022-09-18 13:13:07.385082: I tensorflow/stream_executor/platform/default/dso_loader.cc:49] Successfully opened dynamic library libcudnn.so.8\r\n",
      "2022-09-18 13:13:07.385281: I tensorflow/stream_executor/cuda/cuda_gpu_executor.cc:941] successful NUMA node read from SysFS had negative value (-1), but there must be at least one NUMA node, so returning NUMA node zero\r\n",
      "2022-09-18 13:13:07.389461: I tensorflow/stream_executor/cuda/cuda_gpu_executor.cc:941] successful NUMA node read from SysFS had negative value (-1), but there must be at least one NUMA node, so returning NUMA node zero\r\n",
      "2022-09-18 13:13:07.393558: I tensorflow/core/common_runtime/gpu/gpu_device.cc:1862] Adding visible gpu devices: 0\r\n",
      "2022-09-18 13:13:07.393695: I tensorflow/stream_executor/platform/default/dso_loader.cc:49] Successfully opened dynamic library libcudart.so.11.0\r\n",
      "2022-09-18 13:13:08.281435: I tensorflow/core/common_runtime/gpu/gpu_device.cc:1261] Device interconnect StreamExecutor with strength 1 edge matrix:\r\n",
      "2022-09-18 13:13:08.281577: I tensorflow/core/common_runtime/gpu/gpu_device.cc:1267]      0 \r\n",
      "2022-09-18 13:13:08.281629: I tensorflow/core/common_runtime/gpu/gpu_device.cc:1280] 0:   N \r\n",
      "2022-09-18 13:13:08.282016: I tensorflow/stream_executor/cuda/cuda_gpu_executor.cc:941] successful NUMA node read from SysFS had negative value (-1), but there must be at least one NUMA node, so returning NUMA node zero\r\n",
      "2022-09-18 13:13:08.286047: I tensorflow/stream_executor/cuda/cuda_gpu_executor.cc:941] successful NUMA node read from SysFS had negative value (-1), but there must be at least one NUMA node, so returning NUMA node zero\r\n",
      "2022-09-18 13:13:08.289916: I tensorflow/stream_executor/cuda/cuda_gpu_executor.cc:941] successful NUMA node read from SysFS had negative value (-1), but there must be at least one NUMA node, so returning NUMA node zero\r\n",
      "2022-09-18 13:13:08.293833: I tensorflow/core/common_runtime/gpu/gpu_device.cc:1406] Created TensorFlow device (/job:localhost/replica:0/task:0/device:GPU:0 with 14957 MB memory) -> physical GPU (device: 0, name: Tesla P100-PCIE-16GB, pci bus id: 0000:00:04.0, compute capability: 6.0)\r\n",
      "embedding shape: (None, 2816) up1 shape: (None, 20, 20, 2816), up2 shape: (None, 20, 20, 704)\r\n",
      "up3 shape: (None, 40, 40, 248), up4 shape: (None, 80, 80, 88), up5 shape: (None, 160, 160, 56), up6 shape: (None, 320, 320, 32)\r\n",
      "dec0 shape: (None, 20, 20, 640), dec1 shape: (None, 40, 40, 352), dec2 shape: (None, 80, 80, 112), dec3 shape: (None, 160, 160, 64), dec4 shape: (None, 320, 320, 64)\r\n",
      "dec_fpn shape: (None, 320, 320, 192)\r\n",
      "Loading pretrained weights...\r\n",
      "embedding shape: (None, 2816) up1 shape: (None, 20, 20, 2816), up2 shape: (None, 20, 20, 704)\r\n",
      "up3 shape: (None, 40, 40, 248), up4 shape: (None, 80, 80, 88), up5 shape: (None, 160, 160, 56), up6 shape: (None, 320, 320, 32)\r\n",
      "dec0 shape: (None, 20, 20, 640), dec1 shape: (None, 40, 40, 352), dec2 shape: (None, 80, 80, 112), dec3 shape: (None, 160, 160, 64), dec4 shape: (None, 320, 320, 64)\r\n",
      "dec_fpn shape: (None, 320, 320, 192)\r\n",
      "Loading pretrained weights...\r\n",
      "embedding shape: (None, 2816) up1 shape: (None, 20, 20, 2816), up2 shape: (None, 20, 20, 704)\r\n",
      "up3 shape: (None, 40, 40, 248), up4 shape: (None, 80, 80, 88), up5 shape: (None, 160, 160, 56), up6 shape: (None, 320, 320, 32)\r\n",
      "dec0 shape: (None, 20, 20, 640), dec1 shape: (None, 40, 40, 352), dec2 shape: (None, 80, 80, 112), dec3 shape: (None, 160, 160, 64), dec4 shape: (None, 320, 320, 64)\r\n",
      "dec_fpn shape: (None, 320, 320, 192)\r\n",
      "Loading pretrained weights...\r\n",
      "embedding shape: (None, 2816) up1 shape: (None, 20, 20, 2816), up2 shape: (None, 20, 20, 704)\r\n",
      "up3 shape: (None, 40, 40, 248), up4 shape: (None, 80, 80, 88), up5 shape: (None, 160, 160, 56), up6 shape: (None, 320, 320, 32)\r\n",
      "dec0 shape: (None, 20, 20, 640), dec1 shape: (None, 40, 40, 352), dec2 shape: (None, 80, 80, 112), dec3 shape: (None, 160, 160, 64), dec4 shape: (None, 320, 320, 64)\r\n",
      "dec_fpn shape: (None, 320, 320, 192)\r\n",
      "Loading pretrained weights...\r\n",
      "  0%|          | 0/1 [00:00<?, ?it/s]\r\n",
      "2022-09-18 13:14:40.868338: I tensorflow/compiler/mlir/mlir_graph_optimization_pass.cc:116] None of the MLIR optimization passes are enabled (registered 2)\r\n",
      "2022-09-18 13:14:40.869106: I tensorflow/core/platform/profile_utils/cpu_utils.cc:112] CPU Frequency: 2200000000 Hz\r\n",
      "2022-09-18 13:14:50.133119: I tensorflow/stream_executor/platform/default/dso_loader.cc:49] Successfully opened dynamic library libcudnn.so.8\r\n",
      "2022-09-18 13:14:51.755634: I tensorflow/stream_executor/platform/default/dso_loader.cc:49] Successfully opened dynamic library libcublas.so.11\r\n",
      "2022-09-18 13:14:52.067236: I tensorflow/stream_executor/platform/default/dso_loader.cc:49] Successfully opened dynamic library libcublasLt.so.11\r\n"
     ]
    }
   ],
   "source": [
    "!python code2.py"
   ]
  },
  {
   "cell_type": "code",
   "execution_count": 8,
   "id": "f0323c0c",
   "metadata": {
    "execution": {
     "iopub.execute_input": "2022-09-18T13:15:27.176469Z",
     "iopub.status.busy": "2022-09-18T13:15:27.175390Z",
     "iopub.status.idle": "2022-09-18T13:15:27.178480Z",
     "shell.execute_reply": "2022-09-18T13:15:27.177985Z",
     "shell.execute_reply.started": "2022-09-18T12:50:30.170817Z"
    },
    "papermill": {
     "duration": 0.046227,
     "end_time": "2022-09-18T13:15:27.178656",
     "exception": false,
     "start_time": "2022-09-18T13:15:27.132429",
     "status": "completed"
    },
    "tags": []
   },
   "outputs": [],
   "source": [
    "code3 = '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'"
   ]
  },
  {
   "cell_type": "code",
   "execution_count": 9,
   "id": "cb82ac33",
   "metadata": {
    "execution": {
     "iopub.execute_input": "2022-09-18T13:15:27.245619Z",
     "iopub.status.busy": "2022-09-18T13:15:27.243045Z",
     "iopub.status.idle": "2022-09-18T13:15:27.250772Z",
     "shell.execute_reply": "2022-09-18T13:15:27.251358Z",
     "shell.execute_reply.started": "2022-09-18T12:50:47.008886Z"
    },
    "papermill": {
     "duration": 0.043153,
     "end_time": "2022-09-18T13:15:27.251550",
     "exception": false,
     "start_time": "2022-09-18T13:15:27.208397",
     "status": "completed"
    },
    "tags": []
   },
   "outputs": [
    {
     "data": {
      "text/plain": [
       "11548"
      ]
     },
     "execution_count": 9,
     "metadata": {},
     "output_type": "execute_result"
    }
   ],
   "source": [
    "path = 'code3.py'\n",
    "path = Path(path)\n",
    "path.write_bytes(base64.b64decode(code3))"
   ]
  },
  {
   "cell_type": "code",
   "execution_count": 10,
   "id": "908b5bee",
   "metadata": {
    "execution": {
     "iopub.execute_input": "2022-09-18T13:15:27.321246Z",
     "iopub.status.busy": "2022-09-18T13:15:27.319703Z",
     "iopub.status.idle": "2022-09-18T13:17:54.445039Z",
     "shell.execute_reply": "2022-09-18T13:17:54.444401Z",
     "shell.execute_reply.started": "2022-09-18T12:51:25.783495Z"
    },
    "papermill": {
     "duration": 147.161235,
     "end_time": "2022-09-18T13:17:54.445239",
     "exception": false,
     "start_time": "2022-09-18T13:15:27.284004",
     "status": "completed"
    },
    "tags": []
   },
   "outputs": [
    {
     "name": "stdout",
     "output_type": "stream",
     "text": [
      "2022-09-18 13:15:29.362108: I tensorflow/stream_executor/platform/default/dso_loader.cc:49] Successfully opened dynamic library libcudart.so.11.0\r\n",
      "MEAN: [0.16183016 0.18965785 0.1697808 ], STD: [0.1697331  0.19511677 0.175394  ]\r\n",
      "Running on GPU\r\n",
      "REPLICAS: 1\r\n",
      "2022-09-18 13:15:33.193443: I tensorflow/compiler/jit/xla_cpu_device.cc:41] Not creating XLA devices, tf_xla_enable_xla_devices not set\r\n",
      "2022-09-18 13:15:33.195079: I tensorflow/stream_executor/platform/default/dso_loader.cc:49] Successfully opened dynamic library libcuda.so.1\r\n",
      "2022-09-18 13:15:33.281565: I tensorflow/stream_executor/cuda/cuda_gpu_executor.cc:941] successful NUMA node read from SysFS had negative value (-1), but there must be at least one NUMA node, so returning NUMA node zero\r\n",
      "2022-09-18 13:15:33.285503: I tensorflow/core/common_runtime/gpu/gpu_device.cc:1720] Found device 0 with properties: \r\n",
      "pciBusID: 0000:00:04.0 name: Tesla P100-PCIE-16GB computeCapability: 6.0\r\n",
      "coreClock: 1.3285GHz coreCount: 56 deviceMemorySize: 15.90GiB deviceMemoryBandwidth: 681.88GiB/s\r\n",
      "2022-09-18 13:15:33.285583: I tensorflow/stream_executor/platform/default/dso_loader.cc:49] Successfully opened dynamic library libcudart.so.11.0\r\n",
      "2022-09-18 13:15:33.290943: I tensorflow/stream_executor/platform/default/dso_loader.cc:49] Successfully opened dynamic library libcublas.so.11\r\n",
      "2022-09-18 13:15:33.291053: I tensorflow/stream_executor/platform/default/dso_loader.cc:49] Successfully opened dynamic library libcublasLt.so.11\r\n",
      "2022-09-18 13:15:33.293272: I tensorflow/stream_executor/platform/default/dso_loader.cc:49] Successfully opened dynamic library libcufft.so.10\r\n",
      "2022-09-18 13:15:33.293815: I tensorflow/stream_executor/platform/default/dso_loader.cc:49] Successfully opened dynamic library libcurand.so.10\r\n",
      "2022-09-18 13:15:33.298777: I tensorflow/stream_executor/platform/default/dso_loader.cc:49] Successfully opened dynamic library libcusolver.so.10\r\n",
      "2022-09-18 13:15:33.300199: I tensorflow/stream_executor/platform/default/dso_loader.cc:49] Successfully opened dynamic library libcusparse.so.11\r\n",
      "2022-09-18 13:15:33.300668: I tensorflow/stream_executor/platform/default/dso_loader.cc:49] Successfully opened dynamic library libcudnn.so.8\r\n",
      "2022-09-18 13:15:33.300922: I tensorflow/stream_executor/cuda/cuda_gpu_executor.cc:941] successful NUMA node read from SysFS had negative value (-1), but there must be at least one NUMA node, so returning NUMA node zero\r\n",
      "2022-09-18 13:15:33.304967: I tensorflow/stream_executor/cuda/cuda_gpu_executor.cc:941] successful NUMA node read from SysFS had negative value (-1), but there must be at least one NUMA node, so returning NUMA node zero\r\n",
      "2022-09-18 13:15:33.308722: I tensorflow/core/common_runtime/gpu/gpu_device.cc:1862] Adding visible gpu devices: 0\r\n",
      "2022-09-18 13:15:33.309205: I tensorflow/core/platform/cpu_feature_guard.cc:142] This TensorFlow binary is optimized with oneAPI Deep Neural Network Library (oneDNN) to use the following CPU instructions in performance-critical operations:  AVX2 FMA\r\n",
      "To enable them in other operations, rebuild TensorFlow with the appropriate compiler flags.\r\n",
      "2022-09-18 13:15:33.309490: I tensorflow/compiler/jit/xla_gpu_device.cc:99] Not creating XLA devices, tf_xla_enable_xla_devices not set\r\n",
      "2022-09-18 13:15:33.309749: I tensorflow/stream_executor/cuda/cuda_gpu_executor.cc:941] successful NUMA node read from SysFS had negative value (-1), but there must be at least one NUMA node, so returning NUMA node zero\r\n",
      "2022-09-18 13:15:33.313541: I tensorflow/core/common_runtime/gpu/gpu_device.cc:1720] Found device 0 with properties: \r\n",
      "pciBusID: 0000:00:04.0 name: Tesla P100-PCIE-16GB computeCapability: 6.0\r\n",
      "coreClock: 1.3285GHz coreCount: 56 deviceMemorySize: 15.90GiB deviceMemoryBandwidth: 681.88GiB/s\r\n",
      "2022-09-18 13:15:33.313633: I tensorflow/stream_executor/platform/default/dso_loader.cc:49] Successfully opened dynamic library libcudart.so.11.0\r\n",
      "2022-09-18 13:15:33.313720: I tensorflow/stream_executor/platform/default/dso_loader.cc:49] Successfully opened dynamic library libcublas.so.11\r\n",
      "2022-09-18 13:15:33.313788: I tensorflow/stream_executor/platform/default/dso_loader.cc:49] Successfully opened dynamic library libcublasLt.so.11\r\n",
      "2022-09-18 13:15:33.313860: I tensorflow/stream_executor/platform/default/dso_loader.cc:49] Successfully opened dynamic library libcufft.so.10\r\n",
      "2022-09-18 13:15:33.313961: I tensorflow/stream_executor/platform/default/dso_loader.cc:49] Successfully opened dynamic library libcurand.so.10\r\n",
      "2022-09-18 13:15:33.314032: I tensorflow/stream_executor/platform/default/dso_loader.cc:49] Successfully opened dynamic library libcusolver.so.10\r\n",
      "2022-09-18 13:15:33.314161: I tensorflow/stream_executor/platform/default/dso_loader.cc:49] Successfully opened dynamic library libcusparse.so.11\r\n",
      "2022-09-18 13:15:33.314249: I tensorflow/stream_executor/platform/default/dso_loader.cc:49] Successfully opened dynamic library libcudnn.so.8\r\n",
      "2022-09-18 13:15:33.314475: I tensorflow/stream_executor/cuda/cuda_gpu_executor.cc:941] successful NUMA node read from SysFS had negative value (-1), but there must be at least one NUMA node, so returning NUMA node zero\r\n",
      "2022-09-18 13:15:33.318604: I tensorflow/stream_executor/cuda/cuda_gpu_executor.cc:941] successful NUMA node read from SysFS had negative value (-1), but there must be at least one NUMA node, so returning NUMA node zero\r\n",
      "2022-09-18 13:15:33.322907: I tensorflow/core/common_runtime/gpu/gpu_device.cc:1862] Adding visible gpu devices: 0\r\n",
      "2022-09-18 13:15:33.323009: I tensorflow/stream_executor/platform/default/dso_loader.cc:49] Successfully opened dynamic library libcudart.so.11.0\r\n",
      "2022-09-18 13:15:34.242707: I tensorflow/core/common_runtime/gpu/gpu_device.cc:1261] Device interconnect StreamExecutor with strength 1 edge matrix:\r\n",
      "2022-09-18 13:15:34.242807: I tensorflow/core/common_runtime/gpu/gpu_device.cc:1267]      0 \r\n",
      "2022-09-18 13:15:34.242868: I tensorflow/core/common_runtime/gpu/gpu_device.cc:1280] 0:   N \r\n",
      "2022-09-18 13:15:34.243310: I tensorflow/stream_executor/cuda/cuda_gpu_executor.cc:941] successful NUMA node read from SysFS had negative value (-1), but there must be at least one NUMA node, so returning NUMA node zero\r\n",
      "2022-09-18 13:15:34.247665: I tensorflow/stream_executor/cuda/cuda_gpu_executor.cc:941] successful NUMA node read from SysFS had negative value (-1), but there must be at least one NUMA node, so returning NUMA node zero\r\n",
      "2022-09-18 13:15:34.252594: I tensorflow/stream_executor/cuda/cuda_gpu_executor.cc:941] successful NUMA node read from SysFS had negative value (-1), but there must be at least one NUMA node, so returning NUMA node zero\r\n",
      "2022-09-18 13:15:34.257291: I tensorflow/core/common_runtime/gpu/gpu_device.cc:1406] Created TensorFlow device (/job:localhost/replica:0/task:0/device:GPU:0 with 14957 MB memory) -> physical GPU (device: 0, name: Tesla P100-PCIE-16GB, pci bus id: 0000:00:04.0, compute capability: 6.0)\r\n",
      "embedding shape: (None, 2816) up1 shape: (None, 20, 20, 2816), up2 shape: (None, 20, 20, 704)\r\n",
      "up3 shape: (None, 40, 40, 248), up4 shape: (None, 80, 80, 88), up5 shape: (None, 160, 160, 56), up6 shape: (None, 320, 320, 32)\r\n",
      "dec0 shape: (None, 20, 20, 640), dec1 shape: (None, 40, 40, 352), dec2 shape: (None, 80, 80, 112), dec3 shape: (None, 160, 160, 64), dec4 shape: (None, 320, 320, 64)\r\n",
      "dec_fpn shape: (None, 320, 320, 192)\r\n",
      "Loading pretrained weights...\r\n",
      "embedding shape: (None, 2816) up1 shape: (None, 20, 20, 2816), up2 shape: (None, 20, 20, 704)\r\n",
      "up3 shape: (None, 40, 40, 248), up4 shape: (None, 80, 80, 88), up5 shape: (None, 160, 160, 56), up6 shape: (None, 320, 320, 32)\r\n",
      "dec0 shape: (None, 20, 20, 640), dec1 shape: (None, 40, 40, 352), dec2 shape: (None, 80, 80, 112), dec3 shape: (None, 160, 160, 64), dec4 shape: (None, 320, 320, 64)\r\n",
      "dec_fpn shape: (None, 320, 320, 192)\r\n",
      "Loading pretrained weights...\r\n",
      "embedding shape: (None, 2816) up1 shape: (None, 20, 20, 2816), up2 shape: (None, 20, 20, 704)\r\n",
      "up3 shape: (None, 40, 40, 248), up4 shape: (None, 80, 80, 88), up5 shape: (None, 160, 160, 56), up6 shape: (None, 320, 320, 32)\r\n",
      "dec0 shape: (None, 20, 20, 640), dec1 shape: (None, 40, 40, 352), dec2 shape: (None, 80, 80, 112), dec3 shape: (None, 160, 160, 64), dec4 shape: (None, 320, 320, 64)\r\n",
      "dec_fpn shape: (None, 320, 320, 192)\r\n",
      "Loading pretrained weights...\r\n",
      "embedding shape: (None, 2816) up1 shape: (None, 20, 20, 2816), up2 shape: (None, 20, 20, 704)\r\n",
      "up3 shape: (None, 40, 40, 248), up4 shape: (None, 80, 80, 88), up5 shape: (None, 160, 160, 56), up6 shape: (None, 320, 320, 32)\r\n",
      "dec0 shape: (None, 20, 20, 640), dec1 shape: (None, 40, 40, 352), dec2 shape: (None, 80, 80, 112), dec3 shape: (None, 160, 160, 64), dec4 shape: (None, 320, 320, 64)\r\n",
      "dec_fpn shape: (None, 320, 320, 192)\r\n",
      "Loading pretrained weights...\r\n",
      "  0%|          | 0/1 [00:00<?, ?it/s]\r\n",
      "2022-09-18 13:17:08.159161: I tensorflow/compiler/mlir/mlir_graph_optimization_pass.cc:116] None of the MLIR optimization passes are enabled (registered 2)\r\n",
      "2022-09-18 13:17:08.160277: I tensorflow/core/platform/profile_utils/cpu_utils.cc:112] CPU Frequency: 2200000000 Hz\r\n",
      "2022-09-18 13:17:17.833407: I tensorflow/stream_executor/platform/default/dso_loader.cc:49] Successfully opened dynamic library libcudnn.so.8\r\n",
      "2022-09-18 13:17:19.777642: I tensorflow/stream_executor/platform/default/dso_loader.cc:49] Successfully opened dynamic library libcublas.so.11\r\n",
      "2022-09-18 13:17:20.075741: I tensorflow/stream_executor/platform/default/dso_loader.cc:49] Successfully opened dynamic library libcublasLt.so.11\r\n"
     ]
    }
   ],
   "source": [
    "!python code3.py"
   ]
  },
  {
   "cell_type": "code",
   "execution_count": 11,
   "id": "ac8f2a01",
   "metadata": {
    "execution": {
     "iopub.execute_input": "2022-09-18T13:17:54.542834Z",
     "iopub.status.busy": "2022-09-18T13:17:54.540322Z",
     "iopub.status.idle": "2022-09-18T13:17:54.543628Z",
     "shell.execute_reply": "2022-09-18T13:17:54.544182Z",
     "shell.execute_reply.started": "2022-09-18T12:57:06.968431Z"
    },
    "papermill": {
     "duration": 0.058076,
     "end_time": "2022-09-18T13:17:54.544357",
     "exception": false,
     "start_time": "2022-09-18T13:17:54.486281",
     "status": "completed"
    },
    "tags": []
   },
   "outputs": [],
   "source": [
    "code4 = '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'"
   ]
  },
  {
   "cell_type": "code",
   "execution_count": 12,
   "id": "27bfba5c",
   "metadata": {
    "execution": {
     "iopub.execute_input": "2022-09-18T13:17:54.630758Z",
     "iopub.status.busy": "2022-09-18T13:17:54.628660Z",
     "iopub.status.idle": "2022-09-18T13:17:54.634697Z",
     "shell.execute_reply": "2022-09-18T13:17:54.635273Z",
     "shell.execute_reply.started": "2022-09-18T12:57:34.193973Z"
    },
    "papermill": {
     "duration": 0.051345,
     "end_time": "2022-09-18T13:17:54.635431",
     "exception": false,
     "start_time": "2022-09-18T13:17:54.584086",
     "status": "completed"
    },
    "tags": []
   },
   "outputs": [
    {
     "data": {
      "text/plain": [
       "11548"
      ]
     },
     "execution_count": 12,
     "metadata": {},
     "output_type": "execute_result"
    }
   ],
   "source": [
    "path = 'code4.py'\n",
    "path = Path(path)\n",
    "path.write_bytes(base64.b64decode(code4))"
   ]
  },
  {
   "cell_type": "code",
   "execution_count": 13,
   "id": "0914f636",
   "metadata": {
    "execution": {
     "iopub.execute_input": "2022-09-18T13:17:54.728462Z",
     "iopub.status.busy": "2022-09-18T13:17:54.727788Z",
     "iopub.status.idle": "2022-09-18T13:20:19.800377Z",
     "shell.execute_reply": "2022-09-18T13:20:19.799466Z",
     "shell.execute_reply.started": "2022-09-18T12:58:09.907525Z"
    },
    "papermill": {
     "duration": 145.124858,
     "end_time": "2022-09-18T13:20:19.800565",
     "exception": false,
     "start_time": "2022-09-18T13:17:54.675707",
     "status": "completed"
    },
    "tags": []
   },
   "outputs": [
    {
     "name": "stdout",
     "output_type": "stream",
     "text": [
      "2022-09-18 13:17:56.486088: I tensorflow/stream_executor/platform/default/dso_loader.cc:49] Successfully opened dynamic library libcudart.so.11.0\r\n",
      "MEAN: [0.16183016 0.18965785 0.1697808 ], STD: [0.1697331  0.19511677 0.175394  ]\r\n",
      "Running on GPU\r\n",
      "REPLICAS: 1\r\n",
      "2022-09-18 13:18:00.251250: I tensorflow/compiler/jit/xla_cpu_device.cc:41] Not creating XLA devices, tf_xla_enable_xla_devices not set\r\n",
      "2022-09-18 13:18:00.252745: I tensorflow/stream_executor/platform/default/dso_loader.cc:49] Successfully opened dynamic library libcuda.so.1\r\n",
      "2022-09-18 13:18:00.337827: I tensorflow/stream_executor/cuda/cuda_gpu_executor.cc:941] successful NUMA node read from SysFS had negative value (-1), but there must be at least one NUMA node, so returning NUMA node zero\r\n",
      "2022-09-18 13:18:00.341646: I tensorflow/core/common_runtime/gpu/gpu_device.cc:1720] Found device 0 with properties: \r\n",
      "pciBusID: 0000:00:04.0 name: Tesla P100-PCIE-16GB computeCapability: 6.0\r\n",
      "coreClock: 1.3285GHz coreCount: 56 deviceMemorySize: 15.90GiB deviceMemoryBandwidth: 681.88GiB/s\r\n",
      "2022-09-18 13:18:00.341720: I tensorflow/stream_executor/platform/default/dso_loader.cc:49] Successfully opened dynamic library libcudart.so.11.0\r\n",
      "2022-09-18 13:18:00.346709: I tensorflow/stream_executor/platform/default/dso_loader.cc:49] Successfully opened dynamic library libcublas.so.11\r\n",
      "2022-09-18 13:18:00.346839: I tensorflow/stream_executor/platform/default/dso_loader.cc:49] Successfully opened dynamic library libcublasLt.so.11\r\n",
      "2022-09-18 13:18:00.348858: I tensorflow/stream_executor/platform/default/dso_loader.cc:49] Successfully opened dynamic library libcufft.so.10\r\n",
      "2022-09-18 13:18:00.349427: I tensorflow/stream_executor/platform/default/dso_loader.cc:49] Successfully opened dynamic library libcurand.so.10\r\n",
      "2022-09-18 13:18:00.354256: I tensorflow/stream_executor/platform/default/dso_loader.cc:49] Successfully opened dynamic library libcusolver.so.10\r\n",
      "2022-09-18 13:18:00.355359: I tensorflow/stream_executor/platform/default/dso_loader.cc:49] Successfully opened dynamic library libcusparse.so.11\r\n",
      "2022-09-18 13:18:00.355821: I tensorflow/stream_executor/platform/default/dso_loader.cc:49] Successfully opened dynamic library libcudnn.so.8\r\n",
      "2022-09-18 13:18:00.356038: I tensorflow/stream_executor/cuda/cuda_gpu_executor.cc:941] successful NUMA node read from SysFS had negative value (-1), but there must be at least one NUMA node, so returning NUMA node zero\r\n",
      "2022-09-18 13:18:00.359882: I tensorflow/stream_executor/cuda/cuda_gpu_executor.cc:941] successful NUMA node read from SysFS had negative value (-1), but there must be at least one NUMA node, so returning NUMA node zero\r\n",
      "2022-09-18 13:18:00.363901: I tensorflow/core/common_runtime/gpu/gpu_device.cc:1862] Adding visible gpu devices: 0\r\n",
      "2022-09-18 13:18:00.364496: I tensorflow/core/platform/cpu_feature_guard.cc:142] This TensorFlow binary is optimized with oneAPI Deep Neural Network Library (oneDNN) to use the following CPU instructions in performance-critical operations:  AVX2 FMA\r\n",
      "To enable them in other operations, rebuild TensorFlow with the appropriate compiler flags.\r\n",
      "2022-09-18 13:18:00.364867: I tensorflow/compiler/jit/xla_gpu_device.cc:99] Not creating XLA devices, tf_xla_enable_xla_devices not set\r\n",
      "2022-09-18 13:18:00.365149: I tensorflow/stream_executor/cuda/cuda_gpu_executor.cc:941] successful NUMA node read from SysFS had negative value (-1), but there must be at least one NUMA node, so returning NUMA node zero\r\n",
      "2022-09-18 13:18:00.368984: I tensorflow/core/common_runtime/gpu/gpu_device.cc:1720] Found device 0 with properties: \r\n",
      "pciBusID: 0000:00:04.0 name: Tesla P100-PCIE-16GB computeCapability: 6.0\r\n",
      "coreClock: 1.3285GHz coreCount: 56 deviceMemorySize: 15.90GiB deviceMemoryBandwidth: 681.88GiB/s\r\n",
      "2022-09-18 13:18:00.369054: I tensorflow/stream_executor/platform/default/dso_loader.cc:49] Successfully opened dynamic library libcudart.so.11.0\r\n",
      "2022-09-18 13:18:00.369141: I tensorflow/stream_executor/platform/default/dso_loader.cc:49] Successfully opened dynamic library libcublas.so.11\r\n",
      "2022-09-18 13:18:00.369210: I tensorflow/stream_executor/platform/default/dso_loader.cc:49] Successfully opened dynamic library libcublasLt.so.11\r\n",
      "2022-09-18 13:18:00.369281: I tensorflow/stream_executor/platform/default/dso_loader.cc:49] Successfully opened dynamic library libcufft.so.10\r\n",
      "2022-09-18 13:18:00.369380: I tensorflow/stream_executor/platform/default/dso_loader.cc:49] Successfully opened dynamic library libcurand.so.10\r\n",
      "2022-09-18 13:18:00.369453: I tensorflow/stream_executor/platform/default/dso_loader.cc:49] Successfully opened dynamic library libcusolver.so.10\r\n",
      "2022-09-18 13:18:00.369543: I tensorflow/stream_executor/platform/default/dso_loader.cc:49] Successfully opened dynamic library libcusparse.so.11\r\n",
      "2022-09-18 13:18:00.369635: I tensorflow/stream_executor/platform/default/dso_loader.cc:49] Successfully opened dynamic library libcudnn.so.8\r\n",
      "2022-09-18 13:18:00.369818: I tensorflow/stream_executor/cuda/cuda_gpu_executor.cc:941] successful NUMA node read from SysFS had negative value (-1), but there must be at least one NUMA node, so returning NUMA node zero\r\n",
      "2022-09-18 13:18:00.373758: I tensorflow/stream_executor/cuda/cuda_gpu_executor.cc:941] successful NUMA node read from SysFS had negative value (-1), but there must be at least one NUMA node, so returning NUMA node zero\r\n",
      "2022-09-18 13:18:00.378183: I tensorflow/core/common_runtime/gpu/gpu_device.cc:1862] Adding visible gpu devices: 0\r\n",
      "2022-09-18 13:18:00.378320: I tensorflow/stream_executor/platform/default/dso_loader.cc:49] Successfully opened dynamic library libcudart.so.11.0\r\n",
      "2022-09-18 13:18:01.286347: I tensorflow/core/common_runtime/gpu/gpu_device.cc:1261] Device interconnect StreamExecutor with strength 1 edge matrix:\r\n",
      "2022-09-18 13:18:01.286461: I tensorflow/core/common_runtime/gpu/gpu_device.cc:1267]      0 \r\n",
      "2022-09-18 13:18:01.286523: I tensorflow/core/common_runtime/gpu/gpu_device.cc:1280] 0:   N \r\n",
      "2022-09-18 13:18:01.286942: I tensorflow/stream_executor/cuda/cuda_gpu_executor.cc:941] successful NUMA node read from SysFS had negative value (-1), but there must be at least one NUMA node, so returning NUMA node zero\r\n",
      "2022-09-18 13:18:01.291001: I tensorflow/stream_executor/cuda/cuda_gpu_executor.cc:941] successful NUMA node read from SysFS had negative value (-1), but there must be at least one NUMA node, so returning NUMA node zero\r\n",
      "2022-09-18 13:18:01.295065: I tensorflow/stream_executor/cuda/cuda_gpu_executor.cc:941] successful NUMA node read from SysFS had negative value (-1), but there must be at least one NUMA node, so returning NUMA node zero\r\n",
      "2022-09-18 13:18:01.298836: I tensorflow/core/common_runtime/gpu/gpu_device.cc:1406] Created TensorFlow device (/job:localhost/replica:0/task:0/device:GPU:0 with 14957 MB memory) -> physical GPU (device: 0, name: Tesla P100-PCIE-16GB, pci bus id: 0000:00:04.0, compute capability: 6.0)\r\n",
      "embedding shape: (None, 2816) up1 shape: (None, 20, 20, 2816), up2 shape: (None, 20, 20, 704)\r\n",
      "up3 shape: (None, 40, 40, 248), up4 shape: (None, 80, 80, 88), up5 shape: (None, 160, 160, 56), up6 shape: (None, 320, 320, 32)\r\n",
      "dec0 shape: (None, 20, 20, 640), dec1 shape: (None, 40, 40, 352), dec2 shape: (None, 80, 80, 112), dec3 shape: (None, 160, 160, 64), dec4 shape: (None, 320, 320, 64)\r\n",
      "dec_fpn shape: (None, 320, 320, 192)\r\n",
      "Loading pretrained weights...\r\n",
      "embedding shape: (None, 2816) up1 shape: (None, 20, 20, 2816), up2 shape: (None, 20, 20, 704)\r\n",
      "up3 shape: (None, 40, 40, 248), up4 shape: (None, 80, 80, 88), up5 shape: (None, 160, 160, 56), up6 shape: (None, 320, 320, 32)\r\n",
      "dec0 shape: (None, 20, 20, 640), dec1 shape: (None, 40, 40, 352), dec2 shape: (None, 80, 80, 112), dec3 shape: (None, 160, 160, 64), dec4 shape: (None, 320, 320, 64)\r\n",
      "dec_fpn shape: (None, 320, 320, 192)\r\n",
      "Loading pretrained weights...\r\n",
      "embedding shape: (None, 2816) up1 shape: (None, 20, 20, 2816), up2 shape: (None, 20, 20, 704)\r\n",
      "up3 shape: (None, 40, 40, 248), up4 shape: (None, 80, 80, 88), up5 shape: (None, 160, 160, 56), up6 shape: (None, 320, 320, 32)\r\n",
      "dec0 shape: (None, 20, 20, 640), dec1 shape: (None, 40, 40, 352), dec2 shape: (None, 80, 80, 112), dec3 shape: (None, 160, 160, 64), dec4 shape: (None, 320, 320, 64)\r\n",
      "dec_fpn shape: (None, 320, 320, 192)\r\n",
      "Loading pretrained weights...\r\n",
      "embedding shape: (None, 2816) up1 shape: (None, 20, 20, 2816), up2 shape: (None, 20, 20, 704)\r\n",
      "up3 shape: (None, 40, 40, 248), up4 shape: (None, 80, 80, 88), up5 shape: (None, 160, 160, 56), up6 shape: (None, 320, 320, 32)\r\n",
      "dec0 shape: (None, 20, 20, 640), dec1 shape: (None, 40, 40, 352), dec2 shape: (None, 80, 80, 112), dec3 shape: (None, 160, 160, 64), dec4 shape: (None, 320, 320, 64)\r\n",
      "dec_fpn shape: (None, 320, 320, 192)\r\n",
      "Loading pretrained weights...\r\n",
      "  0%|          | 0/1 [00:00<?, ?it/s]\r\n",
      "2022-09-18 13:19:33.873722: I tensorflow/compiler/mlir/mlir_graph_optimization_pass.cc:116] None of the MLIR optimization passes are enabled (registered 2)\r\n",
      "2022-09-18 13:19:33.874556: I tensorflow/core/platform/profile_utils/cpu_utils.cc:112] CPU Frequency: 2200000000 Hz\r\n",
      "2022-09-18 13:19:43.215070: I tensorflow/stream_executor/platform/default/dso_loader.cc:49] Successfully opened dynamic library libcudnn.so.8\r\n",
      "2022-09-18 13:19:44.884799: I tensorflow/stream_executor/platform/default/dso_loader.cc:49] Successfully opened dynamic library libcublas.so.11\r\n",
      "2022-09-18 13:19:45.229725: I tensorflow/stream_executor/platform/default/dso_loader.cc:49] Successfully opened dynamic library libcublasLt.so.11\r\n"
     ]
    }
   ],
   "source": [
    "!python code4.py"
   ]
  },
  {
   "cell_type": "code",
   "execution_count": 14,
   "id": "34655a60",
   "metadata": {
    "execution": {
     "iopub.execute_input": "2022-09-18T13:20:19.901336Z",
     "iopub.status.busy": "2022-09-18T13:20:19.900220Z",
     "iopub.status.idle": "2022-09-18T13:20:19.903371Z",
     "shell.execute_reply": "2022-09-18T13:20:19.902884Z",
     "shell.execute_reply.started": "2022-09-18T13:06:56.489996Z"
    },
    "papermill": {
     "duration": 0.055992,
     "end_time": "2022-09-18T13:20:19.903501",
     "exception": false,
     "start_time": "2022-09-18T13:20:19.847509",
     "status": "completed"
    },
    "tags": []
   },
   "outputs": [],
   "source": [
    "code5 = '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'"
   ]
  },
  {
   "cell_type": "code",
   "execution_count": 15,
   "id": "a0c38422",
   "metadata": {
    "execution": {
     "iopub.execute_input": "2022-09-18T13:20:20.000923Z",
     "iopub.status.busy": "2022-09-18T13:20:19.999775Z",
     "iopub.status.idle": "2022-09-18T13:20:20.004664Z",
     "shell.execute_reply": "2022-09-18T13:20:20.004115Z",
     "shell.execute_reply.started": "2022-09-18T13:07:17.443257Z"
    },
    "papermill": {
     "duration": 0.057726,
     "end_time": "2022-09-18T13:20:20.004793",
     "exception": false,
     "start_time": "2022-09-18T13:20:19.947067",
     "status": "completed"
    },
    "tags": []
   },
   "outputs": [
    {
     "data": {
      "text/plain": [
       "4796"
      ]
     },
     "execution_count": 15,
     "metadata": {},
     "output_type": "execute_result"
    }
   ],
   "source": [
    "path = 'code5.py'\n",
    "path = Path(path)\n",
    "path.write_bytes(base64.b64decode(code5))"
   ]
  },
  {
   "cell_type": "code",
   "execution_count": 16,
   "id": "d173b324",
   "metadata": {
    "execution": {
     "iopub.execute_input": "2022-09-18T13:20:20.112173Z",
     "iopub.status.busy": "2022-09-18T13:20:20.103594Z",
     "iopub.status.idle": "2022-09-18T13:20:27.683185Z",
     "shell.execute_reply": "2022-09-18T13:20:27.682539Z",
     "shell.execute_reply.started": "2022-09-18T13:07:46.510708Z"
    },
    "papermill": {
     "duration": 7.631914,
     "end_time": "2022-09-18T13:20:27.683357",
     "exception": false,
     "start_time": "2022-09-18T13:20:20.051443",
     "status": "completed"
    },
    "tags": []
   },
   "outputs": [
    {
     "name": "stdout",
     "output_type": "stream",
     "text": [
      "2022-09-18 13:20:21.991970: I tensorflow/stream_executor/platform/default/dso_loader.cc:49] Successfully opened dynamic library libcudart.so.11.0\r\n",
      "  0%|          | 0/1 [00:00<?, ?it/s]\r\n"
     ]
    }
   ],
   "source": [
    "!python code5.py"
   ]
  },
  {
   "cell_type": "code",
   "execution_count": 17,
   "id": "6ba94bc4",
   "metadata": {
    "execution": {
     "iopub.execute_input": "2022-09-18T13:20:27.789951Z",
     "iopub.status.busy": "2022-09-18T13:20:27.788854Z",
     "iopub.status.idle": "2022-09-18T13:20:29.302087Z",
     "shell.execute_reply": "2022-09-18T13:20:29.303470Z",
     "shell.execute_reply.started": "2022-09-18T13:09:44.112034Z"
    },
    "papermill": {
     "duration": 1.57145,
     "end_time": "2022-09-18T13:20:29.303773",
     "exception": false,
     "start_time": "2022-09-18T13:20:27.732323",
     "status": "completed"
    },
    "tags": []
   },
   "outputs": [
    {
     "data": {
      "text/html": [
       "<div>\n",
       "<style scoped>\n",
       "    .dataframe tbody tr th:only-of-type {\n",
       "        vertical-align: middle;\n",
       "    }\n",
       "\n",
       "    .dataframe tbody tr th {\n",
       "        vertical-align: top;\n",
       "    }\n",
       "\n",
       "    .dataframe thead th {\n",
       "        text-align: right;\n",
       "    }\n",
       "</style>\n",
       "<table border=\"1\" class=\"dataframe\">\n",
       "  <thead>\n",
       "    <tr style=\"text-align: right;\">\n",
       "      <th></th>\n",
       "      <th>id</th>\n",
       "      <th>rle</th>\n",
       "    </tr>\n",
       "  </thead>\n",
       "  <tbody>\n",
       "    <tr>\n",
       "      <th>0</th>\n",
       "      <td>10078</td>\n",
       "      <td>398 128 2421 128 4444 128 6467 128 8490 128 10...</td>\n",
       "    </tr>\n",
       "  </tbody>\n",
       "</table>\n",
       "</div>"
      ],
      "text/plain": [
       "      id                                                rle\n",
       "0  10078  398 128 2421 128 4444 128 6467 128 8490 128 10..."
      ]
     },
     "execution_count": 17,
     "metadata": {},
     "output_type": "execute_result"
    }
   ],
   "source": [
    "import pandas as pd\n",
    "\n",
    "sub = pd.read_csv('submission.csv')\n",
    "!rm -rf ./*\n",
    "sub.to_csv('submission.csv', index=False)\n",
    "sub = pd.read_csv('submission.csv')\n",
    "sub.head()"
   ]
  },
  {
   "cell_type": "code",
   "execution_count": null,
   "id": "0dc19a16",
   "metadata": {
    "papermill": {
     "duration": 0.078158,
     "end_time": "2022-09-18T13:20:29.463494",
     "exception": false,
     "start_time": "2022-09-18T13:20:29.385336",
     "status": "completed"
    },
    "tags": []
   },
   "outputs": [],
   "source": []
  }
 ],
 "metadata": {
  "kernelspec": {
   "display_name": "Python 3",
   "language": "python",
   "name": "python3"
  },
  "language_info": {
   "codemirror_mode": {
    "name": "ipython",
    "version": 3
   },
   "file_extension": ".py",
   "mimetype": "text/x-python",
   "name": "python",
   "nbconvert_exporter": "python",
   "pygments_lexer": "ipython3",
   "version": "3.7.10"
  },
  "papermill": {
   "default_parameters": {},
   "duration": 619.976814,
   "end_time": "2022-09-18T13:20:30.781742",
   "environment_variables": {},
   "exception": null,
   "input_path": "__notebook__.ipynb",
   "output_path": "__notebook__.ipynb",
   "parameters": {},
   "start_time": "2022-09-18T13:10:10.804928",
   "version": "2.3.3"
  }
 },
 "nbformat": 4,
 "nbformat_minor": 5
}
