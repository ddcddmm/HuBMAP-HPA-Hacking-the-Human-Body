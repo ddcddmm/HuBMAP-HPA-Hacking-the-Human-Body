{
 "cells": [
  {
   "cell_type": "code",
   "execution_count": 1,
   "id": "cb5b122b",
   "metadata": {
    "execution": {
     "iopub.execute_input": "2022-09-22T12:25:06.354213Z",
     "iopub.status.busy": "2022-09-22T12:25:06.352622Z",
     "iopub.status.idle": "2022-09-22T12:25:06.438167Z",
     "shell.execute_reply": "2022-09-22T12:25:06.437574Z",
     "shell.execute_reply.started": "2022-09-22T12:07:41.795292Z"
    },
    "papermill": {
     "duration": 0.105195,
     "end_time": "2022-09-22T12:25:06.438325",
     "exception": false,
     "start_time": "2022-09-22T12:25:06.333130",
     "status": "completed"
    },
    "tags": []
   },
   "outputs": [],
   "source": [
    "import os\n",
    "from pathlib import Path\n",
    "import base64"
   ]
  },
  {
   "cell_type": "code",
   "execution_count": 2,
   "id": "2b04bec8",
   "metadata": {
    "execution": {
     "iopub.execute_input": "2022-09-22T12:25:06.471571Z",
     "iopub.status.busy": "2022-09-22T12:25:06.470769Z",
     "iopub.status.idle": "2022-09-22T12:25:33.380333Z",
     "shell.execute_reply": "2022-09-22T12:25:33.379613Z",
     "shell.execute_reply.started": "2022-09-22T12:08:23.198256Z"
    },
    "papermill": {
     "duration": 26.926586,
     "end_time": "2022-09-22T12:25:33.380502",
     "exception": false,
     "start_time": "2022-09-22T12:25:06.453916",
     "status": "completed"
    },
    "tags": []
   },
   "outputs": [
    {
     "name": "stdout",
     "output_type": "stream",
     "text": [
      "Processing /kaggle/input/einops-030/einops-0.3.0-py2.py3-none-any.whl\n",
      "Installing collected packages: einops\n",
      "Successfully installed einops-0.3.0\n"
     ]
    },
    {
     "name": "stderr",
     "output_type": "stream",
     "text": [
      "WARNING: Running pip as the 'root' user can result in broken permissions and conflicting behaviour with the system package manager. It is recommended to use a virtual environment instead: https://pip.pypa.io/warnings/venv\n"
     ]
    },
    {
     "data": {
      "text/plain": [
       "0"
      ]
     },
     "execution_count": 2,
     "metadata": {},
     "output_type": "execute_result"
    }
   ],
   "source": [
    "os.system('pip install ../input/einops-030/einops-0.3.0-py2.py3-none-any.whl')"
   ]
  },
  {
   "cell_type": "code",
   "execution_count": 3,
   "id": "afa1a8d5",
   "metadata": {
    "execution": {
     "iopub.execute_input": "2022-09-22T12:25:33.427852Z",
     "iopub.status.busy": "2022-09-22T12:25:33.426777Z",
     "iopub.status.idle": "2022-09-22T12:25:33.428941Z",
     "shell.execute_reply": "2022-09-22T12:25:33.429396Z",
     "shell.execute_reply.started": "2022-09-22T12:08:52.892472Z"
    },
    "papermill": {
     "duration": 0.03222,
     "end_time": "2022-09-22T12:25:33.429553",
     "exception": false,
     "start_time": "2022-09-22T12:25:33.397333",
     "status": "completed"
    },
    "tags": []
   },
   "outputs": [],
   "source": [
    "code1 = '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'"
   ]
  },
  {
   "cell_type": "code",
   "execution_count": 4,
   "id": "e80e20d4",
   "metadata": {
    "execution": {
     "iopub.execute_input": "2022-09-22T12:25:33.465851Z",
     "iopub.status.busy": "2022-09-22T12:25:33.464880Z",
     "iopub.status.idle": "2022-09-22T12:25:33.469762Z",
     "shell.execute_reply": "2022-09-22T12:25:33.469218Z",
     "shell.execute_reply.started": "2022-09-22T12:08:52.913317Z"
    },
    "papermill": {
     "duration": 0.024497,
     "end_time": "2022-09-22T12:25:33.469888",
     "exception": false,
     "start_time": "2022-09-22T12:25:33.445391",
     "status": "completed"
    },
    "tags": []
   },
   "outputs": [
    {
     "data": {
      "text/plain": [
       "17644"
      ]
     },
     "execution_count": 4,
     "metadata": {},
     "output_type": "execute_result"
    }
   ],
   "source": [
    "path = 'code1.py'\n",
    "path = Path(path)\n",
    "path.write_bytes(base64.b64decode(code1))"
   ]
  },
  {
   "cell_type": "code",
   "execution_count": 5,
   "id": "a74df571",
   "metadata": {
    "execution": {
     "iopub.execute_input": "2022-09-22T12:25:33.507185Z",
     "iopub.status.busy": "2022-09-22T12:25:33.506569Z",
     "iopub.status.idle": "2022-09-22T12:29:53.047786Z",
     "shell.execute_reply": "2022-09-22T12:29:53.048696Z",
     "shell.execute_reply.started": "2022-09-22T12:08:52.945518Z"
    },
    "papermill": {
     "duration": 259.562472,
     "end_time": "2022-09-22T12:29:53.048899",
     "exception": false,
     "start_time": "2022-09-22T12:25:33.486427",
     "status": "completed"
    },
    "tags": []
   },
   "outputs": [
    {
     "name": "stdout",
     "output_type": "stream",
     "text": [
      "2022-09-22 12:25:35.397667: I tensorflow/stream_executor/platform/default/dso_loader.cc:49] Successfully opened dynamic library libcudart.so.11.0\r\n",
      "MEAN: [0.16183016 0.18965785 0.1697808 ], STD: [0.1697331  0.19511677 0.175394  ]\r\n",
      "Running on GPU\r\n",
      "REPLICAS: 1\r\n",
      "2022-09-22 12:25:41.662779: I tensorflow/compiler/jit/xla_cpu_device.cc:41] Not creating XLA devices, tf_xla_enable_xla_devices not set\r\n",
      "2022-09-22 12:25:41.665966: I tensorflow/stream_executor/platform/default/dso_loader.cc:49] Successfully opened dynamic library libcuda.so.1\r\n",
      "2022-09-22 12:25:41.720887: I tensorflow/stream_executor/cuda/cuda_gpu_executor.cc:941] successful NUMA node read from SysFS had negative value (-1), but there must be at least one NUMA node, so returning NUMA node zero\r\n",
      "2022-09-22 12:25:41.722000: I tensorflow/core/common_runtime/gpu/gpu_device.cc:1720] Found device 0 with properties: \r\n",
      "pciBusID: 0000:00:04.0 name: Tesla P100-PCIE-16GB computeCapability: 6.0\r\n",
      "coreClock: 1.3285GHz coreCount: 56 deviceMemorySize: 15.90GiB deviceMemoryBandwidth: 681.88GiB/s\r\n",
      "2022-09-22 12:25:41.722105: I tensorflow/stream_executor/platform/default/dso_loader.cc:49] Successfully opened dynamic library libcudart.so.11.0\r\n",
      "2022-09-22 12:25:41.767623: I tensorflow/stream_executor/platform/default/dso_loader.cc:49] Successfully opened dynamic library libcublas.so.11\r\n",
      "2022-09-22 12:25:41.767845: I tensorflow/stream_executor/platform/default/dso_loader.cc:49] Successfully opened dynamic library libcublasLt.so.11\r\n",
      "2022-09-22 12:25:41.802884: I tensorflow/stream_executor/platform/default/dso_loader.cc:49] Successfully opened dynamic library libcufft.so.10\r\n",
      "2022-09-22 12:25:41.810759: I tensorflow/stream_executor/platform/default/dso_loader.cc:49] Successfully opened dynamic library libcurand.so.10\r\n",
      "2022-09-22 12:25:41.841751: I tensorflow/stream_executor/platform/default/dso_loader.cc:49] Successfully opened dynamic library libcusolver.so.10\r\n",
      "2022-09-22 12:25:41.873753: I tensorflow/stream_executor/platform/default/dso_loader.cc:49] Successfully opened dynamic library libcusparse.so.11\r\n",
      "2022-09-22 12:25:41.876904: I tensorflow/stream_executor/platform/default/dso_loader.cc:49] Successfully opened dynamic library libcudnn.so.8\r\n",
      "2022-09-22 12:25:41.877147: I tensorflow/stream_executor/cuda/cuda_gpu_executor.cc:941] successful NUMA node read from SysFS had negative value (-1), but there must be at least one NUMA node, so returning NUMA node zero\r\n",
      "2022-09-22 12:25:41.878062: I tensorflow/stream_executor/cuda/cuda_gpu_executor.cc:941] successful NUMA node read from SysFS had negative value (-1), but there must be at least one NUMA node, so returning NUMA node zero\r\n",
      "2022-09-22 12:25:41.879675: I tensorflow/core/common_runtime/gpu/gpu_device.cc:1862] Adding visible gpu devices: 0\r\n",
      "2022-09-22 12:25:41.880726: I tensorflow/core/platform/cpu_feature_guard.cc:142] This TensorFlow binary is optimized with oneAPI Deep Neural Network Library (oneDNN) to use the following CPU instructions in performance-critical operations:  AVX2 AVX512F FMA\r\n",
      "To enable them in other operations, rebuild TensorFlow with the appropriate compiler flags.\r\n",
      "2022-09-22 12:25:41.881003: I tensorflow/compiler/jit/xla_gpu_device.cc:99] Not creating XLA devices, tf_xla_enable_xla_devices not set\r\n",
      "2022-09-22 12:25:41.881202: I tensorflow/stream_executor/cuda/cuda_gpu_executor.cc:941] successful NUMA node read from SysFS had negative value (-1), but there must be at least one NUMA node, so returning NUMA node zero\r\n",
      "2022-09-22 12:25:41.881929: I tensorflow/core/common_runtime/gpu/gpu_device.cc:1720] Found device 0 with properties: \r\n",
      "pciBusID: 0000:00:04.0 name: Tesla P100-PCIE-16GB computeCapability: 6.0\r\n",
      "coreClock: 1.3285GHz coreCount: 56 deviceMemorySize: 15.90GiB deviceMemoryBandwidth: 681.88GiB/s\r\n",
      "2022-09-22 12:25:41.881997: I tensorflow/stream_executor/platform/default/dso_loader.cc:49] Successfully opened dynamic library libcudart.so.11.0\r\n",
      "2022-09-22 12:25:41.882070: I tensorflow/stream_executor/platform/default/dso_loader.cc:49] Successfully opened dynamic library libcublas.so.11\r\n",
      "2022-09-22 12:25:41.882107: I tensorflow/stream_executor/platform/default/dso_loader.cc:49] Successfully opened dynamic library libcublasLt.so.11\r\n",
      "2022-09-22 12:25:41.882143: I tensorflow/stream_executor/platform/default/dso_loader.cc:49] Successfully opened dynamic library libcufft.so.10\r\n",
      "2022-09-22 12:25:41.882180: I tensorflow/stream_executor/platform/default/dso_loader.cc:49] Successfully opened dynamic library libcurand.so.10\r\n",
      "2022-09-22 12:25:41.882229: I tensorflow/stream_executor/platform/default/dso_loader.cc:49] Successfully opened dynamic library libcusolver.so.10\r\n",
      "2022-09-22 12:25:41.882278: I tensorflow/stream_executor/platform/default/dso_loader.cc:49] Successfully opened dynamic library libcusparse.so.11\r\n",
      "2022-09-22 12:25:41.882312: I tensorflow/stream_executor/platform/default/dso_loader.cc:49] Successfully opened dynamic library libcudnn.so.8\r\n",
      "2022-09-22 12:25:41.882459: I tensorflow/stream_executor/cuda/cuda_gpu_executor.cc:941] successful NUMA node read from SysFS had negative value (-1), but there must be at least one NUMA node, so returning NUMA node zero\r\n",
      "2022-09-22 12:25:41.883225: I tensorflow/stream_executor/cuda/cuda_gpu_executor.cc:941] successful NUMA node read from SysFS had negative value (-1), but there must be at least one NUMA node, so returning NUMA node zero\r\n",
      "2022-09-22 12:25:41.883868: I tensorflow/core/common_runtime/gpu/gpu_device.cc:1862] Adding visible gpu devices: 0\r\n",
      "2022-09-22 12:25:41.884796: I tensorflow/stream_executor/platform/default/dso_loader.cc:49] Successfully opened dynamic library libcudart.so.11.0\r\n",
      "2022-09-22 12:25:43.505551: I tensorflow/core/common_runtime/gpu/gpu_device.cc:1261] Device interconnect StreamExecutor with strength 1 edge matrix:\r\n",
      "2022-09-22 12:25:43.505606: I tensorflow/core/common_runtime/gpu/gpu_device.cc:1267]      0 \r\n",
      "2022-09-22 12:25:43.505644: I tensorflow/core/common_runtime/gpu/gpu_device.cc:1280] 0:   N \r\n",
      "2022-09-22 12:25:43.508233: I tensorflow/stream_executor/cuda/cuda_gpu_executor.cc:941] successful NUMA node read from SysFS had negative value (-1), but there must be at least one NUMA node, so returning NUMA node zero\r\n",
      "2022-09-22 12:25:43.509183: I tensorflow/stream_executor/cuda/cuda_gpu_executor.cc:941] successful NUMA node read from SysFS had negative value (-1), but there must be at least one NUMA node, so returning NUMA node zero\r\n",
      "2022-09-22 12:25:43.509988: I tensorflow/stream_executor/cuda/cuda_gpu_executor.cc:941] successful NUMA node read from SysFS had negative value (-1), but there must be at least one NUMA node, so returning NUMA node zero\r\n",
      "2022-09-22 12:25:43.510665: I tensorflow/core/common_runtime/gpu/gpu_device.cc:1406] Created TensorFlow device (/job:localhost/replica:0/task:0/device:GPU:0 with 14957 MB memory) -> physical GPU (device: 0, name: Tesla P100-PCIE-16GB, pci bus id: 0000:00:04.0, compute capability: 6.0)\r\n",
      "embedding shape: (None, 2816) up1 shape: (None, 20, 20, 2816), up2 shape: (None, 20, 20, 704)\r\n",
      "up3 shape: (None, 40, 40, 248), up4 shape: (None, 80, 80, 88), up5 shape: (None, 160, 160, 56), up6 shape: (None, 320, 320, 32)\r\n",
      "dec0 shape: (None, 20, 20, 640), dec1 shape: (None, 40, 40, 352), dec2 shape: (None, 80, 80, 112), dec3 shape: (None, 160, 160, 64), dec4 shape: (None, 320, 320, 64)\r\n",
      "dec_fpn shape: (None, 320, 320, 192)\r\n",
      "Loading pretrained weights...\r\n",
      "embedding shape: (None, 2816) up1 shape: (None, 20, 20, 2816), up2 shape: (None, 20, 20, 704)\r\n",
      "up3 shape: (None, 40, 40, 248), up4 shape: (None, 80, 80, 88), up5 shape: (None, 160, 160, 56), up6 shape: (None, 320, 320, 32)\r\n",
      "dec0 shape: (None, 20, 20, 640), dec1 shape: (None, 40, 40, 352), dec2 shape: (None, 80, 80, 112), dec3 shape: (None, 160, 160, 64), dec4 shape: (None, 320, 320, 64)\r\n",
      "dec_fpn shape: (None, 320, 320, 192)\r\n",
      "Loading pretrained weights...\r\n",
      "embedding shape: (None, 2816) up1 shape: (None, 20, 20, 2816), up2 shape: (None, 20, 20, 704)\r\n",
      "up3 shape: (None, 40, 40, 248), up4 shape: (None, 80, 80, 88), up5 shape: (None, 160, 160, 56), up6 shape: (None, 320, 320, 32)\r\n",
      "dec0 shape: (None, 20, 20, 640), dec1 shape: (None, 40, 40, 352), dec2 shape: (None, 80, 80, 112), dec3 shape: (None, 160, 160, 64), dec4 shape: (None, 320, 320, 64)\r\n",
      "dec_fpn shape: (None, 320, 320, 192)\r\n",
      "Loading pretrained weights...\r\n",
      "embedding shape: (None, 2816) up1 shape: (None, 20, 20, 2816), up2 shape: (None, 20, 20, 704)\r\n",
      "up3 shape: (None, 40, 40, 248), up4 shape: (None, 80, 80, 88), up5 shape: (None, 160, 160, 56), up6 shape: (None, 320, 320, 32)\r\n",
      "dec0 shape: (None, 20, 20, 640), dec1 shape: (None, 40, 40, 352), dec2 shape: (None, 80, 80, 112), dec3 shape: (None, 160, 160, 64), dec4 shape: (None, 320, 320, 64)\r\n",
      "dec_fpn shape: (None, 320, 320, 192)\r\n",
      "Loading pretrained weights...\r\n",
      "embedding shape: (None, 2816) up1 shape: (None, 20, 20, 2816), up2 shape: (None, 20, 20, 704)\r\n",
      "up3 shape: (None, 40, 40, 248), up4 shape: (None, 80, 80, 88), up5 shape: (None, 160, 160, 56), up6 shape: (None, 320, 320, 32)\r\n",
      "dec0 shape: (None, 20, 20, 640), dec1 shape: (None, 40, 40, 352), dec2 shape: (None, 80, 80, 112), dec3 shape: (None, 160, 160, 64), dec4 shape: (None, 320, 320, 64)\r\n",
      "dec_fpn shape: (None, 320, 320, 192)\r\n",
      "Loading pretrained weights...\r\n",
      "embedding shape: (None, 2816) up1 shape: (None, 20, 20, 2816), up2 shape: (None, 20, 20, 704)\r\n",
      "up3 shape: (None, 40, 40, 248), up4 shape: (None, 80, 80, 88), up5 shape: (None, 160, 160, 56), up6 shape: (None, 320, 320, 32)\r\n",
      "dec0 shape: (None, 20, 20, 640), dec1 shape: (None, 40, 40, 352), dec2 shape: (None, 80, 80, 112), dec3 shape: (None, 160, 160, 64), dec4 shape: (None, 320, 320, 64)\r\n",
      "dec_fpn shape: (None, 320, 320, 192)\r\n",
      "Loading pretrained weights...\r\n",
      "embedding shape: (None, 2816) up1 shape: (None, 20, 20, 2816), up2 shape: (None, 20, 20, 704)\r\n",
      "up3 shape: (None, 40, 40, 248), up4 shape: (None, 80, 80, 88), up5 shape: (None, 160, 160, 56), up6 shape: (None, 320, 320, 32)\r\n",
      "dec0 shape: (None, 20, 20, 640), dec1 shape: (None, 40, 40, 352), dec2 shape: (None, 80, 80, 112), dec3 shape: (None, 160, 160, 64), dec4 shape: (None, 320, 320, 64)\r\n",
      "dec_fpn shape: (None, 320, 320, 192)\r\n",
      "Loading pretrained weights...\r\n",
      "embedding shape: (None, 2816) up1 shape: (None, 20, 20, 2816), up2 shape: (None, 20, 20, 704)\r\n",
      "up3 shape: (None, 40, 40, 248), up4 shape: (None, 80, 80, 88), up5 shape: (None, 160, 160, 56), up6 shape: (None, 320, 320, 32)\r\n",
      "dec0 shape: (None, 20, 20, 640), dec1 shape: (None, 40, 40, 352), dec2 shape: (None, 80, 80, 112), dec3 shape: (None, 160, 160, 64), dec4 shape: (None, 320, 320, 64)\r\n",
      "dec_fpn shape: (None, 320, 320, 192)\r\n",
      "Loading pretrained weights...\r\n",
      "  0%|          | 0/10 [00:00<?, ?it/s]\r\n",
      "2022-09-22 12:28:17.012541: I tensorflow/compiler/mlir/mlir_graph_optimization_pass.cc:116] None of the MLIR optimization passes are enabled (registered 2)\r\n",
      "2022-09-22 12:28:17.027473: I tensorflow/core/platform/profile_utils/cpu_utils.cc:112] CPU Frequency: 2000179999 Hz\r\n",
      "2022-09-22 12:28:24.751767: I tensorflow/stream_executor/platform/default/dso_loader.cc:49] Successfully opened dynamic library libcudnn.so.8\r\n",
      "2022-09-22 12:28:30.449662: I tensorflow/stream_executor/platform/default/dso_loader.cc:49] Successfully opened dynamic library libcublas.so.11\r\n",
      "2022-09-22 12:28:31.387488: I tensorflow/stream_executor/platform/default/dso_loader.cc:49] Successfully opened dynamic library libcublasLt.so.11\r\n",
      "  0%|          | 0/1 [00:00<?, ?it/s]\r\n"
     ]
    }
   ],
   "source": [
    "!python code1.py"
   ]
  },
  {
   "cell_type": "code",
   "execution_count": 6,
   "id": "e441fddb",
   "metadata": {
    "execution": {
     "iopub.execute_input": "2022-09-22T12:29:53.109214Z",
     "iopub.status.busy": "2022-09-22T12:29:53.101870Z",
     "iopub.status.idle": "2022-09-22T12:29:53.112677Z",
     "shell.execute_reply": "2022-09-22T12:29:53.112163Z",
     "shell.execute_reply.started": "2022-09-22T12:14:10.934769Z"
    },
    "papermill": {
     "duration": 0.039092,
     "end_time": "2022-09-22T12:29:53.112814",
     "exception": false,
     "start_time": "2022-09-22T12:29:53.073722",
     "status": "completed"
    },
    "tags": []
   },
   "outputs": [],
   "source": [
    "code2 = 'aW1wb3J0IG9zLGdjCmltcG9ydCBzeXMKIwpzeXMucGF0aC5hcHBlbmQoJy4uL2lucHV0L2JydWNlY3RodWJtYXAvQnJ1Y2UtQ29hdC1UZXN0L2JydWNlL2NvYXQnKQpzeXMucGF0aC5hcHBlbmQoJy4uL2lucHV0L3RpbW0tcHl0b3JjaC1pbWFnZS1tb2RlbHMvcHl0b3JjaC1pbWFnZS1tb2RlbHMtbWFzdGVyJykKc3lzLnBhdGguYXBwZW5kKCIuLi9pbnB1dC9wcmV0cmFpbmVkLW1vZGVscy1weXRvcmNoIikKc3lzLnBhdGguYXBwZW5kKCIuLi9pbnB1dC9lZmZpY2llbnRuZXQtcHl0b3JjaCIpCnN5cy5wYXRoLmFwcGVuZCgnLi4vaW5wdXQvc2VnbWVudGF0aW9uLW1vZGVscy1weXRvcmNoJykKaW1wb3J0IG51bXB5IGFzIG5wCmZyb20gY29tbW9uICBpbXBvcnQgKgpmcm9tIGxpYi5uZXQubG9va2FoZWFkIGltcG9ydCAqCmZyb20gbW9kZWxfY29hdF9kYWZvcm1lciBpbXBvcnQgKgpmcm9tIGRhdGFzZXQgaW1wb3J0ICoKZnJvbSB0cWRtIGltcG9ydCB0cWRtCgppbXBvcnQgdG9yY2guY3VkYS5hbXAgYXMgYW1wCgojIFRSQUlOID0gJy4vZGF0YS9odWJtYXAvdHJhaW5faW1hZ2VzLycKREVCVUcgPSBGYWxzZQppZiBERUJVRzoKICAgIFRFU1QgPSAnL2thZ2dsZS9pbnB1dC9odWJtYXAtb3JnYW4tc2VnbWVudGF0aW9uL3RyYWluX2ltYWdlcycKICAgIFRFU1RfREYgPSAnL2thZ2dsZS9pbnB1dC9odWJtYXAtb3JnYW4tc2VnbWVudGF0aW9uL3RyYWluLmNzdicKZWxzZToKICAgIFRFU1QgPSAnLi4vaW5wdXQvaHVibWFwLW9yZ2FuLXNlZ21lbnRhdGlvbi90ZXN0X2ltYWdlcycKICAgIFRFU1RfREYgPSAnL2thZ2dsZS9pbnB1dC9odWJtYXAtb3JnYW4tc2VnbWVudGF0aW9uL3Rlc3QuY3N2JwogICAgCiMgTU9ERUxTID0gW2YnL2thZ2dsZS9pbnB1dC9odWJtYXAwODMwdXBlcm5ldHN3aW4vZm9sZHtpfS5wdGgnIGZvciBpIGluIHJhbmdlKDQpXQoKIy4uL2lucHV0L2JydWNlY3RodWJtYXAvQnJ1Y2UtQ29hdC1UZXN0L2ZvbGQwLXRvcDAtYnJ1Y2UucHRoCk1PREVMUyA9IFsKICAgICcuLi9pbnB1dC9icnVjZWN0aHVibWFwL0JydWNlLUNvYXQtVGVzdC9mb2xkMC10b3AwLWJydWNlLnB0aCcsCiAgICAnLi4vaW5wdXQvYnJ1Y2VjdGh1Ym1hcC9CcnVjZS1Db2F0LVRlc3QvZm9sZDAtdG9wMS1icnVjZS5wdGgnLAogICAgJy4uL2lucHV0L2JydWNlY3RodWJtYXAvQnJ1Y2UtQ29hdC1UZXN0L2ZvbGQyLXRvcDAtYnJ1Y2UucHRoJywKICAgICcuLi9pbnB1dC9icnVjZWN0aHVibWFwL0JydWNlLUNvYXQtVGVzdC9mb2xkMi10b3AxLWJydWNlLnB0aCcsCiAgICAnLi4vaW5wdXQvYnJ1Y2VjdGh1Ym1hcC9CcnVjZS1Db2F0LVRlc3QvZm9sZDItdG9wMi1icnVjZS5wdGgnLAogICAgJy4uL2lucHV0L2JydWNlY3RodWJtYXAvQnJ1Y2UtQ29hdC1UZXN0L2ZvbGQzLXRvcDAtYnJ1Y2UucHRoJywKICAgICcuLi9pbnB1dC9icnVjZWN0aHVibWFwL0JydWNlLUNvYXQtVGVzdC9mb2xkMy10b3AxLWJydWNlLnB0aCcsCiAgICAgICAgIF0KCmJlc3RfdGhycyA9IFsKICAgIHsnSFBBJzogeydraWRuZXknOiAwLjUsJ3Byb3N0YXRlJzogMC41LCdsYXJnZWludGVzdGluZSc6IDAuNSwnc3BsZWVuJzogMC4zLCdsdW5nJzogMC4wNX0sIAogICAgICdIdWJtYXAnOiB7J2tpZG5leSc6IDAuNSwncHJvc3RhdGUnOiAwLjUsJ2xhcmdlaW50ZXN0aW5lJzogMC41LCdzcGxlZW4nOiAwLjMsJ2x1bmcnOiAwLjA1fX0sCiAgICB7J0hQQSc6IHsna2lkbmV5JzogMC41LCdwcm9zdGF0ZSc6IDAuNSwnbGFyZ2VpbnRlc3RpbmUnOiAwLjUsJ3NwbGVlbic6IDAuMywnbHVuZyc6IDAuMDV9LCAKICAgICAnSHVibWFwJzogeydraWRuZXknOiAwLjUsJ3Byb3N0YXRlJzogMC41LCdsYXJnZWludGVzdGluZSc6IDAuNSwnc3BsZWVuJzogMC4zLCdsdW5nJzogMC4wNX19LAp7J0hQQSc6IHsna2lkbmV5JzogMC41LCdwcm9zdGF0ZSc6IDAuNSwnbGFyZ2VpbnRlc3RpbmUnOiAwLjUsJ3NwbGVlbic6IDAuMywnbHVuZyc6IDAuMDV9LCAKICAgICAnSHVibWFwJzogeydraWRuZXknOiAwLjUsJ3Byb3N0YXRlJzogMC41LCdsYXJnZWludGVzdGluZSc6IDAuNSwnc3BsZWVuJzogMC4zLCdsdW5nJzogMC4wNX19LAogICAgeydIUEEnOiB7J2tpZG5leSc6IDAuNSwncHJvc3RhdGUnOiAwLjUsJ2xhcmdlaW50ZXN0aW5lJzogMC41LCdzcGxlZW4nOiAwLjMsJ2x1bmcnOiAwLjA1fSwgCiAgICAgJ0h1Ym1hcCc6IHsna2lkbmV5JzogMC41LCdwcm9zdGF0ZSc6IDAuNSwnbGFyZ2VpbnRlc3RpbmUnOiAwLjUsJ3NwbGVlbic6IDAuMywnbHVuZyc6IDAuMDV9fSwKeydIUEEnOiB7J2tpZG5leSc6IDAuNSwncHJvc3RhdGUnOiAwLjUsJ2xhcmdlaW50ZXN0aW5lJzogMC41LCdzcGxlZW4nOiAwLjMsJ2x1bmcnOiAwLjA1fSwgCiAgICAgJ0h1Ym1hcCc6IHsna2lkbmV5JzogMC41LCdwcm9zdGF0ZSc6IDAuNSwnbGFyZ2VpbnRlc3RpbmUnOiAwLjUsJ3NwbGVlbic6IDAuMywnbHVuZyc6IDAuMDV9fSwKeydIUEEnOiB7J2tpZG5leSc6IDAuNSwncHJvc3RhdGUnOiAwLjUsJ2xhcmdlaW50ZXN0aW5lJzogMC41LCdzcGxlZW4nOiAwLjMsJ2x1bmcnOiAwLjA1fSwgCiAgICAgJ0h1Ym1hcCc6IHsna2lkbmV5JzogMC41LCdwcm9zdGF0ZSc6IDAuNSwnbGFyZ2VpbnRlc3RpbmUnOiAwLjUsJ3NwbGVlbic6IDAuMywnbHVuZyc6IDAuMDV9fSwKeydIUEEnOiB7J2tpZG5leSc6IDAuNSwncHJvc3RhdGUnOiAwLjUsJ2xhcmdlaW50ZXN0aW5lJzogMC41LCdzcGxlZW4nOiAwLjMsJ2x1bmcnOiAwLjA1fSwgCiAgICAgJ0h1Ym1hcCc6IHsna2lkbmV5JzogMC41LCdwcm9zdGF0ZSc6IDAuNSwnbGFyZ2VpbnRlc3RpbmUnOiAwLjUsJ3NwbGVlbic6IDAuMywnbHVuZyc6IDAuMDV9fSwKICAgICAgICAgICAgXQp3ZWlnaHRzID0gWzEuMDA1LDEsMSwxLDEsMSwxXQphc3NlcnQgbGVuKHdlaWdodHMpID09IGxlbihNT0RFTFMpClZPVEVfVEhSRVNIT0xEID0gMC41CgpJTUFHRV9TSVpFID0gNzY4CkJBVENIX1NJWkUgPSAxCgpkZXZpY2UgPSB0b3JjaC5kZXZpY2UoJ2N1ZGE6MCcgaWYgdG9yY2guY3VkYS5pc19hdmFpbGFibGUoKSBlbHNlICdjcHUnKQp0ZXN0X2RmID0gcGQucmVhZF9jc3YoVEVTVF9ERikKCmlzX3R0YT1UcnVlCgpmcm9tIGthZ2dsZV9odWJtYXBfdjIgaW1wb3J0ICoKZnJvbSBkYWZvcm1lciBpbXBvcnQgKgpmcm9tIGNvYXQgaW1wb3J0ICoKCiMjIyMjIyMjIyMjIyMjIyMjIyMjIyMjIyMjIyMjIyMjIyMjIyMjIyMjIyMjIyMjIyMjIyMjIyMjIyMjIyMjIyMjCgpjbGFzcyBSR0Iobm4uTW9kdWxlKToKICAgIElNQUdFX1JHQl9NRUFOID0gWzAuNDg1LCAwLjQ1NiwgMC40MDZdICAjIFswLjUsIDAuNSwgMC41XQogICAgSU1BR0VfUkdCX1NURCA9IFswLjIyOSwgMC4yMjQsIDAuMjI1XSAgIyBbMC41LCAwLjUsIDAuNV0KCiAgICBkZWYgX19pbml0X18oc2VsZiwgKToKICAgICAgICBzdXBlcihSR0IsIHNlbGYpLl9faW5pdF9fKCkKICAgICAgICBzZWxmLnJlZ2lzdGVyX2J1ZmZlcignbWVhbicsIHRvcmNoLnplcm9zKDEsIDMsIDEsIDEpKQogICAgICAgIHNlbGYucmVnaXN0ZXJfYnVmZmVyKCdzdGQnLCB0b3JjaC5vbmVzKDEsIDMsIDEsIDEpKQogICAgICAgIHNlbGYubWVhbi5kYXRhID0gdG9yY2guRmxvYXRUZW5zb3Ioc2VsZi5JTUFHRV9SR0JfTUVBTikudmlldyhzZWxmLm1lYW4uc2hhcGUpCiAgICAgICAgc2VsZi5zdGQuZGF0YSA9IHRvcmNoLkZsb2F0VGVuc29yKHNlbGYuSU1BR0VfUkdCX1NURCkudmlldyhzZWxmLnN0ZC5zaGFwZSkKCiAgICBkZWYgZm9yd2FyZChzZWxmLCB4KToKICAgICAgICB4ID0gKHggLSBzZWxmLm1lYW4pIC8gc2VsZi5zdGQKICAgICAgICByZXR1cm4geAoKCmNsYXNzIE5ldChubi5Nb2R1bGUpOgoKCiAgICBkZWYgX19pbml0X18oc2VsZiwKICAgICAgICAgICAgICAgICMgIGVuY29kZXI9Y29hdF9saXRlX21lZGl1bSwKICAgICAgICAgICAgICAgIGVuY29kZXI9Y29hdF9wYXJhbGxlbF9zbWFsbCwKICAgICAgICAgICAgICAgIGRlY29kZXI9ZGFmb3JtZXJfY29udjF4MSwKICAgICAgICAgICAgICAgIGVuY29kZXJfY2ZnPXt9LAogICAgICAgICAgICAgICAgZGVjb2Rlcl9jZmc9e30sCiAgICAgICAgICAgICAgICAgKToKICAgICAgICBzdXBlcihOZXQsIHNlbGYpLl9faW5pdF9fKCkKICAgICAgICBkZWNvZGVyX2RpbSA9IGRlY29kZXJfY2ZnLmdldCgnZGVjb2Rlcl9kaW0nLCAzMjApCiAgICAgICAgc2VsZi5vdXRwdXRfdHlwZSA9IFsnaW5mZXJlbmNlJywgJ2xvc3MnXQogICAgICAgICMgLS0tLQogICAgICAgIHNlbGYucmdiID0gUkdCKCkKCiAgICAgICAgc2VsZi5lbmNvZGVyID0gZW5jb2RlcigKICAgICAgICAgICAgI2Ryb3BfcGF0aF9yYXRlPTAuMywKICAgICAgICApCiAgICAgICAgZW5jb2Rlcl9kaW0gPSBzZWxmLmVuY29kZXIuZW1iZWRfZGltcwogICAgICAgICMgWzY0LCAxMjgsIDMyMCwgNTEyXQoKICAgICAgICBzZWxmLmRlY29kZXIgPSBkZWNvZGVyKAogICAgICAgICAgICBlbmNvZGVyX2RpbT1lbmNvZGVyX2RpbSwKICAgICAgICAgICAgZGVjb2Rlcl9kaW09ZGVjb2Rlcl9kaW0sCiAgICAgICAgKQogICAgICAgIHNlbGYubG9naXQgPSBubi5TZXF1ZW50aWFsKAogICAgICAgICAgICBubi5Db252MmQoZGVjb2Rlcl9kaW0sIDEsIGtlcm5lbF9zaXplPTEpLAogICAgICAgICkKCiAgICAgICAgc2VsZi5hdXggPSBubi5Nb2R1bGVMaXN0KFsKICAgICAgICAgICAgbm4uQ29udjJkKGRlY29kZXJfZGltLCAxLCBrZXJuZWxfc2l6ZT0xLCBwYWRkaW5nPTApIGZvciBpIGluIHJhbmdlKGxlbihlbmNvZGVyX2RpbSkpCiAgICAgICAgXSkKCiAgICBkZWYgZm9yd2FyZChzZWxmLCBiYXRjaCk6CgogICAgICAgIHggPSBiYXRjaAogICAgICAgIHggPSBzZWxmLnJnYih4KQoKICAgICAgICBCLCBDLCBILCBXID0geC5zaGFwZQogICAgICAgIGVuY29kZXIgPSBzZWxmLmVuY29kZXIoeCkKICAgICAgICAjIHByaW50KFtmLnNoYXBlIGZvciBmIGluIGVuY29kZXJdKQoKICAgICAgICBsYXN0LCBkZWNvZGVyID0gc2VsZi5kZWNvZGVyKGVuY29kZXIpCiAgICAgICAgbG9naXQgPSBzZWxmLmxvZ2l0KGxhc3QpCgogICAgICAgICMgbG9naXQgPSBGLmludGVycG9sYXRlKGxvZ2l0LCBzaXplPShILFcpLG1vZGU9J2JpbGluZWFyJyxhbGlnbl9jb3JuZXJzPUZhbHNlLCBhbnRpYWxpYXM9VHJ1ZSkKICAgICAgICBsb2dpdCA9IEYuaW50ZXJwb2xhdGUobG9naXQsIHNpemU9KEgsVyksbW9kZT0nYmlsaW5lYXInLGFsaWduX2Nvcm5lcnM9RmFsc2UpCgogICAgICAgIG91dHB1dCA9IHt9CiAgICAgICAgaWYgJ2xvc3MnIGluIHNlbGYub3V0cHV0X3R5cGU6CgogICAgICAgICAgICBvdXRwdXRbJ2JjZV9sb3NzJ10gPSBGLmJpbmFyeV9jcm9zc19lbnRyb3B5X3dpdGhfbG9naXRzKGxvZ2l0LGJhdGNoWydtYXNrJ10pCiAgICAgICAgICAgIGZvciBpIGluIHJhbmdlKDQpOgogICAgICAgICAgICAgICAgb3V0cHV0WydhdXglZF9sb3NzJyVpXSA9IGNyaXRlcmlvbl9hdXhfbG9zcyhzZWxmLmF1eFtpXShkZWNvZGVyW2ldKSxiYXRjaFsnbWFzayddLCBILCBXKQogICAgICAgIGlmICdpbmZlcmVuY2UnIGluIHNlbGYub3V0cHV0X3R5cGU6CiAgICAgICAgICAgIG91dHB1dFsncHJvYmFiaWxpdHknXSA9IHRvcmNoLnNpZ21vaWQobG9naXQpCgogICAgICAgIHJldHVybiBvdXRwdXQKCgogICAgZGVmIGNyaXRlcmlvbl9hdXhfbG9zcyhsb2dpdCwgbWFzaywgSCwgVyk6CiAgICAgICAgIyBsb2dpdCA9IEYuaW50ZXJwb2xhdGUobG9naXQsIHNpemU9KEgsIFcpLG1vZGU9J2JpbGluZWFyJyxhbGlnbl9jb3JuZXJzPUZhbHNlLCBhbnRpYWxpYXM9VHJ1ZSkKICAgICAgICBsb2dpdCA9IEYuaW50ZXJwb2xhdGUobG9naXQsIHNpemU9KEgsIFcpLG1vZGU9J2JpbGluZWFyJyxhbGlnbl9jb3JuZXJzPUZhbHNlKQogICAgICAgIGxvc3MgPSBGLmJpbmFyeV9jcm9zc19lbnRyb3B5X3dpdGhfbG9naXRzKGxvZ2l0LG1hc2spCiAgICAgICAgcmV0dXJuIGxvc3MgCgoKICAgIGRlZiBydW5fY2hlY2tfbmV0KCk6CiAgICAgICAgYmF0Y2hfc2l6ZSA9IDIKICAgICAgICBpbWFnZV9zaXplID0gODAwCgogICAgICAgICMgLS0tCiAgICAgICAgYmF0Y2ggPSB7CiAgICAgICAgICAgICdpbWFnZSc6IHRvcmNoLmZyb21fbnVtcHkobnAucmFuZG9tLnVuaWZvcm0oLTEsIDEsIChiYXRjaF9zaXplLCAzLCBpbWFnZV9zaXplLCBpbWFnZV9zaXplKSkpLmZsb2F0KCksCiAgICAgICAgICAgICdtYXNrJzogdG9yY2guZnJvbV9udW1weShucC5yYW5kb20uY2hvaWNlKDIsIChiYXRjaF9zaXplLCAxLCBpbWFnZV9zaXplLCBpbWFnZV9zaXplKSkpLmZsb2F0KCksCiAgICAgICAgICAgICdvcmdhbic6IHRvcmNoLmZyb21fbnVtcHkobnAucmFuZG9tLmNob2ljZSg1LCAoYmF0Y2hfc2l6ZSwgMSkpKS5sb25nKCksCiAgICAgICAgfQogICAgICAgIGJhdGNoID0ge2s6IHYuY3VkYSgpIGZvciBrLCB2IGluIGJhdGNoLml0ZW1zKCl9CgogICAgICAgIG5ldCA9IE5ldCgpLmN1ZGEoKQogICAgICAgIHdpdGggdG9yY2gubm9fZ3JhZCgpOgogICAgICAgICAgICB3aXRoIHRvcmNoLmN1ZGEuYW1wLmF1dG9jYXN0KGVuYWJsZWQ9VHJ1ZSk6CiAgICAgICAgICAgICAgICBvdXRwdXQgPSBuZXQoYmF0Y2gpCgogICAgICAgIHByaW50KCdiYXRjaCcpCiAgICAgICAgZm9yIGssIHYgaW4gYmF0Y2guaXRlbXMoKToKICAgICAgICAgICAgcHJpbnQoJyUzMnMgOicgJSBrLCB2LnNoYXBlKQoKICAgICAgICBwcmludCgnb3V0cHV0JykKICAgICAgICBmb3IgaywgdiBpbiBvdXRwdXQuaXRlbXMoKToKICAgICAgICAgICAgaWYgJ2xvc3MnIG5vdCBpbiBrOgogICAgICAgICAgICAgICAgcHJpbnQoJyUzMnMgOicgJSBrLCB2LnNoYXBlKQogICAgICAgIGZvciBrLCB2IGluIG91dHB1dC5pdGVtcygpOgogICAgICAgICAgICBpZiAnbG9zcycgaW4gazoKICAgICAgICAgICAgICAgIHByaW50KCclMzJzIDonICUgaywgdi5pdGVtKCkpCgpjbGFzcyBIdWJtYXBEYXRhc2V0KERhdGFzZXQpOgogICAgZGVmIF9faW5pdF9fKHNlbGYsIGRmLCBpbWFnZV9zaXplPUlNQUdFX1NJWkUpOgoKICAgICAgICBzZWxmLmRmID0gZGYKICAgICAgICBzZWxmLmxlbmd0aCA9IGxlbihzZWxmLmRmKQogICAgICAgIHNlbGYuaW1hZ2Vfc2l6ZSA9IGltYWdlX3NpemUKICAgICAgICAKICAgIGRlZiBfX3N0cl9fKHNlbGYpOgogICAgICAgIHN0cmluZyA9ICcnCiAgICAgICAgc3RyaW5nICs9ICdcdGxlbiA9ICVkXG4nICUgbGVuKHNlbGYpCgogICAgICAgIGQgPSBzZWxmLmRmLm9yZ2FuLnZhbHVlX2NvdW50cygpLnRvX2RpY3QoKQogICAgICAgIGZvciBrIGluIFsna2lkbmV5JywgJ3Byb3N0YXRlJywgJ2xhcmdlaW50ZXN0aW5lJywgJ3NwbGVlbicsICdsdW5nJ106CiAgICAgICAgICAgIHN0cmluZyArPSAgJyUyNHMgJTNkICglMC4zZikgXG4nJShrLGQuZ2V0KGssMCksZC5nZXQoaywwKS9sZW4oc2VsZi5kZikpCiAgICAgICAgcmV0dXJuIHN0cmluZwoKICAgIGRlZiBfX2xlbl9fKHNlbGYpOgogICAgICAgIHJldHVybiBzZWxmLmxlbmd0aAoKICAgIGRlZiBfX2dldGl0ZW1fXyhzZWxmLCBpbmRleCk6CiAgICAgICAgZCA9IHNlbGYuZGYuaWxvY1tpbmRleF0KICAgICAgICBpZCA9IGRbJ2lkJ10KICAgICAgICBvcmdhbiA9IG9yZ2FuX3RvX2xhYmVsW2Qub3JnYW5dCgogICAgICAgIGltYWdlID0gY3YyLmltcmVhZCgnLi4vaW5wdXQvaHVibWFwLW9yZ2FuLXNlZ21lbnRhdGlvbi90ZXN0X2ltYWdlcy8lZC50aWZmJyVpZCwgY3YyLklNUkVBRF9DT0xPUikKICAgICAgICBpbWFnZSA9IGltYWdlLmFzdHlwZShucC5mbG9hdDMyKS8yNTUKCiAgICAgICAgcyA9IGQucGl4ZWxfc2l6ZS8wLjQgKiAoaW1hZ2Vfc2l6ZS8zMDAwKQoKICAgICAgICBpbWFnZSA9IGN2Mi5yZXNpemUoaW1hZ2UsZHNpemU9KHNlbGYuaW1hZ2Vfc2l6ZSxzZWxmLmltYWdlX3NpemUpLGludGVycG9sYXRpb249Y3YyLklOVEVSX0xJTkVBUikKCiAgICAgICAgciA9e30KICAgICAgICByWydpbmRleCddPSBpbmRleAogICAgICAgIHJbJ2lkJ10gPSBpZAogICAgICAgIHJbJ29yZ2FuJ10gPSB0b3JjaC50ZW5zb3IoW29yZ2FuXSwgZHR5cGU9dG9yY2gubG9uZykKICAgICAgICAKICAgICAgICByWydpbXNpemUnXSA9IGRbJ2ltZ19oZWlnaHQnXQogICAgICAgIHJbJ3NvdXJjZSddID0gZFsnZGF0YV9zb3VyY2UnXQogICAgICAgIAogICAgICAgIHJbJ2ltYWdlJ10gPSBpbWFnZV90b190ZW5zb3IoaW1hZ2UpCiAgICAgICAgCiAgICAgICAgaWYgaXNfdHRhOgogICAgICAgICAgICByWydpbWFnZTEnXSA9IHRvcmNoLmZsaXAoclsnaW1hZ2UnXSwgWzFdKQogICAgICAgICAgICByWydpbWFnZTInXSA9IHRvcmNoLmZsaXAoclsnaW1hZ2UnXSwgWzJdKSAgICAgICAgICAgICAgICAgICAgICAgIAogICAgICAgICAgICAgICAgICAgICAgICAgICAgICAgICAgICAKICAgICAgICAKICAgICAgICByZXR1cm4gcgoKdGVzdF9kYXRhc2V0ID0gSHVibWFwRGF0YXNldCh0ZXN0X2RmKQp0ZXN0X2xvYWRlciA9IERhdGFMb2FkZXIoCiAgICB0ZXN0X2RhdGFzZXQsCiAgICBzYW1wbGVyID0gU2VxdWVudGlhbFNhbXBsZXIodGVzdF9kYXRhc2V0KSwKICAgIGJhdGNoX3NpemUgID0gMSwKICAgIGRyb3BfbGFzdCAgID0gRmFsc2UsCiAgICBudW1fd29ya2VycyA9IDEsCiAgICBwaW5fbWVtb3J5ICA9IEZhbHNlLAojICAgICBjb2xsYXRlX2ZuID0gbnVsbF9jb2xsYXRlLAopCgptb2RlbHMgPSBbXQpmb3IgcGF0aCBpbiBNT0RFTFM6CiAgICBzdGF0ZV9kaWN0ID0gdG9yY2gubG9hZChwYXRoLG1hcF9sb2NhdGlvbj10b3JjaC5kZXZpY2UoJ2N1ZGE6MCcpKVsnc3RhdGVfZGljdCddCiAgICBtb2RlbCA9IE5ldCgpLmN1ZGEoKQogICAgbW9kZWwubG9hZF9zdGF0ZV9kaWN0KHN0YXRlX2RpY3QpCiMgICAgIG1vZGVsLmxvYWRfc3RhdGVfZGljdCh7ay5yZXBsYWNlKCdtb2R1bGUuJywgJycpOnYgZm9yIGssIHYgaW4gc3RhdGVfZGljdC5pdGVtcygpfSkKICAgIG1vZGVsLnRvKGRldmljZSkKICAgIG1vZGVsLmV2YWwoKQogICAgbW9kZWxzLmFwcGVuZChtb2RlbCkKZGVsIHN0YXRlX2RpY3QKCm9yZ2Fuc19kaWN0ID0gezE6ICdraWRuZXknLCAyOiAncHJvc3RhdGUnLCAzOiAnbGFyZ2VpbnRlc3RpbmUnLCA0OiAnc3BsZWVuJywgNTogJ2x1bmcnfQoKcmxlcywgbmFtZXMgPSBbXSwgW10KZm9yIHQsIGJhdGNoIGluIHRxZG0oZW51bWVyYXRlKHRlc3RfbG9hZGVyKSk6CgogICAgIyBvbmUgaXRlcmF0aW9uIHVwZGF0ZSAgLS0tLS0tLS0tLS0tLQogICAgYmF0Y2hfc2l6ZSA9IGxlbihiYXRjaFsnaW5kZXgnXSkKICAgIGJhdGNoWydpbWFnZSddID0gYmF0Y2hbJ2ltYWdlJ10uY3VkYSgpCiAgICBpZiBpc190dGE6CiAgICAgICAgYmF0Y2hbJ2ltYWdlMSddID0gYmF0Y2hbJ2ltYWdlMSddLmN1ZGEoKQogICAgICAgIGJhdGNoWydpbWFnZTInXSA9IGJhdGNoWydpbWFnZTInXS5jdWRhKCkKICAgIGJhdGNoWydvcmdhbiddID0gYmF0Y2hbJ29yZ2FuJ10uY3VkYSgpCgogICAgcHJlZHMgPSBucC56ZXJvcygoYmF0Y2hbJ2ltc2l6ZSddWzBdLCBiYXRjaFsnaW1zaXplJ11bMF0pLCBkdHlwZT1ucC5mbG9hdCkKICAgIHNvdXJjZSA9IGJhdGNoWydzb3VyY2UnXQogICAgb3JnYW4gPSBvcmdhbnNfZGljdFtpbnQoYmF0Y2hbJ29yZ2FuJ11bMF0pXQogICAgZm9yIGksIG5ldCBpbiBlbnVtZXJhdGUobW9kZWxzKTogCiAgICAgICAgCiAgICAgICAgbmV0Lm91dHB1dF90eXBlID0gWydpbmZlcmVuY2UnXQogICAgICAgIHByb2JhYmlsaXR5ID0gbmV0KGJhdGNoWydpbWFnZSddKVsncHJvYmFiaWxpdHknXS5mbG9hdCgpLmRhdGEuY3B1KCkubnVtcHkoKS5zcXVlZXplKDApCiMgICAgICAgICBiYXRjaFsnaW1hZ2UnXSA9IGJhdGNoWydpbWFnZSddLmNwdSgpCiAgICAgICAgaWYgaXNfdHRhOgoKICAgICAgICAgICAgcHJvYmFiaWxpdHkxID0gbmV0KGJhdGNoWydpbWFnZTEnXSlbJ3Byb2JhYmlsaXR5J10uc3F1ZWV6ZSgwKQogICAgICAgICAgICBwcm9iYWJpbGl0eTEgPSB0b3JjaC5mbGlwKHByb2JhYmlsaXR5MSwgWzFdKS5mbG9hdCgpLmRhdGEuY3B1KCkubnVtcHkoKQojICAgICAgICAgICAgIGJhdGNoWydpbWFnZTEnXSA9IGJhdGNoWydpbWFnZTEnXS5jcHUoKQogICAgICAgICAgICBwcm9iYWJpbGl0eTIgPSBuZXQoYmF0Y2hbJ2ltYWdlMiddKVsncHJvYmFiaWxpdHknXS5zcXVlZXplKDApCiAgICAgICAgICAgIHByb2JhYmlsaXR5MiA9IHRvcmNoLmZsaXAocHJvYmFiaWxpdHkyLCBbMl0pLmZsb2F0KCkuZGF0YS5jcHUoKS5udW1weSgpCiAgICAgICAgICAgIHByb2JhYmlsaXR5MiA9ICBwcm9iYWJpbGl0eTIKIyAgICAgICAgICAgICBiYXRjaFsnaW1hZ2UyJ10gPSBiYXRjaFsnaW1hZ2UyJ10uY3B1KCkKICAgICAgICAgICAgb3V0cHV0ID0gKHByb2JhYmlsaXR5K3Byb2JhYmlsaXR5MStwcm9iYWJpbGl0eTIpLzMuCiMgICAgICAgICAgICAgb3V0cHV0ID0gcHJvYmFiaWxpdHkKICAgICAgICBlbHNlOgogICAgICAgICAgICBvdXRwdXQgPSBwcm9iYWJpbGl0eS5mbG9hdCgpLmRhdGEuY3B1KCkubnVtcHkoKQogICAgICAgIG91dHB1dCA9IG91dHB1dC5zcXVlZXplKCkKICAgICAgICBvdXRwdXQgPSBjdjIucmVzaXplKG91dHB1dCwgZHNpemU9KGludChiYXRjaFsnaW1zaXplJ11bMF0pLCBpbnQoYmF0Y2hbJ2ltc2l6ZSddWzBdKSkpCiAgICAgICAgb3V0cHV0ID0gKG91dHB1dD5iZXN0X3RocnNbaV1bc291cmNlWzBdXVtvcmdhbl0pLmFzdHlwZShucC5pbnQ4KQogICAgICAgIAogICAgICAgIHByZWRzICs9IHdlaWdodHNbaV0gKiBvdXRwdXQvc3VtKHdlaWdodHMpCiAgICAKICAgIHByZWRzID0gKHByZWRzPlZPVEVfVEhSRVNIT0xEKS5hc3R5cGUobnAuaW50OCkKIyAgICAgaWYgb3JnYW4gPT0gJ2x1bmcnOgojICAgICAgICAgcHJlZHMgPSAocHJlZHM+PTAuMSkuYXN0eXBlKG5wLmludDgpCiMgICAgIGVsc2U6CiMgICAgICAgICBwcmVkcyA9IChwcmVkcz49MC41KS5hc3R5cGUobnAuaW50OCkKICAgIAogICAgcmxlID0gcmxlX2VuY29kZShwcmVkcykKICAgIHJsZXMuYXBwZW5kKHJsZSkKICAgIG5hbWVzLmFwcGVuZChpbnQoYmF0Y2hbJ2lkJ11bMF0pKQoKZGYgPSBwZC5EYXRhRnJhbWUoeydpZCc6bmFtZXMsJ3JsZSc6cmxlc30pCmRmLnRvX2NzdignYnJ1Y2UyLmNzdicsaW5kZXg9RmFsc2Up'"
   ]
  },
  {
   "cell_type": "code",
   "execution_count": 7,
   "id": "ea8603bc",
   "metadata": {
    "execution": {
     "iopub.execute_input": "2022-09-22T12:29:53.168205Z",
     "iopub.status.busy": "2022-09-22T12:29:53.167560Z",
     "iopub.status.idle": "2022-09-22T12:29:53.170380Z",
     "shell.execute_reply": "2022-09-22T12:29:53.170792Z",
     "shell.execute_reply.started": "2022-09-22T12:14:10.952747Z"
    },
    "papermill": {
     "duration": 0.03393,
     "end_time": "2022-09-22T12:29:53.170937",
     "exception": false,
     "start_time": "2022-09-22T12:29:53.137007",
     "status": "completed"
    },
    "tags": []
   },
   "outputs": [
    {
     "data": {
      "text/plain": [
       "11115"
      ]
     },
     "execution_count": 7,
     "metadata": {},
     "output_type": "execute_result"
    }
   ],
   "source": [
    "path = 'code2.py'\n",
    "path = Path(path)\n",
    "path.write_bytes(base64.b64decode(code2))"
   ]
  },
  {
   "cell_type": "code",
   "execution_count": 8,
   "id": "2b9e5a02",
   "metadata": {
    "execution": {
     "iopub.execute_input": "2022-09-22T12:29:53.224222Z",
     "iopub.status.busy": "2022-09-22T12:29:53.223311Z",
     "iopub.status.idle": "2022-09-22T12:30:27.976432Z",
     "shell.execute_reply": "2022-09-22T12:30:27.975928Z",
     "shell.execute_reply.started": "2022-09-22T12:14:10.973275Z"
    },
    "papermill": {
     "duration": 34.78103,
     "end_time": "2022-09-22T12:30:27.976584",
     "exception": false,
     "start_time": "2022-09-22T12:29:53.195554",
     "status": "completed"
    },
    "tags": []
   },
   "outputs": [
    {
     "name": "stdout",
     "output_type": "stream",
     "text": [
      "matplotlib.get_backend :  agg\r\n",
      "0it [00:00, ?it/s]/opt/conda/lib/python3.7/site-packages/torch/nn/functional.py:3063: UserWarning: Default upsampling behavior when mode=bilinear is changed to align_corners=False since 0.4.0. Please specify align_corners=True if the old behavior is desired. See the documentation of nn.Upsample for details.\r\n",
      "  \"See the documentation of nn.Upsample for details.\".format(mode))\r\n",
      "1it [00:04,  4.72s/it]\r\n"
     ]
    }
   ],
   "source": [
    "!python code2.py"
   ]
  },
  {
   "cell_type": "code",
   "execution_count": 9,
   "id": "062447f3",
   "metadata": {
    "execution": {
     "iopub.execute_input": "2022-09-22T12:30:28.035215Z",
     "iopub.status.busy": "2022-09-22T12:30:28.034051Z",
     "iopub.status.idle": "2022-09-22T12:30:28.047133Z",
     "shell.execute_reply": "2022-09-22T12:30:28.046691Z",
     "shell.execute_reply.started": "2022-09-22T12:14:49.157433Z"
    },
    "papermill": {
     "duration": 0.04382,
     "end_time": "2022-09-22T12:30:28.047259",
     "exception": false,
     "start_time": "2022-09-22T12:30:28.003439",
     "status": "completed"
    },
    "tags": []
   },
   "outputs": [],
   "source": [
    "code3 = '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'"
   ]
  },
  {
   "cell_type": "code",
   "execution_count": 10,
   "id": "4151a0bf",
   "metadata": {
    "execution": {
     "iopub.execute_input": "2022-09-22T12:30:28.105970Z",
     "iopub.status.busy": "2022-09-22T12:30:28.102633Z",
     "iopub.status.idle": "2022-09-22T12:30:28.109203Z",
     "shell.execute_reply": "2022-09-22T12:30:28.109648Z",
     "shell.execute_reply.started": "2022-09-22T12:14:49.175933Z"
    },
    "papermill": {
     "duration": 0.03606,
     "end_time": "2022-09-22T12:30:28.109806",
     "exception": false,
     "start_time": "2022-09-22T12:30:28.073746",
     "status": "completed"
    },
    "tags": []
   },
   "outputs": [
    {
     "data": {
      "text/plain": [
       "16182"
      ]
     },
     "execution_count": 10,
     "metadata": {},
     "output_type": "execute_result"
    }
   ],
   "source": [
    "path = 'code3.py'\n",
    "path = Path(path)\n",
    "path.write_bytes(base64.b64decode(code3))"
   ]
  },
  {
   "cell_type": "code",
   "execution_count": 11,
   "id": "59f7c88d",
   "metadata": {
    "execution": {
     "iopub.execute_input": "2022-09-22T12:30:28.166710Z",
     "iopub.status.busy": "2022-09-22T12:30:28.165562Z",
     "iopub.status.idle": "2022-09-22T12:32:42.927613Z",
     "shell.execute_reply": "2022-09-22T12:32:42.927042Z",
     "shell.execute_reply.started": "2022-09-22T12:14:49.200674Z"
    },
    "papermill": {
     "duration": 134.790824,
     "end_time": "2022-09-22T12:32:42.927757",
     "exception": false,
     "start_time": "2022-09-22T12:30:28.136933",
     "status": "completed"
    },
    "tags": []
   },
   "outputs": [
    {
     "name": "stdout",
     "output_type": "stream",
     "text": [
      "2022-09-22 12:30:29.695152: I tensorflow/stream_executor/platform/default/dso_loader.cc:49] Successfully opened dynamic library libcudart.so.11.0\r\n",
      "MEAN: [0.16183016 0.18965785 0.1697808 ], STD: [0.1697331  0.19511677 0.175394  ]\r\n",
      "Running on GPU\r\n",
      "REPLICAS: 1\r\n",
      "2022-09-22 12:30:33.002229: I tensorflow/compiler/jit/xla_cpu_device.cc:41] Not creating XLA devices, tf_xla_enable_xla_devices not set\r\n",
      "2022-09-22 12:30:33.003735: I tensorflow/stream_executor/platform/default/dso_loader.cc:49] Successfully opened dynamic library libcuda.so.1\r\n",
      "2022-09-22 12:30:33.028545: I tensorflow/stream_executor/cuda/cuda_gpu_executor.cc:941] successful NUMA node read from SysFS had negative value (-1), but there must be at least one NUMA node, so returning NUMA node zero\r\n",
      "2022-09-22 12:30:33.029288: I tensorflow/core/common_runtime/gpu/gpu_device.cc:1720] Found device 0 with properties: \r\n",
      "pciBusID: 0000:00:04.0 name: Tesla P100-PCIE-16GB computeCapability: 6.0\r\n",
      "coreClock: 1.3285GHz coreCount: 56 deviceMemorySize: 15.90GiB deviceMemoryBandwidth: 681.88GiB/s\r\n",
      "2022-09-22 12:30:33.029368: I tensorflow/stream_executor/platform/default/dso_loader.cc:49] Successfully opened dynamic library libcudart.so.11.0\r\n",
      "2022-09-22 12:30:33.032696: I tensorflow/stream_executor/platform/default/dso_loader.cc:49] Successfully opened dynamic library libcublas.so.11\r\n",
      "2022-09-22 12:30:33.032805: I tensorflow/stream_executor/platform/default/dso_loader.cc:49] Successfully opened dynamic library libcublasLt.so.11\r\n",
      "2022-09-22 12:30:33.034307: I tensorflow/stream_executor/platform/default/dso_loader.cc:49] Successfully opened dynamic library libcufft.so.10\r\n",
      "2022-09-22 12:30:33.034695: I tensorflow/stream_executor/platform/default/dso_loader.cc:49] Successfully opened dynamic library libcurand.so.10\r\n",
      "2022-09-22 12:30:33.038097: I tensorflow/stream_executor/platform/default/dso_loader.cc:49] Successfully opened dynamic library libcusolver.so.10\r\n",
      "2022-09-22 12:30:33.038906: I tensorflow/stream_executor/platform/default/dso_loader.cc:49] Successfully opened dynamic library libcusparse.so.11\r\n",
      "2022-09-22 12:30:33.039171: I tensorflow/stream_executor/platform/default/dso_loader.cc:49] Successfully opened dynamic library libcudnn.so.8\r\n",
      "2022-09-22 12:30:33.039373: I tensorflow/stream_executor/cuda/cuda_gpu_executor.cc:941] successful NUMA node read from SysFS had negative value (-1), but there must be at least one NUMA node, so returning NUMA node zero\r\n",
      "2022-09-22 12:30:33.040143: I tensorflow/stream_executor/cuda/cuda_gpu_executor.cc:941] successful NUMA node read from SysFS had negative value (-1), but there must be at least one NUMA node, so returning NUMA node zero\r\n",
      "2022-09-22 12:30:33.040780: I tensorflow/core/common_runtime/gpu/gpu_device.cc:1862] Adding visible gpu devices: 0\r\n",
      "2022-09-22 12:30:33.041156: I tensorflow/core/platform/cpu_feature_guard.cc:142] This TensorFlow binary is optimized with oneAPI Deep Neural Network Library (oneDNN) to use the following CPU instructions in performance-critical operations:  AVX2 AVX512F FMA\r\n",
      "To enable them in other operations, rebuild TensorFlow with the appropriate compiler flags.\r\n",
      "2022-09-22 12:30:33.041365: I tensorflow/compiler/jit/xla_gpu_device.cc:99] Not creating XLA devices, tf_xla_enable_xla_devices not set\r\n",
      "2022-09-22 12:30:33.041559: I tensorflow/stream_executor/cuda/cuda_gpu_executor.cc:941] successful NUMA node read from SysFS had negative value (-1), but there must be at least one NUMA node, so returning NUMA node zero\r\n",
      "2022-09-22 12:30:33.042281: I tensorflow/core/common_runtime/gpu/gpu_device.cc:1720] Found device 0 with properties: \r\n",
      "pciBusID: 0000:00:04.0 name: Tesla P100-PCIE-16GB computeCapability: 6.0\r\n",
      "coreClock: 1.3285GHz coreCount: 56 deviceMemorySize: 15.90GiB deviceMemoryBandwidth: 681.88GiB/s\r\n",
      "2022-09-22 12:30:33.042337: I tensorflow/stream_executor/platform/default/dso_loader.cc:49] Successfully opened dynamic library libcudart.so.11.0\r\n",
      "2022-09-22 12:30:33.042409: I tensorflow/stream_executor/platform/default/dso_loader.cc:49] Successfully opened dynamic library libcublas.so.11\r\n",
      "2022-09-22 12:30:33.042452: I tensorflow/stream_executor/platform/default/dso_loader.cc:49] Successfully opened dynamic library libcublasLt.so.11\r\n",
      "2022-09-22 12:30:33.042490: I tensorflow/stream_executor/platform/default/dso_loader.cc:49] Successfully opened dynamic library libcufft.so.10\r\n",
      "2022-09-22 12:30:33.042529: I tensorflow/stream_executor/platform/default/dso_loader.cc:49] Successfully opened dynamic library libcurand.so.10\r\n",
      "2022-09-22 12:30:33.042574: I tensorflow/stream_executor/platform/default/dso_loader.cc:49] Successfully opened dynamic library libcusolver.so.10\r\n",
      "2022-09-22 12:30:33.042621: I tensorflow/stream_executor/platform/default/dso_loader.cc:49] Successfully opened dynamic library libcusparse.so.11\r\n",
      "2022-09-22 12:30:33.042659: I tensorflow/stream_executor/platform/default/dso_loader.cc:49] Successfully opened dynamic library libcudnn.so.8\r\n",
      "2022-09-22 12:30:33.042776: I tensorflow/stream_executor/cuda/cuda_gpu_executor.cc:941] successful NUMA node read from SysFS had negative value (-1), but there must be at least one NUMA node, so returning NUMA node zero\r\n",
      "2022-09-22 12:30:33.043538: I tensorflow/stream_executor/cuda/cuda_gpu_executor.cc:941] successful NUMA node read from SysFS had negative value (-1), but there must be at least one NUMA node, so returning NUMA node zero\r\n",
      "2022-09-22 12:30:33.044160: I tensorflow/core/common_runtime/gpu/gpu_device.cc:1862] Adding visible gpu devices: 0\r\n",
      "2022-09-22 12:30:33.044235: I tensorflow/stream_executor/platform/default/dso_loader.cc:49] Successfully opened dynamic library libcudart.so.11.0\r\n",
      "2022-09-22 12:30:33.647588: I tensorflow/core/common_runtime/gpu/gpu_device.cc:1261] Device interconnect StreamExecutor with strength 1 edge matrix:\r\n",
      "2022-09-22 12:30:33.647659: I tensorflow/core/common_runtime/gpu/gpu_device.cc:1267]      0 \r\n",
      "2022-09-22 12:30:33.647687: I tensorflow/core/common_runtime/gpu/gpu_device.cc:1280] 0:   N \r\n",
      "2022-09-22 12:30:33.648055: I tensorflow/stream_executor/cuda/cuda_gpu_executor.cc:941] successful NUMA node read from SysFS had negative value (-1), but there must be at least one NUMA node, so returning NUMA node zero\r\n",
      "2022-09-22 12:30:33.648981: I tensorflow/stream_executor/cuda/cuda_gpu_executor.cc:941] successful NUMA node read from SysFS had negative value (-1), but there must be at least one NUMA node, so returning NUMA node zero\r\n",
      "2022-09-22 12:30:33.649743: I tensorflow/stream_executor/cuda/cuda_gpu_executor.cc:941] successful NUMA node read from SysFS had negative value (-1), but there must be at least one NUMA node, so returning NUMA node zero\r\n",
      "2022-09-22 12:30:33.650405: I tensorflow/core/common_runtime/gpu/gpu_device.cc:1406] Created TensorFlow device (/job:localhost/replica:0/task:0/device:GPU:0 with 14957 MB memory) -> physical GPU (device: 0, name: Tesla P100-PCIE-16GB, pci bus id: 0000:00:04.0, compute capability: 6.0)\r\n",
      "embedding shape: (None, 2816) up1 shape: (None, 20, 20, 2816), up2 shape: (None, 20, 20, 704)\r\n",
      "up3 shape: (None, 40, 40, 248), up4 shape: (None, 80, 80, 88), up5 shape: (None, 160, 160, 56), up6 shape: (None, 320, 320, 32)\r\n",
      "dec0 shape: (None, 20, 20, 640), dec1 shape: (None, 40, 40, 352), dec2 shape: (None, 80, 80, 112), dec3 shape: (None, 160, 160, 64), dec4 shape: (None, 320, 320, 64)\r\n",
      "dec_fpn shape: (None, 320, 320, 192)\r\n",
      "Loading pretrained weights...\r\n",
      "embedding shape: (None, 2816) up1 shape: (None, 20, 20, 2816), up2 shape: (None, 20, 20, 704)\r\n",
      "up3 shape: (None, 40, 40, 248), up4 shape: (None, 80, 80, 88), up5 shape: (None, 160, 160, 56), up6 shape: (None, 320, 320, 32)\r\n",
      "dec0 shape: (None, 20, 20, 640), dec1 shape: (None, 40, 40, 352), dec2 shape: (None, 80, 80, 112), dec3 shape: (None, 160, 160, 64), dec4 shape: (None, 320, 320, 64)\r\n",
      "dec_fpn shape: (None, 320, 320, 192)\r\n",
      "Loading pretrained weights...\r\n",
      "embedding shape: (None, 2816) up1 shape: (None, 20, 20, 2816), up2 shape: (None, 20, 20, 704)\r\n",
      "up3 shape: (None, 40, 40, 248), up4 shape: (None, 80, 80, 88), up5 shape: (None, 160, 160, 56), up6 shape: (None, 320, 320, 32)\r\n",
      "dec0 shape: (None, 20, 20, 640), dec1 shape: (None, 40, 40, 352), dec2 shape: (None, 80, 80, 112), dec3 shape: (None, 160, 160, 64), dec4 shape: (None, 320, 320, 64)\r\n",
      "dec_fpn shape: (None, 320, 320, 192)\r\n",
      "Loading pretrained weights...\r\n",
      "embedding shape: (None, 2816) up1 shape: (None, 20, 20, 2816), up2 shape: (None, 20, 20, 704)\r\n",
      "up3 shape: (None, 40, 40, 248), up4 shape: (None, 80, 80, 88), up5 shape: (None, 160, 160, 56), up6 shape: (None, 320, 320, 32)\r\n",
      "dec0 shape: (None, 20, 20, 640), dec1 shape: (None, 40, 40, 352), dec2 shape: (None, 80, 80, 112), dec3 shape: (None, 160, 160, 64), dec4 shape: (None, 320, 320, 64)\r\n",
      "dec_fpn shape: (None, 320, 320, 192)\r\n",
      "Loading pretrained weights...\r\n",
      "  0%|          | 0/10 [00:00<?, ?it/s]\r\n",
      "2022-09-22 12:31:54.068455: I tensorflow/compiler/mlir/mlir_graph_optimization_pass.cc:116] None of the MLIR optimization passes are enabled (registered 2)\r\n",
      "2022-09-22 12:31:54.071838: I tensorflow/core/platform/profile_utils/cpu_utils.cc:112] CPU Frequency: 2000179999 Hz\r\n",
      "2022-09-22 12:32:01.688578: I tensorflow/stream_executor/platform/default/dso_loader.cc:49] Successfully opened dynamic library libcudnn.so.8\r\n",
      "2022-09-22 12:32:02.828143: I tensorflow/stream_executor/platform/default/dso_loader.cc:49] Successfully opened dynamic library libcublas.so.11\r\n",
      "2022-09-22 12:32:03.079505: I tensorflow/stream_executor/platform/default/dso_loader.cc:49] Successfully opened dynamic library libcublasLt.so.11\r\n",
      "  0%|          | 0/1 [00:00<?, ?it/s]\r\n"
     ]
    }
   ],
   "source": [
    "!python code3.py"
   ]
  },
  {
   "cell_type": "code",
   "execution_count": 12,
   "id": "9fc25e2c",
   "metadata": {
    "execution": {
     "iopub.execute_input": "2022-09-22T12:32:42.998834Z",
     "iopub.status.busy": "2022-09-22T12:32:42.997959Z",
     "iopub.status.idle": "2022-09-22T12:32:43.000420Z",
     "shell.execute_reply": "2022-09-22T12:32:42.999868Z",
     "shell.execute_reply.started": "2022-09-22T12:17:33.444394Z"
    },
    "papermill": {
     "duration": 0.04106,
     "end_time": "2022-09-22T12:32:43.000544",
     "exception": false,
     "start_time": "2022-09-22T12:32:42.959484",
     "status": "completed"
    },
    "tags": []
   },
   "outputs": [],
   "source": [
    "code4 = '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'"
   ]
  },
  {
   "cell_type": "code",
   "execution_count": 13,
   "id": "b526ecd5",
   "metadata": {
    "execution": {
     "iopub.execute_input": "2022-09-22T12:32:43.068134Z",
     "iopub.status.busy": "2022-09-22T12:32:43.067567Z",
     "iopub.status.idle": "2022-09-22T12:32:43.074015Z",
     "shell.execute_reply": "2022-09-22T12:32:43.074460Z",
     "shell.execute_reply.started": "2022-09-22T12:17:33.460459Z"
    },
    "papermill": {
     "duration": 0.042636,
     "end_time": "2022-09-22T12:32:43.074613",
     "exception": false,
     "start_time": "2022-09-22T12:32:43.031977",
     "status": "completed"
    },
    "tags": []
   },
   "outputs": [
    {
     "data": {
      "text/plain": [
       "5160"
      ]
     },
     "execution_count": 13,
     "metadata": {},
     "output_type": "execute_result"
    }
   ],
   "source": [
    "path = 'code4.py'\n",
    "path = Path(path)\n",
    "path.write_bytes(base64.b64decode(code4))"
   ]
  },
  {
   "cell_type": "code",
   "execution_count": 14,
   "id": "297ad5f9",
   "metadata": {
    "execution": {
     "iopub.execute_input": "2022-09-22T12:32:43.144618Z",
     "iopub.status.busy": "2022-09-22T12:32:43.143638Z",
     "iopub.status.idle": "2022-09-22T12:33:01.633024Z",
     "shell.execute_reply": "2022-09-22T12:33:01.631874Z",
     "shell.execute_reply.started": "2022-09-22T12:17:33.484230Z"
    },
    "papermill": {
     "duration": 18.526461,
     "end_time": "2022-09-22T12:33:01.633184",
     "exception": false,
     "start_time": "2022-09-22T12:32:43.106723",
     "status": "completed"
    },
    "tags": []
   },
   "outputs": [
    {
     "name": "stdout",
     "output_type": "stream",
     "text": [
      "matplotlib.get_backend :  agg\r\n",
      "0it [00:00, ?it/s]/opt/conda/lib/python3.7/site-packages/torch/nn/functional.py:3063: UserWarning: Default upsampling behavior when mode=bilinear is changed to align_corners=False since 0.4.0. Please specify align_corners=True if the old behavior is desired. See the documentation of nn.Upsample for details.\r\n",
      "  \"See the documentation of nn.Upsample for details.\".format(mode))\r\n",
      "1it [00:01,  1.36s/it]\r\n"
     ]
    }
   ],
   "source": [
    "!python code4.py"
   ]
  },
  {
   "cell_type": "code",
   "execution_count": 15,
   "id": "721a588a",
   "metadata": {
    "execution": {
     "iopub.execute_input": "2022-09-22T12:33:01.706330Z",
     "iopub.status.busy": "2022-09-22T12:33:01.705470Z",
     "iopub.status.idle": "2022-09-22T12:33:01.707382Z",
     "shell.execute_reply": "2022-09-22T12:33:01.707810Z",
     "shell.execute_reply.started": "2022-09-22T12:19:19.941776Z"
    },
    "papermill": {
     "duration": 0.041482,
     "end_time": "2022-09-22T12:33:01.707951",
     "exception": false,
     "start_time": "2022-09-22T12:33:01.666469",
     "status": "completed"
    },
    "tags": []
   },
   "outputs": [],
   "source": [
    "code5 = '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'"
   ]
  },
  {
   "cell_type": "code",
   "execution_count": 16,
   "id": "b52c17ad",
   "metadata": {
    "execution": {
     "iopub.execute_input": "2022-09-22T12:33:01.784069Z",
     "iopub.status.busy": "2022-09-22T12:33:01.783118Z",
     "iopub.status.idle": "2022-09-22T12:33:01.789803Z",
     "shell.execute_reply": "2022-09-22T12:33:01.790293Z",
     "shell.execute_reply.started": "2022-09-22T12:19:20.449998Z"
    },
    "papermill": {
     "duration": 0.049146,
     "end_time": "2022-09-22T12:33:01.790487",
     "exception": false,
     "start_time": "2022-09-22T12:33:01.741341",
     "status": "completed"
    },
    "tags": []
   },
   "outputs": [
    {
     "data": {
      "text/plain": [
       "2958"
      ]
     },
     "execution_count": 16,
     "metadata": {},
     "output_type": "execute_result"
    }
   ],
   "source": [
    "path = 'code5.py'\n",
    "path = Path(path)\n",
    "path.write_bytes(base64.b64decode(code5))"
   ]
  },
  {
   "cell_type": "code",
   "execution_count": 17,
   "id": "01377503",
   "metadata": {
    "execution": {
     "iopub.execute_input": "2022-09-22T12:33:01.876702Z",
     "iopub.status.busy": "2022-09-22T12:33:01.873248Z",
     "iopub.status.idle": "2022-09-22T12:33:04.598573Z",
     "shell.execute_reply": "2022-09-22T12:33:04.598041Z",
     "shell.execute_reply.started": "2022-09-22T12:19:21.018112Z"
    },
    "papermill": {
     "duration": 2.770786,
     "end_time": "2022-09-22T12:33:04.598713",
     "exception": false,
     "start_time": "2022-09-22T12:33:01.827927",
     "status": "completed"
    },
    "tags": []
   },
   "outputs": [
    {
     "name": "stdout",
     "output_type": "stream",
     "text": [
      "100%|█████████████████████████████████████████████| 1/1 [00:00<00:00, 14.34it/s]\r\n"
     ]
    }
   ],
   "source": [
    "!python code5.py"
   ]
  },
  {
   "cell_type": "code",
   "execution_count": 18,
   "id": "8f4a3d87",
   "metadata": {
    "execution": {
     "iopub.execute_input": "2022-09-22T12:33:04.676788Z",
     "iopub.status.busy": "2022-09-22T12:33:04.675786Z",
     "iopub.status.idle": "2022-09-22T12:33:05.638455Z",
     "shell.execute_reply": "2022-09-22T12:33:05.639078Z",
     "shell.execute_reply.started": "2022-09-22T12:24:23.388333Z"
    },
    "papermill": {
     "duration": 1.004126,
     "end_time": "2022-09-22T12:33:05.639242",
     "exception": false,
     "start_time": "2022-09-22T12:33:04.635116",
     "status": "completed"
    },
    "tags": []
   },
   "outputs": [
    {
     "data": {
      "text/html": [
       "<div>\n",
       "<style scoped>\n",
       "    .dataframe tbody tr th:only-of-type {\n",
       "        vertical-align: middle;\n",
       "    }\n",
       "\n",
       "    .dataframe tbody tr th {\n",
       "        vertical-align: top;\n",
       "    }\n",
       "\n",
       "    .dataframe thead th {\n",
       "        text-align: right;\n",
       "    }\n",
       "</style>\n",
       "<table border=\"1\" class=\"dataframe\">\n",
       "  <thead>\n",
       "    <tr style=\"text-align: right;\">\n",
       "      <th></th>\n",
       "      <th>id</th>\n",
       "      <th>rle</th>\n",
       "    </tr>\n",
       "  </thead>\n",
       "  <tbody>\n",
       "    <tr>\n",
       "      <th>0</th>\n",
       "      <td>10078</td>\n",
       "      <td>384 149 2407 149 4430 149 6453 149 8476 149 10...</td>\n",
       "    </tr>\n",
       "  </tbody>\n",
       "</table>\n",
       "</div>"
      ],
      "text/plain": [
       "      id                                                rle\n",
       "0  10078  384 149 2407 149 4430 149 6453 149 8476 149 10..."
      ]
     },
     "execution_count": 18,
     "metadata": {},
     "output_type": "execute_result"
    }
   ],
   "source": [
    "import pandas as pd\n",
    "\n",
    "sub = pd.read_csv('submission.csv')\n",
    "!rm -rf ./*\n",
    "sub.to_csv('submission.csv', index=False)\n",
    "sub = pd.read_csv('submission.csv')\n",
    "sub.head()"
   ]
  },
  {
   "cell_type": "code",
   "execution_count": null,
   "id": "0bd9a11f",
   "metadata": {
    "papermill": {
     "duration": 0.033847,
     "end_time": "2022-09-22T12:33:05.707437",
     "exception": false,
     "start_time": "2022-09-22T12:33:05.673590",
     "status": "completed"
    },
    "tags": []
   },
   "outputs": [],
   "source": []
  }
 ],
 "metadata": {
  "kernelspec": {
   "display_name": "Python 3",
   "language": "python",
   "name": "python3"
  },
  "language_info": {
   "codemirror_mode": {
    "name": "ipython",
    "version": 3
   },
   "file_extension": ".py",
   "mimetype": "text/x-python",
   "name": "python",
   "nbconvert_exporter": "python",
   "pygments_lexer": "ipython3",
   "version": "3.7.10"
  },
  "papermill": {
   "default_parameters": {},
   "duration": 486.445175,
   "end_time": "2022-09-22T12:33:06.252960",
   "environment_variables": {},
   "exception": null,
   "input_path": "__notebook__.ipynb",
   "output_path": "__notebook__.ipynb",
   "parameters": {},
   "start_time": "2022-09-22T12:24:59.807785",
   "version": "2.3.3"
  }
 },
 "nbformat": 4,
 "nbformat_minor": 5
}
