{
 "cells": [
  {
   "cell_type": "code",
   "execution_count": 1,
   "id": "8d1feff0",
   "metadata": {
    "execution": {
     "iopub.execute_input": "2022-09-21T13:46:59.152540Z",
     "iopub.status.busy": "2022-09-21T13:46:59.151942Z",
     "iopub.status.idle": "2022-09-21T13:46:59.157283Z",
     "shell.execute_reply": "2022-09-21T13:46:59.156662Z",
     "shell.execute_reply.started": "2022-09-21T13:31:51.130609Z"
    },
    "papermill": {
     "duration": 0.101994,
     "end_time": "2022-09-21T13:46:59.157444",
     "exception": false,
     "start_time": "2022-09-21T13:46:59.055450",
     "status": "completed"
    },
    "tags": []
   },
   "outputs": [],
   "source": [
    "import os\n",
    "from pathlib import Path\n",
    "import base64"
   ]
  },
  {
   "cell_type": "code",
   "execution_count": 2,
   "id": "31da38d2",
   "metadata": {
    "execution": {
     "iopub.execute_input": "2022-09-21T13:46:59.190509Z",
     "iopub.status.busy": "2022-09-21T13:46:59.184211Z",
     "iopub.status.idle": "2022-09-21T13:47:26.036268Z",
     "shell.execute_reply": "2022-09-21T13:47:26.035824Z",
     "shell.execute_reply.started": "2022-09-21T13:31:51.287947Z"
    },
    "papermill": {
     "duration": 26.866397,
     "end_time": "2022-09-21T13:47:26.036394",
     "exception": false,
     "start_time": "2022-09-21T13:46:59.169997",
     "status": "completed"
    },
    "tags": []
   },
   "outputs": [
    {
     "name": "stdout",
     "output_type": "stream",
     "text": [
      "Processing /kaggle/input/einops-030/einops-0.3.0-py2.py3-none-any.whl\n",
      "Installing collected packages: einops\n"
     ]
    },
    {
     "name": "stderr",
     "output_type": "stream",
     "text": [
      "WARNING: Running pip as the 'root' user can result in broken permissions and conflicting behaviour with the system package manager. It is recommended to use a virtual environment instead: https://pip.pypa.io/warnings/venv\n"
     ]
    },
    {
     "name": "stdout",
     "output_type": "stream",
     "text": [
      "Successfully installed einops-0.3.0\n"
     ]
    },
    {
     "data": {
      "text/plain": [
       "0"
      ]
     },
     "execution_count": 2,
     "metadata": {},
     "output_type": "execute_result"
    }
   ],
   "source": [
    "os.system('pip install ../input/einops-030/einops-0.3.0-py2.py3-none-any.whl')"
   ]
  },
  {
   "cell_type": "code",
   "execution_count": 3,
   "id": "51a52185",
   "metadata": {
    "execution": {
     "iopub.execute_input": "2022-09-21T13:47:26.078685Z",
     "iopub.status.busy": "2022-09-21T13:47:26.073006Z",
     "iopub.status.idle": "2022-09-21T13:47:26.081145Z",
     "shell.execute_reply": "2022-09-21T13:47:26.080670Z",
     "shell.execute_reply.started": "2022-09-21T13:32:22.822789Z"
    },
    "papermill": {
     "duration": 0.030804,
     "end_time": "2022-09-21T13:47:26.081258",
     "exception": false,
     "start_time": "2022-09-21T13:47:26.050454",
     "status": "completed"
    },
    "tags": []
   },
   "outputs": [],
   "source": [
    "code1 = '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'"
   ]
  },
  {
   "cell_type": "code",
   "execution_count": 4,
   "id": "d70df78e",
   "metadata": {
    "execution": {
     "iopub.execute_input": "2022-09-21T13:47:26.114966Z",
     "iopub.status.busy": "2022-09-21T13:47:26.114026Z",
     "iopub.status.idle": "2022-09-21T13:47:26.118588Z",
     "shell.execute_reply": "2022-09-21T13:47:26.118148Z",
     "shell.execute_reply.started": "2022-09-21T13:32:23.326650Z"
    },
    "papermill": {
     "duration": 0.022655,
     "end_time": "2022-09-21T13:47:26.118726",
     "exception": false,
     "start_time": "2022-09-21T13:47:26.096071",
     "status": "completed"
    },
    "tags": []
   },
   "outputs": [
    {
     "data": {
      "text/plain": [
       "17746"
      ]
     },
     "execution_count": 4,
     "metadata": {},
     "output_type": "execute_result"
    }
   ],
   "source": [
    "path = 'code1.py'\n",
    "path = Path(path)\n",
    "path.write_bytes(base64.b64decode(code1))"
   ]
  },
  {
   "cell_type": "code",
   "execution_count": 5,
   "id": "5e2f137a",
   "metadata": {
    "execution": {
     "iopub.execute_input": "2022-09-21T13:47:26.151658Z",
     "iopub.status.busy": "2022-09-21T13:47:26.151024Z",
     "iopub.status.idle": "2022-09-21T13:51:42.407973Z",
     "shell.execute_reply": "2022-09-21T13:51:42.407191Z",
     "shell.execute_reply.started": "2022-09-21T13:32:25.725525Z"
    },
    "papermill": {
     "duration": 256.275176,
     "end_time": "2022-09-21T13:51:42.408128",
     "exception": false,
     "start_time": "2022-09-21T13:47:26.132952",
     "status": "completed"
    },
    "tags": []
   },
   "outputs": [
    {
     "name": "stdout",
     "output_type": "stream",
     "text": [
      "2022-09-21 13:47:28.034646: I tensorflow/stream_executor/platform/default/dso_loader.cc:49] Successfully opened dynamic library libcudart.so.11.0\r\n",
      "MEAN: [0.16183016 0.18965785 0.1697808 ], STD: [0.1697331  0.19511677 0.175394  ]\r\n",
      "Running on GPU\r\n",
      "REPLICAS: 1\r\n",
      "2022-09-21 13:47:34.022520: I tensorflow/compiler/jit/xla_cpu_device.cc:41] Not creating XLA devices, tf_xla_enable_xla_devices not set\r\n",
      "2022-09-21 13:47:34.025461: I tensorflow/stream_executor/platform/default/dso_loader.cc:49] Successfully opened dynamic library libcuda.so.1\r\n",
      "2022-09-21 13:47:34.082077: I tensorflow/stream_executor/cuda/cuda_gpu_executor.cc:941] successful NUMA node read from SysFS had negative value (-1), but there must be at least one NUMA node, so returning NUMA node zero\r\n",
      "2022-09-21 13:47:34.082873: I tensorflow/core/common_runtime/gpu/gpu_device.cc:1720] Found device 0 with properties: \r\n",
      "pciBusID: 0000:00:04.0 name: Tesla P100-PCIE-16GB computeCapability: 6.0\r\n",
      "coreClock: 1.3285GHz coreCount: 56 deviceMemorySize: 15.90GiB deviceMemoryBandwidth: 681.88GiB/s\r\n",
      "2022-09-21 13:47:34.082939: I tensorflow/stream_executor/platform/default/dso_loader.cc:49] Successfully opened dynamic library libcudart.so.11.0\r\n",
      "2022-09-21 13:47:34.117557: I tensorflow/stream_executor/platform/default/dso_loader.cc:49] Successfully opened dynamic library libcublas.so.11\r\n",
      "2022-09-21 13:47:34.117676: I tensorflow/stream_executor/platform/default/dso_loader.cc:49] Successfully opened dynamic library libcublasLt.so.11\r\n",
      "2022-09-21 13:47:34.138505: I tensorflow/stream_executor/platform/default/dso_loader.cc:49] Successfully opened dynamic library libcufft.so.10\r\n",
      "2022-09-21 13:47:34.145937: I tensorflow/stream_executor/platform/default/dso_loader.cc:49] Successfully opened dynamic library libcurand.so.10\r\n",
      "2022-09-21 13:47:34.176791: I tensorflow/stream_executor/platform/default/dso_loader.cc:49] Successfully opened dynamic library libcusolver.so.10\r\n",
      "2022-09-21 13:47:34.185626: I tensorflow/stream_executor/platform/default/dso_loader.cc:49] Successfully opened dynamic library libcusparse.so.11\r\n",
      "2022-09-21 13:47:34.187963: I tensorflow/stream_executor/platform/default/dso_loader.cc:49] Successfully opened dynamic library libcudnn.so.8\r\n",
      "2022-09-21 13:47:34.188156: I tensorflow/stream_executor/cuda/cuda_gpu_executor.cc:941] successful NUMA node read from SysFS had negative value (-1), but there must be at least one NUMA node, so returning NUMA node zero\r\n",
      "2022-09-21 13:47:34.189036: I tensorflow/stream_executor/cuda/cuda_gpu_executor.cc:941] successful NUMA node read from SysFS had negative value (-1), but there must be at least one NUMA node, so returning NUMA node zero\r\n",
      "2022-09-21 13:47:34.190664: I tensorflow/core/common_runtime/gpu/gpu_device.cc:1862] Adding visible gpu devices: 0\r\n",
      "2022-09-21 13:47:34.191568: I tensorflow/core/platform/cpu_feature_guard.cc:142] This TensorFlow binary is optimized with oneAPI Deep Neural Network Library (oneDNN) to use the following CPU instructions in performance-critical operations:  AVX2 AVX512F FMA\r\n",
      "To enable them in other operations, rebuild TensorFlow with the appropriate compiler flags.\r\n",
      "2022-09-21 13:47:34.191836: I tensorflow/compiler/jit/xla_gpu_device.cc:99] Not creating XLA devices, tf_xla_enable_xla_devices not set\r\n",
      "2022-09-21 13:47:34.192046: I tensorflow/stream_executor/cuda/cuda_gpu_executor.cc:941] successful NUMA node read from SysFS had negative value (-1), but there must be at least one NUMA node, so returning NUMA node zero\r\n",
      "2022-09-21 13:47:34.192740: I tensorflow/core/common_runtime/gpu/gpu_device.cc:1720] Found device 0 with properties: \r\n",
      "pciBusID: 0000:00:04.0 name: Tesla P100-PCIE-16GB computeCapability: 6.0\r\n",
      "coreClock: 1.3285GHz coreCount: 56 deviceMemorySize: 15.90GiB deviceMemoryBandwidth: 681.88GiB/s\r\n",
      "2022-09-21 13:47:34.192790: I tensorflow/stream_executor/platform/default/dso_loader.cc:49] Successfully opened dynamic library libcudart.so.11.0\r\n",
      "2022-09-21 13:47:34.192846: I tensorflow/stream_executor/platform/default/dso_loader.cc:49] Successfully opened dynamic library libcublas.so.11\r\n",
      "2022-09-21 13:47:34.192882: I tensorflow/stream_executor/platform/default/dso_loader.cc:49] Successfully opened dynamic library libcublasLt.so.11\r\n",
      "2022-09-21 13:47:34.192915: I tensorflow/stream_executor/platform/default/dso_loader.cc:49] Successfully opened dynamic library libcufft.so.10\r\n",
      "2022-09-21 13:47:34.192945: I tensorflow/stream_executor/platform/default/dso_loader.cc:49] Successfully opened dynamic library libcurand.so.10\r\n",
      "2022-09-21 13:47:34.192976: I tensorflow/stream_executor/platform/default/dso_loader.cc:49] Successfully opened dynamic library libcusolver.so.10\r\n",
      "2022-09-21 13:47:34.193016: I tensorflow/stream_executor/platform/default/dso_loader.cc:49] Successfully opened dynamic library libcusparse.so.11\r\n",
      "2022-09-21 13:47:34.193056: I tensorflow/stream_executor/platform/default/dso_loader.cc:49] Successfully opened dynamic library libcudnn.so.8\r\n",
      "2022-09-21 13:47:34.193175: I tensorflow/stream_executor/cuda/cuda_gpu_executor.cc:941] successful NUMA node read from SysFS had negative value (-1), but there must be at least one NUMA node, so returning NUMA node zero\r\n",
      "2022-09-21 13:47:34.193944: I tensorflow/stream_executor/cuda/cuda_gpu_executor.cc:941] successful NUMA node read from SysFS had negative value (-1), but there must be at least one NUMA node, so returning NUMA node zero\r\n",
      "2022-09-21 13:47:34.194567: I tensorflow/core/common_runtime/gpu/gpu_device.cc:1862] Adding visible gpu devices: 0\r\n",
      "2022-09-21 13:47:34.195589: I tensorflow/stream_executor/platform/default/dso_loader.cc:49] Successfully opened dynamic library libcudart.so.11.0\r\n",
      "2022-09-21 13:47:35.774460: I tensorflow/core/common_runtime/gpu/gpu_device.cc:1261] Device interconnect StreamExecutor with strength 1 edge matrix:\r\n",
      "2022-09-21 13:47:35.774519: I tensorflow/core/common_runtime/gpu/gpu_device.cc:1267]      0 \r\n",
      "2022-09-21 13:47:35.774538: I tensorflow/core/common_runtime/gpu/gpu_device.cc:1280] 0:   N \r\n",
      "2022-09-21 13:47:35.778554: I tensorflow/stream_executor/cuda/cuda_gpu_executor.cc:941] successful NUMA node read from SysFS had negative value (-1), but there must be at least one NUMA node, so returning NUMA node zero\r\n",
      "2022-09-21 13:47:35.779515: I tensorflow/stream_executor/cuda/cuda_gpu_executor.cc:941] successful NUMA node read from SysFS had negative value (-1), but there must be at least one NUMA node, so returning NUMA node zero\r\n",
      "2022-09-21 13:47:35.780339: I tensorflow/stream_executor/cuda/cuda_gpu_executor.cc:941] successful NUMA node read from SysFS had negative value (-1), but there must be at least one NUMA node, so returning NUMA node zero\r\n",
      "2022-09-21 13:47:35.781028: I tensorflow/core/common_runtime/gpu/gpu_device.cc:1406] Created TensorFlow device (/job:localhost/replica:0/task:0/device:GPU:0 with 14957 MB memory) -> physical GPU (device: 0, name: Tesla P100-PCIE-16GB, pci bus id: 0000:00:04.0, compute capability: 6.0)\r\n",
      "embedding shape: (None, 2816) up1 shape: (None, 20, 20, 2816), up2 shape: (None, 20, 20, 704)\r\n",
      "up3 shape: (None, 40, 40, 248), up4 shape: (None, 80, 80, 88), up5 shape: (None, 160, 160, 56), up6 shape: (None, 320, 320, 32)\r\n",
      "dec0 shape: (None, 20, 20, 640), dec1 shape: (None, 40, 40, 352), dec2 shape: (None, 80, 80, 112), dec3 shape: (None, 160, 160, 64), dec4 shape: (None, 320, 320, 64)\r\n",
      "dec_fpn shape: (None, 320, 320, 192)\r\n",
      "Loading pretrained weights...\r\n",
      "embedding shape: (None, 2816) up1 shape: (None, 20, 20, 2816), up2 shape: (None, 20, 20, 704)\r\n",
      "up3 shape: (None, 40, 40, 248), up4 shape: (None, 80, 80, 88), up5 shape: (None, 160, 160, 56), up6 shape: (None, 320, 320, 32)\r\n",
      "dec0 shape: (None, 20, 20, 640), dec1 shape: (None, 40, 40, 352), dec2 shape: (None, 80, 80, 112), dec3 shape: (None, 160, 160, 64), dec4 shape: (None, 320, 320, 64)\r\n",
      "dec_fpn shape: (None, 320, 320, 192)\r\n",
      "Loading pretrained weights...\r\n",
      "embedding shape: (None, 2816) up1 shape: (None, 20, 20, 2816), up2 shape: (None, 20, 20, 704)\r\n",
      "up3 shape: (None, 40, 40, 248), up4 shape: (None, 80, 80, 88), up5 shape: (None, 160, 160, 56), up6 shape: (None, 320, 320, 32)\r\n",
      "dec0 shape: (None, 20, 20, 640), dec1 shape: (None, 40, 40, 352), dec2 shape: (None, 80, 80, 112), dec3 shape: (None, 160, 160, 64), dec4 shape: (None, 320, 320, 64)\r\n",
      "dec_fpn shape: (None, 320, 320, 192)\r\n",
      "Loading pretrained weights...\r\n",
      "embedding shape: (None, 2816) up1 shape: (None, 20, 20, 2816), up2 shape: (None, 20, 20, 704)\r\n",
      "up3 shape: (None, 40, 40, 248), up4 shape: (None, 80, 80, 88), up5 shape: (None, 160, 160, 56), up6 shape: (None, 320, 320, 32)\r\n",
      "dec0 shape: (None, 20, 20, 640), dec1 shape: (None, 40, 40, 352), dec2 shape: (None, 80, 80, 112), dec3 shape: (None, 160, 160, 64), dec4 shape: (None, 320, 320, 64)\r\n",
      "dec_fpn shape: (None, 320, 320, 192)\r\n",
      "Loading pretrained weights...\r\n",
      "embedding shape: (None, 2816) up1 shape: (None, 20, 20, 2816), up2 shape: (None, 20, 20, 704)\r\n",
      "up3 shape: (None, 40, 40, 248), up4 shape: (None, 80, 80, 88), up5 shape: (None, 160, 160, 56), up6 shape: (None, 320, 320, 32)\r\n",
      "dec0 shape: (None, 20, 20, 640), dec1 shape: (None, 40, 40, 352), dec2 shape: (None, 80, 80, 112), dec3 shape: (None, 160, 160, 64), dec4 shape: (None, 320, 320, 64)\r\n",
      "dec_fpn shape: (None, 320, 320, 192)\r\n",
      "Loading pretrained weights...\r\n",
      "embedding shape: (None, 2816) up1 shape: (None, 20, 20, 2816), up2 shape: (None, 20, 20, 704)\r\n",
      "up3 shape: (None, 40, 40, 248), up4 shape: (None, 80, 80, 88), up5 shape: (None, 160, 160, 56), up6 shape: (None, 320, 320, 32)\r\n",
      "dec0 shape: (None, 20, 20, 640), dec1 shape: (None, 40, 40, 352), dec2 shape: (None, 80, 80, 112), dec3 shape: (None, 160, 160, 64), dec4 shape: (None, 320, 320, 64)\r\n",
      "dec_fpn shape: (None, 320, 320, 192)\r\n",
      "Loading pretrained weights...\r\n",
      "embedding shape: (None, 2816) up1 shape: (None, 20, 20, 2816), up2 shape: (None, 20, 20, 704)\r\n",
      "up3 shape: (None, 40, 40, 248), up4 shape: (None, 80, 80, 88), up5 shape: (None, 160, 160, 56), up6 shape: (None, 320, 320, 32)\r\n",
      "dec0 shape: (None, 20, 20, 640), dec1 shape: (None, 40, 40, 352), dec2 shape: (None, 80, 80, 112), dec3 shape: (None, 160, 160, 64), dec4 shape: (None, 320, 320, 64)\r\n",
      "dec_fpn shape: (None, 320, 320, 192)\r\n",
      "Loading pretrained weights...\r\n",
      "embedding shape: (None, 2816) up1 shape: (None, 20, 20, 2816), up2 shape: (None, 20, 20, 704)\r\n",
      "up3 shape: (None, 40, 40, 248), up4 shape: (None, 80, 80, 88), up5 shape: (None, 160, 160, 56), up6 shape: (None, 320, 320, 32)\r\n",
      "dec0 shape: (None, 20, 20, 640), dec1 shape: (None, 40, 40, 352), dec2 shape: (None, 80, 80, 112), dec3 shape: (None, 160, 160, 64), dec4 shape: (None, 320, 320, 64)\r\n",
      "dec_fpn shape: (None, 320, 320, 192)\r\n",
      "Loading pretrained weights...\r\n",
      "  0%|          | 0/10 [00:00<?, ?it/s]\r\n",
      "2022-09-21 13:50:06.092332: I tensorflow/compiler/mlir/mlir_graph_optimization_pass.cc:116] None of the MLIR optimization passes are enabled (registered 2)\r\n",
      "2022-09-21 13:50:06.110025: I tensorflow/core/platform/profile_utils/cpu_utils.cc:112] CPU Frequency: 2000189999 Hz\r\n",
      "2022-09-21 13:50:13.817878: I tensorflow/stream_executor/platform/default/dso_loader.cc:49] Successfully opened dynamic library libcudnn.so.8\r\n",
      "2022-09-21 13:50:19.364495: I tensorflow/stream_executor/platform/default/dso_loader.cc:49] Successfully opened dynamic library libcublas.so.11\r\n",
      "2022-09-21 13:50:20.185046: I tensorflow/stream_executor/platform/default/dso_loader.cc:49] Successfully opened dynamic library libcublasLt.so.11\r\n",
      "  0%|          | 0/1 [00:00<?, ?it/s]\r\n"
     ]
    }
   ],
   "source": [
    "!python code1.py"
   ]
  },
  {
   "cell_type": "code",
   "execution_count": 6,
   "id": "2f2d7ca1",
   "metadata": {
    "execution": {
     "iopub.execute_input": "2022-09-21T13:51:42.465231Z",
     "iopub.status.busy": "2022-09-21T13:51:42.464261Z",
     "iopub.status.idle": "2022-09-21T13:51:42.466217Z",
     "shell.execute_reply": "2022-09-21T13:51:42.466663Z",
     "shell.execute_reply.started": "2022-09-21T13:36:34.266413Z"
    },
    "papermill": {
     "duration": 0.035517,
     "end_time": "2022-09-21T13:51:42.466840",
     "exception": false,
     "start_time": "2022-09-21T13:51:42.431323",
     "status": "completed"
    },
    "tags": []
   },
   "outputs": [],
   "source": [
    "code2 = 'aW1wb3J0IG9zCmltcG9ydCBzeXMKIy4uL2lucHV0L2NvYXQtbW9kZWwvY29hdC1jb2RlL2NvYXQvYXVnbWVudGF0aW9uLnB5CiMuLi9pbnB1dC9icnVjZWN0aHVibWFwL0JydWNlLUNvYXQtVGVzdC9icnVjZS9jb2F0L2F1Z21lbnRhdGlvbi5weQpzeXMucGF0aC5hcHBlbmQoJy4uL2lucHV0L2JydWNlY3RodWJtYXAvQnJ1Y2UtQ29hdC1UZXN0L2JydWNlL2NvYXQnKQpzeXMucGF0aC5hcHBlbmQoJy4uL2lucHV0L3RpbW0tcHl0b3JjaC1pbWFnZS1tb2RlbHMvcHl0b3JjaC1pbWFnZS1tb2RlbHMtbWFzdGVyJykKc3lzLnBhdGguYXBwZW5kKCIuLi9pbnB1dC9wcmV0cmFpbmVkLW1vZGVscy1weXRvcmNoIikKc3lzLnBhdGguYXBwZW5kKCIuLi9pbnB1dC9lZmZpY2llbnRuZXQtcHl0b3JjaCIpCnN5cy5wYXRoLmFwcGVuZCgnLi4vaW5wdXQvc2VnbWVudGF0aW9uLW1vZGVscy1weXRvcmNoJykKaW1wb3J0IG51bXB5IGFzIG5wCmZyb20gY29tbW9uICBpbXBvcnQgKgpmcm9tIGxpYi5uZXQubG9va2FoZWFkIGltcG9ydCAqCmZyb20gbW9kZWxfY29hdF9kYWZvcm1lciBpbXBvcnQgKgpmcm9tIGRhdGFzZXQgaW1wb3J0ICoKZnJvbSB0cWRtIGltcG9ydCB0cWRtCgppbXBvcnQgdG9yY2guY3VkYS5hbXAgYXMgYW1wCgojIFRSQUlOID0gJy4vZGF0YS9odWJtYXAvdHJhaW5faW1hZ2VzLycKREVCVUcgPSBGYWxzZQppZiBERUJVRzoKICAgIFRFU1QgPSAnL2thZ2dsZS9pbnB1dC9odWJtYXAtb3JnYW4tc2VnbWVudGF0aW9uL3RyYWluX2ltYWdlcycKICAgIFRFU1RfREYgPSAnL2thZ2dsZS9pbnB1dC9odWJtYXAtb3JnYW4tc2VnbWVudGF0aW9uL3RyYWluLmNzdicKZWxzZToKICAgIFRFU1QgPSAnLi4vaW5wdXQvaHVibWFwLW9yZ2FuLXNlZ21lbnRhdGlvbi90ZXN0X2ltYWdlcycKICAgIFRFU1RfREYgPSAnL2thZ2dsZS9pbnB1dC9odWJtYXAtb3JnYW4tc2VnbWVudGF0aW9uL3Rlc3QuY3N2JwogICAgCiMgTU9ERUxTID0gW2YnL2thZ2dsZS9pbnB1dC9odWJtYXAwODMwdXBlcm5ldHN3aW4vZm9sZHtpfS5wdGgnIGZvciBpIGluIHJhbmdlKDQpXQojLi4vaW5wdXQvYnJ1Y2VjdGh1Ym1hcC9CcnVjZS1Db2F0LVRlc3QvZm9sZDAtdG9wMC1icnVjZS5wdGgKTU9ERUxTID0gWwogICAgICAgICAgICAnLi4vaW5wdXQvYnJ1Y2VjdGh1Ym1hcC9CcnVjZS1Db2F0LVRlc3QvZm9sZDAtdG9wMC1icnVjZS5wdGgnLAogICAgICAgICAgICAjJy4uL2lucHV0L2JydWNlY3RodWJtYXAvQnJ1Y2UtQ29hdC1UZXN0L2ZvbGQwLXRvcDEtYnJ1Y2UucHRoJywKICAgICAgICAgICAgJy4uL2lucHV0L2JydWNlY3RodWJtYXAvQnJ1Y2UtQ29hdC1UZXN0L2ZvbGQyLXRvcDEtYnJ1Y2UucHRoJywKICAgICAgICAgICAgIycuLi9pbnB1dC9icnVjZWN0aHVibWFwL0JydWNlLUNvYXQtVGVzdC9mb2xkMi10b3AyLWJydWNlLnB0aCcsCiAgICAgICAgICAgICcuLi9pbnB1dC9icnVjZWN0aHVibWFwL0JydWNlLUNvYXQtVGVzdC9mb2xkMy10b3AyLWJydWNlLnB0aCcsCiAgICAgICAgICAgICMnLi4vaW5wdXQvYnJ1Y2VjdGh1Ym1hcC9CcnVjZS1Db2F0LVRlc3QvZm9sZDMtdG9wMy1icnVjZS5wdGgnLAogICAgICAgICBdCgoKCmJlc3RfdGhycyA9IFsKICAgICAgICAgICAgICAgIHsnSFBBJzogeydraWRuZXknOiAwLjUsJ3Byb3N0YXRlJzogMC41LCdsYXJnZWludGVzdGluZSc6IDAuNSwnc3BsZWVuJzogMC4zLCdsdW5nJzogMC4wNX0sIAogICAgICAgICAgICAgICAgICdIdWJtYXAnOiB7J2tpZG5leSc6IDAuNSwncHJvc3RhdGUnOiAwLjUsJ2xhcmdlaW50ZXN0aW5lJzogMC41LCdzcGxlZW4nOiAwLjMsJ2x1bmcnOiAwLjA1fX0sCiAgICAgICAgICAgICAgICB7J0hQQSc6IHsna2lkbmV5JzogMC41LCdwcm9zdGF0ZSc6IDAuNSwnbGFyZ2VpbnRlc3RpbmUnOiAwLjUsJ3NwbGVlbic6IDAuNSwnbHVuZyc6IDAuMX0gLCAKICAgICAgICAgICAgICAgICAnSHVibWFwJzogeydraWRuZXknOiAwLjUsJ3Byb3N0YXRlJzogMC41LCdsYXJnZWludGVzdGluZSc6IDAuNSwnc3BsZWVuJzogMC41LCdsdW5nJzogMC4xfX0sCiAgICAgICAgICAgICAgICB7J0hQQSc6IHsna2lkbmV5JzogMC41LCdwcm9zdGF0ZSc6IDAuNSwnbGFyZ2VpbnRlc3RpbmUnOiAwLjUsJ3NwbGVlbic6IDAuNSwnbHVuZyc6IDAuMDh9LCAKICAgICAgICAgICAgICAgICAnSHVibWFwJzogeydraWRuZXknOiAwLjUsJ3Byb3N0YXRlJzogMC41LCdsYXJnZWludGVzdGluZSc6IDAuNSwnc3BsZWVuJzogMC41LCdsdW5nJzogMC4wNX19LAogICAgICAgICAgICBdCgp3ZWlnaHRzID0gWzEuMDA1LDEsMV0KYXNzZXJ0IGxlbih3ZWlnaHRzKSA9PSBsZW4oTU9ERUxTKQpWT1RFX1RIUkVTSE9MRCA9IDAuNQoKSU1BR0VfU0laRSA9IDc2OApCQVRDSF9TSVpFID0gMQoKZGV2aWNlID0gdG9yY2guZGV2aWNlKCdjdWRhOjAnIGlmIHRvcmNoLmN1ZGEuaXNfYXZhaWxhYmxlKCkgZWxzZSAnY3B1JykKdGVzdF9kZiA9IHBkLnJlYWRfY3N2KFRFU1RfREYpCgoKZnJvbSBrYWdnbGVfaHVibWFwX3YyIGltcG9ydCAqCmZyb20gZGFmb3JtZXIgaW1wb3J0ICoKZnJvbSBjb2F0IGltcG9ydCAqCgojIyMjIyMjIyMjIyMjIyMjIyMjIyMjIyMjIyMjIyMjIyMjIyMjIyMjIyMjIyMjIyMjIyMjIyMjIyMjIyMjIyMjIwoKY2xhc3MgUkdCKG5uLk1vZHVsZSk6CiAgICBJTUFHRV9SR0JfTUVBTiA9IFswLjQ4NSwgMC40NTYsIDAuNDA2XSAgIyBbMC41LCAwLjUsIDAuNV0KICAgIElNQUdFX1JHQl9TVEQgPSBbMC4yMjksIDAuMjI0LCAwLjIyNV0gICMgWzAuNSwgMC41LCAwLjVdCgogICAgZGVmIF9faW5pdF9fKHNlbGYsICk6CiAgICAgICAgc3VwZXIoUkdCLCBzZWxmKS5fX2luaXRfXygpCiAgICAgICAgc2VsZi5yZWdpc3Rlcl9idWZmZXIoJ21lYW4nLCB0b3JjaC56ZXJvcygxLCAzLCAxLCAxKSkKICAgICAgICBzZWxmLnJlZ2lzdGVyX2J1ZmZlcignc3RkJywgdG9yY2gub25lcygxLCAzLCAxLCAxKSkKICAgICAgICBzZWxmLm1lYW4uZGF0YSA9IHRvcmNoLkZsb2F0VGVuc29yKHNlbGYuSU1BR0VfUkdCX01FQU4pLnZpZXcoc2VsZi5tZWFuLnNoYXBlKQogICAgICAgIHNlbGYuc3RkLmRhdGEgPSB0b3JjaC5GbG9hdFRlbnNvcihzZWxmLklNQUdFX1JHQl9TVEQpLnZpZXcoc2VsZi5zdGQuc2hhcGUpCgogICAgZGVmIGZvcndhcmQoc2VsZiwgeCk6CiAgICAgICAgeCA9ICh4IC0gc2VsZi5tZWFuKSAvIHNlbGYuc3RkCiAgICAgICAgcmV0dXJuIHgKCgpjbGFzcyBOZXQobm4uTW9kdWxlKToKCgogICAgZGVmIF9faW5pdF9fKHNlbGYsCiAgICAgICAgICAgICAgICAjICBlbmNvZGVyPWNvYXRfbGl0ZV9tZWRpdW0sCiAgICAgICAgICAgICAgICBlbmNvZGVyPWNvYXRfcGFyYWxsZWxfc21hbGwsCiAgICAgICAgICAgICAgICBkZWNvZGVyPWRhZm9ybWVyX2NvbnYxeDEsCiAgICAgICAgICAgICAgICBlbmNvZGVyX2NmZz17fSwKICAgICAgICAgICAgICAgIGRlY29kZXJfY2ZnPXt9LAogICAgICAgICAgICAgICAgICk6CiAgICAgICAgc3VwZXIoTmV0LCBzZWxmKS5fX2luaXRfXygpCiAgICAgICAgZGVjb2Rlcl9kaW0gPSBkZWNvZGVyX2NmZy5nZXQoJ2RlY29kZXJfZGltJywgMzIwKQogICAgICAgIHNlbGYub3V0cHV0X3R5cGUgPSBbJ2luZmVyZW5jZScsICdsb3NzJ10KICAgICAgICAjIC0tLS0KICAgICAgICBzZWxmLnJnYiA9IFJHQigpCgogICAgICAgIHNlbGYuZW5jb2RlciA9IGVuY29kZXIoCiAgICAgICAgICAgICNkcm9wX3BhdGhfcmF0ZT0wLjMsCiAgICAgICAgKQogICAgICAgIGVuY29kZXJfZGltID0gc2VsZi5lbmNvZGVyLmVtYmVkX2RpbXMKICAgICAgICAjIFs2NCwgMTI4LCAzMjAsIDUxMl0KCiAgICAgICAgc2VsZi5kZWNvZGVyID0gZGVjb2RlcigKICAgICAgICAgICAgZW5jb2Rlcl9kaW09ZW5jb2Rlcl9kaW0sCiAgICAgICAgICAgIGRlY29kZXJfZGltPWRlY29kZXJfZGltLAogICAgICAgICkKICAgICAgICBzZWxmLmxvZ2l0ID0gbm4uU2VxdWVudGlhbCgKICAgICAgICAgICAgbm4uQ29udjJkKGRlY29kZXJfZGltLCAxLCBrZXJuZWxfc2l6ZT0xKSwKICAgICAgICApCgogICAgICAgIHNlbGYuYXV4ID0gbm4uTW9kdWxlTGlzdChbCiAgICAgICAgICAgIG5uLkNvbnYyZChkZWNvZGVyX2RpbSwgMSwga2VybmVsX3NpemU9MSwgcGFkZGluZz0wKSBmb3IgaSBpbiByYW5nZShsZW4oZW5jb2Rlcl9kaW0pKQogICAgICAgIF0pCgogICAgZGVmIGZvcndhcmQoc2VsZiwgYmF0Y2gpOgoKICAgICAgICB4ID0gYmF0Y2hbJ2ltYWdlJ10KICAgICAgICB4ID0gc2VsZi5yZ2IoeCkKCiAgICAgICAgQiwgQywgSCwgVyA9IHguc2hhcGUKICAgICAgICBlbmNvZGVyID0gc2VsZi5lbmNvZGVyKHgpCiAgICAgICAgIyBwcmludChbZi5zaGFwZSBmb3IgZiBpbiBlbmNvZGVyXSkKCiAgICAgICAgbGFzdCwgZGVjb2RlciA9IHNlbGYuZGVjb2RlcihlbmNvZGVyKQogICAgICAgIGxvZ2l0ID0gc2VsZi5sb2dpdChsYXN0KQoKICAgICAgICAjIGxvZ2l0ID0gRi5pbnRlcnBvbGF0ZShsb2dpdCwgc2l6ZT0oSCxXKSxtb2RlPSdiaWxpbmVhcicsYWxpZ25fY29ybmVycz1GYWxzZSwgYW50aWFsaWFzPVRydWUpCiAgICAgICAgbG9naXQgPSBGLmludGVycG9sYXRlKGxvZ2l0LCBzaXplPShILFcpLG1vZGU9J2JpbGluZWFyJyxhbGlnbl9jb3JuZXJzPUZhbHNlKQoKICAgICAgICBvdXRwdXQgPSB7fQogICAgICAgIGlmICdsb3NzJyBpbiBzZWxmLm91dHB1dF90eXBlOgoKICAgICAgICAgICAgb3V0cHV0WydiY2VfbG9zcyddID0gRi5iaW5hcnlfY3Jvc3NfZW50cm9weV93aXRoX2xvZ2l0cyhsb2dpdCxiYXRjaFsnbWFzayddKQogICAgICAgICAgICBmb3IgaSBpbiByYW5nZSg0KToKICAgICAgICAgICAgICAgIG91dHB1dFsnYXV4JWRfbG9zcyclaV0gPSBjcml0ZXJpb25fYXV4X2xvc3Moc2VsZi5hdXhbaV0oZGVjb2RlcltpXSksYmF0Y2hbJ21hc2snXSwgSCwgVykKICAgICAgICBpZiAnaW5mZXJlbmNlJyBpbiBzZWxmLm91dHB1dF90eXBlOgogICAgICAgICAgICBvdXRwdXRbJ3Byb2JhYmlsaXR5J10gPSB0b3JjaC5zaWdtb2lkKGxvZ2l0KQoKICAgICAgICByZXR1cm4gb3V0cHV0CgoKICAgIGRlZiBjcml0ZXJpb25fYXV4X2xvc3MobG9naXQsIG1hc2ssIEgsIFcpOgogICAgICAgICMgbG9naXQgPSBGLmludGVycG9sYXRlKGxvZ2l0LCBzaXplPShILCBXKSxtb2RlPSdiaWxpbmVhcicsYWxpZ25fY29ybmVycz1GYWxzZSwgYW50aWFsaWFzPVRydWUpCiAgICAgICAgbG9naXQgPSBGLmludGVycG9sYXRlKGxvZ2l0LCBzaXplPShILCBXKSxtb2RlPSdiaWxpbmVhcicsYWxpZ25fY29ybmVycz1GYWxzZSkKICAgICAgICBsb3NzID0gRi5iaW5hcnlfY3Jvc3NfZW50cm9weV93aXRoX2xvZ2l0cyhsb2dpdCxtYXNrKQogICAgICAgIHJldHVybiBsb3NzIAoKCiAgICBkZWYgcnVuX2NoZWNrX25ldCgpOgogICAgICAgIGJhdGNoX3NpemUgPSAyCiAgICAgICAgaW1hZ2Vfc2l6ZSA9IDgwMAoKICAgICAgICAjIC0tLQogICAgICAgIGJhdGNoID0gewogICAgICAgICAgICAnaW1hZ2UnOiB0b3JjaC5mcm9tX251bXB5KG5wLnJhbmRvbS51bmlmb3JtKC0xLCAxLCAoYmF0Y2hfc2l6ZSwgMywgaW1hZ2Vfc2l6ZSwgaW1hZ2Vfc2l6ZSkpKS5mbG9hdCgpLAogICAgICAgICAgICAnbWFzayc6IHRvcmNoLmZyb21fbnVtcHkobnAucmFuZG9tLmNob2ljZSgyLCAoYmF0Y2hfc2l6ZSwgMSwgaW1hZ2Vfc2l6ZSwgaW1hZ2Vfc2l6ZSkpKS5mbG9hdCgpLAogICAgICAgICAgICAnb3JnYW4nOiB0b3JjaC5mcm9tX251bXB5KG5wLnJhbmRvbS5jaG9pY2UoNSwgKGJhdGNoX3NpemUsIDEpKSkubG9uZygpLAogICAgICAgIH0KICAgICAgICBiYXRjaCA9IHtrOiB2LmN1ZGEoKSBmb3IgaywgdiBpbiBiYXRjaC5pdGVtcygpfQoKICAgICAgICBuZXQgPSBOZXQoKS5jdWRhKCkKICAgICAgICB3aXRoIHRvcmNoLm5vX2dyYWQoKToKICAgICAgICAgICAgd2l0aCB0b3JjaC5jdWRhLmFtcC5hdXRvY2FzdChlbmFibGVkPVRydWUpOgogICAgICAgICAgICAgICAgb3V0cHV0ID0gbmV0KGJhdGNoKQoKICAgICAgICBwcmludCgnYmF0Y2gnKQogICAgICAgIGZvciBrLCB2IGluIGJhdGNoLml0ZW1zKCk6CiAgICAgICAgICAgIHByaW50KCclMzJzIDonICUgaywgdi5zaGFwZSkKCiAgICAgICAgcHJpbnQoJ291dHB1dCcpCiAgICAgICAgZm9yIGssIHYgaW4gb3V0cHV0Lml0ZW1zKCk6CiAgICAgICAgICAgIGlmICdsb3NzJyBub3QgaW4gazoKICAgICAgICAgICAgICAgIHByaW50KCclMzJzIDonICUgaywgdi5zaGFwZSkKICAgICAgICBmb3IgaywgdiBpbiBvdXRwdXQuaXRlbXMoKToKICAgICAgICAgICAgaWYgJ2xvc3MnIGluIGs6CiAgICAgICAgICAgICAgICBwcmludCgnJTMycyA6JyAlIGssIHYuaXRlbSgpKQoKY2xhc3MgSHVibWFwRGF0YXNldChEYXRhc2V0KToKICAgIGRlZiBfX2luaXRfXyhzZWxmLCBkZik6CgogICAgICAgIHNlbGYuZGYgPSBkZgogICAgICAgIHNlbGYubGVuZ3RoID0gbGVuKHNlbGYuZGYpCgogICAgZGVmIF9fc3RyX18oc2VsZik6CiAgICAgICAgc3RyaW5nID0gJycKICAgICAgICBzdHJpbmcgKz0gJ1x0bGVuID0gJWRcbicgJSBsZW4oc2VsZikKCiAgICAgICAgZCA9IHNlbGYuZGYub3JnYW4udmFsdWVfY291bnRzKCkudG9fZGljdCgpCiAgICAgICAgZm9yIGsgaW4gWydraWRuZXknLCAncHJvc3RhdGUnLCAnbGFyZ2VpbnRlc3RpbmUnLCAnc3BsZWVuJywgJ2x1bmcnXToKICAgICAgICAgICAgc3RyaW5nICs9ICAnJTI0cyAlM2QgKCUwLjNmKSBcbiclKGssZC5nZXQoaywwKSxkLmdldChrLDApL2xlbihzZWxmLmRmKSkKICAgICAgICByZXR1cm4gc3RyaW5nCgogICAgZGVmIF9fbGVuX18oc2VsZik6CiAgICAgICAgcmV0dXJuIHNlbGYubGVuZ3RoCgogICAgZGVmIF9fZ2V0aXRlbV9fKHNlbGYsIGluZGV4KToKICAgICAgICBkID0gc2VsZi5kZi5pbG9jW2luZGV4XQogICAgICAgIGlkID0gZFsnaWQnXQogICAgICAgIG9yZ2FuID0gb3JnYW5fdG9fbGFiZWxbZC5vcmdhbl0KCiAgICAgICAgaW1hZ2UgPSBjdjIuaW1yZWFkKCcuLi9pbnB1dC9odWJtYXAtb3JnYW4tc2VnbWVudGF0aW9uL3Rlc3RfaW1hZ2VzLyVkLnRpZmYnJWlkLCBjdjIuSU1SRUFEX0NPTE9SKQogICAgICAgIGltYWdlID0gaW1hZ2UuYXN0eXBlKG5wLmZsb2F0MzIpLzI1NQoKICAgICAgICBzID0gZC5waXhlbF9zaXplLzAuNCAqIChpbWFnZV9zaXplLzMwMDApCgogICAgICAgIGltYWdlID0gY3YyLnJlc2l6ZShpbWFnZSxkc2l6ZT0oaW1hZ2Vfc2l6ZSxpbWFnZV9zaXplKSxpbnRlcnBvbGF0aW9uPWN2Mi5JTlRFUl9MSU5FQVIpCgogICAgICAgIHIgPXt9CiAgICAgICAgclsnaW5kZXgnXT0gaW5kZXgKICAgICAgICByWydpZCddID0gaWQKICAgICAgICByWydvcmdhbiddID0gdG9yY2gudGVuc29yKFtvcmdhbl0sIGR0eXBlPXRvcmNoLmxvbmcpCiAgICAgICAgclsnaW1hZ2UnXSA9IGltYWdlX3RvX3RlbnNvcihpbWFnZSkKICAgICAgICByWydpbXNpemUnXSA9IGRbJ2ltZ19oZWlnaHQnXQogICAgICAgIHJbJ3NvdXJjZSddID0gZFsnZGF0YV9zb3VyY2UnXQogICAgICAgIHJldHVybiByCgp0ZXN0X2RhdGFzZXQgPSBIdWJtYXBEYXRhc2V0KHRlc3RfZGYpCnRlc3RfbG9hZGVyID0gRGF0YUxvYWRlcigKICAgIHRlc3RfZGF0YXNldCwKICAgIHNhbXBsZXIgPSBTZXF1ZW50aWFsU2FtcGxlcih0ZXN0X2RhdGFzZXQpLAogICAgYmF0Y2hfc2l6ZSAgPSAxLAogICAgZHJvcF9sYXN0ICAgPSBGYWxzZSwKICAgIG51bV93b3JrZXJzID0gMSwKICAgIHBpbl9tZW1vcnkgID0gRmFsc2UsCiMgICAgIGNvbGxhdGVfZm4gPSBudWxsX2NvbGxhdGUsCikKCm1vZGVscyA9IFtdCmZvciBwYXRoIGluIE1PREVMUzoKICAgIHN0YXRlX2RpY3QgPSB0b3JjaC5sb2FkKHBhdGgsbWFwX2xvY2F0aW9uPXRvcmNoLmRldmljZSgnY3VkYTowJykpWydzdGF0ZV9kaWN0J10KICAgIG1vZGVsID0gTmV0KCkuY3VkYSgpCiAgICBtb2RlbC5sb2FkX3N0YXRlX2RpY3Qoc3RhdGVfZGljdCkKIyAgICAgbW9kZWwubG9hZF9zdGF0ZV9kaWN0KHtrLnJlcGxhY2UoJ21vZHVsZS4nLCAnJyk6diBmb3IgaywgdiBpbiBzdGF0ZV9kaWN0Lml0ZW1zKCl9KQogICAgbW9kZWwudG8oZGV2aWNlKQogICAgbW9kZWwuZXZhbCgpCiAgICBtb2RlbHMuYXBwZW5kKG1vZGVsKQpkZWwgc3RhdGVfZGljdAoKb3JnYW5zX2RpY3QgPSB7MTogJ2tpZG5leScsIDI6ICdwcm9zdGF0ZScsIDM6ICdsYXJnZWludGVzdGluZScsIDQ6ICdzcGxlZW4nLCA1OiAnbHVuZyd9CgpybGVzLCBuYW1lcyA9IFtdLCBbXQpmb3IgdCwgYmF0Y2ggaW4gdHFkbShlbnVtZXJhdGUodGVzdF9sb2FkZXIpKToKCiAgICAjIG9uZSBpdGVyYXRpb24gdXBkYXRlICAtLS0tLS0tLS0tLS0tCiAgICBiYXRjaF9zaXplID0gbGVuKGJhdGNoWydpbmRleCddKQogICAgYmF0Y2hbJ2ltYWdlJ10gPSBiYXRjaFsnaW1hZ2UnXS5jdWRhKCkKICAgIAogICAgYmF0Y2hbJ29yZ2FuJ10gPSBiYXRjaFsnb3JnYW4nXS5jdWRhKCkKCiAgICBwcmVkcyA9IG5wLnplcm9zKChiYXRjaFsnaW1zaXplJ11bMF0sIGJhdGNoWydpbXNpemUnXVswXSksIGR0eXBlPW5wLmZsb2F0KQogICAgc291cmNlID0gYmF0Y2hbJ3NvdXJjZSddCiAgICBvcmdhbiA9IG9yZ2Fuc19kaWN0W2ludChiYXRjaFsnb3JnYW4nXVswXSldCiAgICBmb3IgaSwgbmV0IGluIGVudW1lcmF0ZShtb2RlbHMpOiAKICAgICAgICAKICAgICAgICBuZXQub3V0cHV0X3R5cGUgPSBbJ2luZmVyZW5jZSddCiAgICAgICAgb3V0cHV0ID0gbmV0KGJhdGNoKQoKICAgICAgICBvdXRwdXQgPSBvdXRwdXRbJ3Byb2JhYmlsaXR5J10uc3F1ZWV6ZSgpLmNwdSgpLmRldGFjaCgpLm51bXB5KCkKICAgICAgICAKICAgICAgICBvdXRwdXQgPSBjdjIucmVzaXplKG91dHB1dCwgZHNpemU9KGludChiYXRjaFsnaW1zaXplJ11bMF0pLCBpbnQoYmF0Y2hbJ2ltc2l6ZSddWzBdKSkpCiAgICAgICAgb3V0cHV0ID0gKG91dHB1dD5iZXN0X3RocnNbaV1bc291cmNlWzBdXVtvcmdhbl0pLmFzdHlwZShucC5pbnQ4KQogICAgICAgIAogICAgICAgIHByZWRzICs9IHdlaWdodHNbaV0gKiBvdXRwdXQvc3VtKHdlaWdodHMpCiAgICAKICAgIHByZWRzID0gKHByZWRzPlZPVEVfVEhSRVNIT0xEKS5hc3R5cGUobnAuaW50OCkKIyAgICAgaWYgb3JnYW4gPT0gJ2x1bmcnOgojICAgICAgICAgcHJlZHMgPSAocHJlZHM+PTAuMSkuYXN0eXBlKG5wLmludDgpCiMgICAgIGVsc2U6CiMgICAgICAgICBwcmVkcyA9IChwcmVkcz49MC41KS5hc3R5cGUobnAuaW50OCkKICAgIAogICAgcmxlID0gcmxlX2VuY29kZShwcmVkcykKICAgIHJsZXMuYXBwZW5kKHJsZSkKICAgIG5hbWVzLmFwcGVuZChpbnQoYmF0Y2hbJ2lkJ11bMF0pKQoKZGYgPSBwZC5EYXRhRnJhbWUoeydpZCc6bmFtZXMsJ3JsZSc6cmxlc30pCmRmLnRvX2NzdignYnJ1Y2UyLmNzdicsaW5kZXg9RmFsc2Up'"
   ]
  },
  {
   "cell_type": "code",
   "execution_count": 7,
   "id": "080306a3",
   "metadata": {
    "execution": {
     "iopub.execute_input": "2022-09-21T13:51:42.519660Z",
     "iopub.status.busy": "2022-09-21T13:51:42.518874Z",
     "iopub.status.idle": "2022-09-21T13:51:42.521794Z",
     "shell.execute_reply": "2022-09-21T13:51:42.522250Z",
     "shell.execute_reply.started": "2022-09-21T13:36:34.288772Z"
    },
    "papermill": {
     "duration": 0.032345,
     "end_time": "2022-09-21T13:51:42.522392",
     "exception": false,
     "start_time": "2022-09-21T13:51:42.490047",
     "status": "completed"
    },
    "tags": []
   },
   "outputs": [
    {
     "data": {
      "text/plain": [
       "9384"
      ]
     },
     "execution_count": 7,
     "metadata": {},
     "output_type": "execute_result"
    }
   ],
   "source": [
    "path = 'code2.py'\n",
    "path = Path(path)\n",
    "path.write_bytes(base64.b64decode(code2))"
   ]
  },
  {
   "cell_type": "code",
   "execution_count": 8,
   "id": "30f9384f",
   "metadata": {
    "execution": {
     "iopub.execute_input": "2022-09-21T13:51:42.573387Z",
     "iopub.status.busy": "2022-09-21T13:51:42.571597Z",
     "iopub.status.idle": "2022-09-21T13:52:03.661903Z",
     "shell.execute_reply": "2022-09-21T13:52:03.661276Z",
     "shell.execute_reply.started": "2022-09-21T13:36:34.309689Z"
    },
    "papermill": {
     "duration": 21.116653,
     "end_time": "2022-09-21T13:52:03.662115",
     "exception": false,
     "start_time": "2022-09-21T13:51:42.545462",
     "status": "completed"
    },
    "tags": []
   },
   "outputs": [
    {
     "name": "stdout",
     "output_type": "stream",
     "text": [
      "matplotlib.get_backend :  agg\r\n",
      "0it [00:00, ?it/s]/opt/conda/lib/python3.7/site-packages/torch/nn/functional.py:3063: UserWarning: Default upsampling behavior when mode=bilinear is changed to align_corners=False since 0.4.0. Please specify align_corners=True if the old behavior is desired. See the documentation of nn.Upsample for details.\r\n",
      "  \"See the documentation of nn.Upsample for details.\".format(mode))\r\n",
      "1it [00:00,  1.06it/s]\r\n"
     ]
    }
   ],
   "source": [
    "!python code2.py"
   ]
  },
  {
   "cell_type": "code",
   "execution_count": 9,
   "id": "b8232ca1",
   "metadata": {
    "execution": {
     "iopub.execute_input": "2022-09-21T13:52:03.715734Z",
     "iopub.status.busy": "2022-09-21T13:52:03.714842Z",
     "iopub.status.idle": "2022-09-21T13:52:03.726754Z",
     "shell.execute_reply": "2022-09-21T13:52:03.726312Z",
     "shell.execute_reply.started": "2022-09-21T13:37:40.437723Z"
    },
    "papermill": {
     "duration": 0.040111,
     "end_time": "2022-09-21T13:52:03.726875",
     "exception": false,
     "start_time": "2022-09-21T13:52:03.686764",
     "status": "completed"
    },
    "tags": []
   },
   "outputs": [],
   "source": [
    "code3 = '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'"
   ]
  },
  {
   "cell_type": "code",
   "execution_count": 10,
   "id": "5b1ced5e",
   "metadata": {
    "execution": {
     "iopub.execute_input": "2022-09-21T13:52:03.779432Z",
     "iopub.status.busy": "2022-09-21T13:52:03.778649Z",
     "iopub.status.idle": "2022-09-21T13:52:03.785213Z",
     "shell.execute_reply": "2022-09-21T13:52:03.784772Z",
     "shell.execute_reply.started": "2022-09-21T13:37:41.159183Z"
    },
    "papermill": {
     "duration": 0.034213,
     "end_time": "2022-09-21T13:52:03.785324",
     "exception": false,
     "start_time": "2022-09-21T13:52:03.751111",
     "status": "completed"
    },
    "tags": []
   },
   "outputs": [
    {
     "data": {
      "text/plain": [
       "16285"
      ]
     },
     "execution_count": 10,
     "metadata": {},
     "output_type": "execute_result"
    }
   ],
   "source": [
    "path = 'code3.py'\n",
    "path = Path(path)\n",
    "path.write_bytes(base64.b64decode(code3))"
   ]
  },
  {
   "cell_type": "code",
   "execution_count": 11,
   "id": "c53eb132",
   "metadata": {
    "execution": {
     "iopub.execute_input": "2022-09-21T13:52:03.844606Z",
     "iopub.status.busy": "2022-09-21T13:52:03.843641Z",
     "iopub.status.idle": "2022-09-21T13:54:20.642047Z",
     "shell.execute_reply": "2022-09-21T13:54:20.641512Z",
     "shell.execute_reply.started": "2022-09-21T13:37:52.007668Z"
    },
    "papermill": {
     "duration": 136.830982,
     "end_time": "2022-09-21T13:54:20.642204",
     "exception": false,
     "start_time": "2022-09-21T13:52:03.811222",
     "status": "completed"
    },
    "tags": []
   },
   "outputs": [
    {
     "name": "stdout",
     "output_type": "stream",
     "text": [
      "2022-09-21 13:52:05.201380: I tensorflow/stream_executor/platform/default/dso_loader.cc:49] Successfully opened dynamic library libcudart.so.11.0\r\n",
      "MEAN: [0.16183016 0.18965785 0.1697808 ], STD: [0.1697331  0.19511677 0.175394  ]\r\n",
      "Running on GPU\r\n",
      "REPLICAS: 1\r\n",
      "2022-09-21 13:52:08.499327: I tensorflow/compiler/jit/xla_cpu_device.cc:41] Not creating XLA devices, tf_xla_enable_xla_devices not set\r\n",
      "2022-09-21 13:52:08.500454: I tensorflow/stream_executor/platform/default/dso_loader.cc:49] Successfully opened dynamic library libcuda.so.1\r\n",
      "2022-09-21 13:52:08.524929: I tensorflow/stream_executor/cuda/cuda_gpu_executor.cc:941] successful NUMA node read from SysFS had negative value (-1), but there must be at least one NUMA node, so returning NUMA node zero\r\n",
      "2022-09-21 13:52:08.525659: I tensorflow/core/common_runtime/gpu/gpu_device.cc:1720] Found device 0 with properties: \r\n",
      "pciBusID: 0000:00:04.0 name: Tesla P100-PCIE-16GB computeCapability: 6.0\r\n",
      "coreClock: 1.3285GHz coreCount: 56 deviceMemorySize: 15.90GiB deviceMemoryBandwidth: 681.88GiB/s\r\n",
      "2022-09-21 13:52:08.525744: I tensorflow/stream_executor/platform/default/dso_loader.cc:49] Successfully opened dynamic library libcudart.so.11.0\r\n",
      "2022-09-21 13:52:08.529200: I tensorflow/stream_executor/platform/default/dso_loader.cc:49] Successfully opened dynamic library libcublas.so.11\r\n",
      "2022-09-21 13:52:08.529313: I tensorflow/stream_executor/platform/default/dso_loader.cc:49] Successfully opened dynamic library libcublasLt.so.11\r\n",
      "2022-09-21 13:52:08.530784: I tensorflow/stream_executor/platform/default/dso_loader.cc:49] Successfully opened dynamic library libcufft.so.10\r\n",
      "2022-09-21 13:52:08.531181: I tensorflow/stream_executor/platform/default/dso_loader.cc:49] Successfully opened dynamic library libcurand.so.10\r\n",
      "2022-09-21 13:52:08.534655: I tensorflow/stream_executor/platform/default/dso_loader.cc:49] Successfully opened dynamic library libcusolver.so.10\r\n",
      "2022-09-21 13:52:08.535479: I tensorflow/stream_executor/platform/default/dso_loader.cc:49] Successfully opened dynamic library libcusparse.so.11\r\n",
      "2022-09-21 13:52:08.535778: I tensorflow/stream_executor/platform/default/dso_loader.cc:49] Successfully opened dynamic library libcudnn.so.8\r\n",
      "2022-09-21 13:52:08.535988: I tensorflow/stream_executor/cuda/cuda_gpu_executor.cc:941] successful NUMA node read from SysFS had negative value (-1), but there must be at least one NUMA node, so returning NUMA node zero\r\n",
      "2022-09-21 13:52:08.536832: I tensorflow/stream_executor/cuda/cuda_gpu_executor.cc:941] successful NUMA node read from SysFS had negative value (-1), but there must be at least one NUMA node, so returning NUMA node zero\r\n",
      "2022-09-21 13:52:08.537506: I tensorflow/core/common_runtime/gpu/gpu_device.cc:1862] Adding visible gpu devices: 0\r\n",
      "2022-09-21 13:52:08.537921: I tensorflow/core/platform/cpu_feature_guard.cc:142] This TensorFlow binary is optimized with oneAPI Deep Neural Network Library (oneDNN) to use the following CPU instructions in performance-critical operations:  AVX2 AVX512F FMA\r\n",
      "To enable them in other operations, rebuild TensorFlow with the appropriate compiler flags.\r\n",
      "2022-09-21 13:52:08.538119: I tensorflow/compiler/jit/xla_gpu_device.cc:99] Not creating XLA devices, tf_xla_enable_xla_devices not set\r\n",
      "2022-09-21 13:52:08.538311: I tensorflow/stream_executor/cuda/cuda_gpu_executor.cc:941] successful NUMA node read from SysFS had negative value (-1), but there must be at least one NUMA node, so returning NUMA node zero\r\n",
      "2022-09-21 13:52:08.539017: I tensorflow/core/common_runtime/gpu/gpu_device.cc:1720] Found device 0 with properties: \r\n",
      "pciBusID: 0000:00:04.0 name: Tesla P100-PCIE-16GB computeCapability: 6.0\r\n",
      "coreClock: 1.3285GHz coreCount: 56 deviceMemorySize: 15.90GiB deviceMemoryBandwidth: 681.88GiB/s\r\n",
      "2022-09-21 13:52:08.539068: I tensorflow/stream_executor/platform/default/dso_loader.cc:49] Successfully opened dynamic library libcudart.so.11.0\r\n",
      "2022-09-21 13:52:08.539120: I tensorflow/stream_executor/platform/default/dso_loader.cc:49] Successfully opened dynamic library libcublas.so.11\r\n",
      "2022-09-21 13:52:08.539154: I tensorflow/stream_executor/platform/default/dso_loader.cc:49] Successfully opened dynamic library libcublasLt.so.11\r\n",
      "2022-09-21 13:52:08.539187: I tensorflow/stream_executor/platform/default/dso_loader.cc:49] Successfully opened dynamic library libcufft.so.10\r\n",
      "2022-09-21 13:52:08.539219: I tensorflow/stream_executor/platform/default/dso_loader.cc:49] Successfully opened dynamic library libcurand.so.10\r\n",
      "2022-09-21 13:52:08.539252: I tensorflow/stream_executor/platform/default/dso_loader.cc:49] Successfully opened dynamic library libcusolver.so.10\r\n",
      "2022-09-21 13:52:08.539292: I tensorflow/stream_executor/platform/default/dso_loader.cc:49] Successfully opened dynamic library libcusparse.so.11\r\n",
      "2022-09-21 13:52:08.539333: I tensorflow/stream_executor/platform/default/dso_loader.cc:49] Successfully opened dynamic library libcudnn.so.8\r\n",
      "2022-09-21 13:52:08.539445: I tensorflow/stream_executor/cuda/cuda_gpu_executor.cc:941] successful NUMA node read from SysFS had negative value (-1), but there must be at least one NUMA node, so returning NUMA node zero\r\n",
      "2022-09-21 13:52:08.540203: I tensorflow/stream_executor/cuda/cuda_gpu_executor.cc:941] successful NUMA node read from SysFS had negative value (-1), but there must be at least one NUMA node, so returning NUMA node zero\r\n",
      "2022-09-21 13:52:08.540878: I tensorflow/core/common_runtime/gpu/gpu_device.cc:1862] Adding visible gpu devices: 0\r\n",
      "2022-09-21 13:52:08.540961: I tensorflow/stream_executor/platform/default/dso_loader.cc:49] Successfully opened dynamic library libcudart.so.11.0\r\n",
      "2022-09-21 13:52:09.158590: I tensorflow/core/common_runtime/gpu/gpu_device.cc:1261] Device interconnect StreamExecutor with strength 1 edge matrix:\r\n",
      "2022-09-21 13:52:09.158658: I tensorflow/core/common_runtime/gpu/gpu_device.cc:1267]      0 \r\n",
      "2022-09-21 13:52:09.158720: I tensorflow/core/common_runtime/gpu/gpu_device.cc:1280] 0:   N \r\n",
      "2022-09-21 13:52:09.159082: I tensorflow/stream_executor/cuda/cuda_gpu_executor.cc:941] successful NUMA node read from SysFS had negative value (-1), but there must be at least one NUMA node, so returning NUMA node zero\r\n",
      "2022-09-21 13:52:09.160044: I tensorflow/stream_executor/cuda/cuda_gpu_executor.cc:941] successful NUMA node read from SysFS had negative value (-1), but there must be at least one NUMA node, so returning NUMA node zero\r\n",
      "2022-09-21 13:52:09.160859: I tensorflow/stream_executor/cuda/cuda_gpu_executor.cc:941] successful NUMA node read from SysFS had negative value (-1), but there must be at least one NUMA node, so returning NUMA node zero\r\n",
      "2022-09-21 13:52:09.161549: I tensorflow/core/common_runtime/gpu/gpu_device.cc:1406] Created TensorFlow device (/job:localhost/replica:0/task:0/device:GPU:0 with 14957 MB memory) -> physical GPU (device: 0, name: Tesla P100-PCIE-16GB, pci bus id: 0000:00:04.0, compute capability: 6.0)\r\n",
      "embedding shape: (None, 2816) up1 shape: (None, 20, 20, 2816), up2 shape: (None, 20, 20, 704)\r\n",
      "up3 shape: (None, 40, 40, 248), up4 shape: (None, 80, 80, 88), up5 shape: (None, 160, 160, 56), up6 shape: (None, 320, 320, 32)\r\n",
      "dec0 shape: (None, 20, 20, 640), dec1 shape: (None, 40, 40, 352), dec2 shape: (None, 80, 80, 112), dec3 shape: (None, 160, 160, 64), dec4 shape: (None, 320, 320, 64)\r\n",
      "dec_fpn shape: (None, 320, 320, 192)\r\n",
      "Loading pretrained weights...\r\n",
      "embedding shape: (None, 2816) up1 shape: (None, 20, 20, 2816), up2 shape: (None, 20, 20, 704)\r\n",
      "up3 shape: (None, 40, 40, 248), up4 shape: (None, 80, 80, 88), up5 shape: (None, 160, 160, 56), up6 shape: (None, 320, 320, 32)\r\n",
      "dec0 shape: (None, 20, 20, 640), dec1 shape: (None, 40, 40, 352), dec2 shape: (None, 80, 80, 112), dec3 shape: (None, 160, 160, 64), dec4 shape: (None, 320, 320, 64)\r\n",
      "dec_fpn shape: (None, 320, 320, 192)\r\n",
      "Loading pretrained weights...\r\n",
      "embedding shape: (None, 2816) up1 shape: (None, 20, 20, 2816), up2 shape: (None, 20, 20, 704)\r\n",
      "up3 shape: (None, 40, 40, 248), up4 shape: (None, 80, 80, 88), up5 shape: (None, 160, 160, 56), up6 shape: (None, 320, 320, 32)\r\n",
      "dec0 shape: (None, 20, 20, 640), dec1 shape: (None, 40, 40, 352), dec2 shape: (None, 80, 80, 112), dec3 shape: (None, 160, 160, 64), dec4 shape: (None, 320, 320, 64)\r\n",
      "dec_fpn shape: (None, 320, 320, 192)\r\n",
      "Loading pretrained weights...\r\n",
      "embedding shape: (None, 2816) up1 shape: (None, 20, 20, 2816), up2 shape: (None, 20, 20, 704)\r\n",
      "up3 shape: (None, 40, 40, 248), up4 shape: (None, 80, 80, 88), up5 shape: (None, 160, 160, 56), up6 shape: (None, 320, 320, 32)\r\n",
      "dec0 shape: (None, 20, 20, 640), dec1 shape: (None, 40, 40, 352), dec2 shape: (None, 80, 80, 112), dec3 shape: (None, 160, 160, 64), dec4 shape: (None, 320, 320, 64)\r\n",
      "dec_fpn shape: (None, 320, 320, 192)\r\n",
      "Loading pretrained weights...\r\n",
      "  0%|          | 0/10 [00:00<?, ?it/s]\r\n",
      "2022-09-21 13:53:32.250490: I tensorflow/compiler/mlir/mlir_graph_optimization_pass.cc:116] None of the MLIR optimization passes are enabled (registered 2)\r\n",
      "2022-09-21 13:53:32.252116: I tensorflow/core/platform/profile_utils/cpu_utils.cc:112] CPU Frequency: 2000189999 Hz\r\n",
      "2022-09-21 13:53:39.666412: I tensorflow/stream_executor/platform/default/dso_loader.cc:49] Successfully opened dynamic library libcudnn.so.8\r\n",
      "2022-09-21 13:53:41.307679: I tensorflow/stream_executor/platform/default/dso_loader.cc:49] Successfully opened dynamic library libcublas.so.11\r\n",
      "2022-09-21 13:53:41.579414: I tensorflow/stream_executor/platform/default/dso_loader.cc:49] Successfully opened dynamic library libcublasLt.so.11\r\n",
      "  0%|          | 0/1 [00:00<?, ?it/s]\r\n"
     ]
    }
   ],
   "source": [
    "!python code3.py"
   ]
  },
  {
   "cell_type": "code",
   "execution_count": 12,
   "id": "4cbdf67d",
   "metadata": {
    "execution": {
     "iopub.execute_input": "2022-09-21T13:54:20.709409Z",
     "iopub.status.busy": "2022-09-21T13:54:20.708569Z",
     "iopub.status.idle": "2022-09-21T13:54:20.711022Z",
     "shell.execute_reply": "2022-09-21T13:54:20.710570Z",
     "shell.execute_reply.started": "2022-09-21T13:44:06.359386Z"
    },
    "papermill": {
     "duration": 0.038306,
     "end_time": "2022-09-21T13:54:20.711144",
     "exception": false,
     "start_time": "2022-09-21T13:54:20.672838",
     "status": "completed"
    },
    "tags": []
   },
   "outputs": [],
   "source": [
    "code4 = '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'"
   ]
  },
  {
   "cell_type": "code",
   "execution_count": 13,
   "id": "2e2e87c2",
   "metadata": {
    "execution": {
     "iopub.execute_input": "2022-09-21T13:54:20.776829Z",
     "iopub.status.busy": "2022-09-21T13:54:20.776182Z",
     "iopub.status.idle": "2022-09-21T13:54:20.778883Z",
     "shell.execute_reply": "2022-09-21T13:54:20.779306Z",
     "shell.execute_reply.started": "2022-09-21T13:44:07.665893Z"
    },
    "papermill": {
     "duration": 0.038385,
     "end_time": "2022-09-21T13:54:20.779441",
     "exception": false,
     "start_time": "2022-09-21T13:54:20.741056",
     "status": "completed"
    },
    "tags": []
   },
   "outputs": [
    {
     "data": {
      "text/plain": [
       "2325"
      ]
     },
     "execution_count": 13,
     "metadata": {},
     "output_type": "execute_result"
    }
   ],
   "source": [
    "path = 'code4.py'\n",
    "path = Path(path)\n",
    "path.write_bytes(base64.b64decode(code4))"
   ]
  },
  {
   "cell_type": "code",
   "execution_count": 14,
   "id": "5c72c9d1",
   "metadata": {
    "execution": {
     "iopub.execute_input": "2022-09-21T13:54:20.843646Z",
     "iopub.status.busy": "2022-09-21T13:54:20.843113Z",
     "iopub.status.idle": "2022-09-21T13:54:23.735861Z",
     "shell.execute_reply": "2022-09-21T13:54:23.734677Z",
     "shell.execute_reply.started": "2022-09-21T13:44:08.347127Z"
    },
    "papermill": {
     "duration": 2.926537,
     "end_time": "2022-09-21T13:54:23.736059",
     "exception": false,
     "start_time": "2022-09-21T13:54:20.809522",
     "status": "completed"
    },
    "tags": []
   },
   "outputs": [
    {
     "name": "stdout",
     "output_type": "stream",
     "text": [
      "100%|█████████████████████████████████████████████| 1/1 [00:00<00:00, 15.47it/s]\r\n"
     ]
    }
   ],
   "source": [
    "!python code4.py"
   ]
  },
  {
   "cell_type": "code",
   "execution_count": 15,
   "id": "8507acf0",
   "metadata": {
    "execution": {
     "iopub.execute_input": "2022-09-21T13:54:23.824547Z",
     "iopub.status.busy": "2022-09-21T13:54:23.823680Z",
     "iopub.status.idle": "2022-09-21T13:54:24.794961Z",
     "shell.execute_reply": "2022-09-21T13:54:24.794491Z",
     "shell.execute_reply.started": "2022-09-21T13:44:18.996727Z"
    },
    "papermill": {
     "duration": 1.010461,
     "end_time": "2022-09-21T13:54:24.795097",
     "exception": false,
     "start_time": "2022-09-21T13:54:23.784636",
     "status": "completed"
    },
    "tags": []
   },
   "outputs": [
    {
     "data": {
      "text/html": [
       "<div>\n",
       "<style scoped>\n",
       "    .dataframe tbody tr th:only-of-type {\n",
       "        vertical-align: middle;\n",
       "    }\n",
       "\n",
       "    .dataframe tbody tr th {\n",
       "        vertical-align: top;\n",
       "    }\n",
       "\n",
       "    .dataframe thead th {\n",
       "        text-align: right;\n",
       "    }\n",
       "</style>\n",
       "<table border=\"1\" class=\"dataframe\">\n",
       "  <thead>\n",
       "    <tr style=\"text-align: right;\">\n",
       "      <th></th>\n",
       "      <th>id</th>\n",
       "      <th>rle</th>\n",
       "    </tr>\n",
       "  </thead>\n",
       "  <tbody>\n",
       "    <tr>\n",
       "      <th>0</th>\n",
       "      <td>10078</td>\n",
       "      <td>402 115 2425 115 4448 115 6471 115 8494 115 10...</td>\n",
       "    </tr>\n",
       "  </tbody>\n",
       "</table>\n",
       "</div>"
      ],
      "text/plain": [
       "      id                                                rle\n",
       "0  10078  402 115 2425 115 4448 115 6471 115 8494 115 10..."
      ]
     },
     "execution_count": 15,
     "metadata": {},
     "output_type": "execute_result"
    }
   ],
   "source": [
    "import pandas as pd\n",
    "\n",
    "sub = pd.read_csv('submission.csv')\n",
    "!rm -rf ./*\n",
    "sub.to_csv('submission.csv', index=False)\n",
    "sub = pd.read_csv('submission.csv')\n",
    "sub.head()"
   ]
  },
  {
   "cell_type": "code",
   "execution_count": null,
   "id": "a077a310",
   "metadata": {
    "papermill": {
     "duration": 0.031002,
     "end_time": "2022-09-21T13:54:24.857279",
     "exception": false,
     "start_time": "2022-09-21T13:54:24.826277",
     "status": "completed"
    },
    "tags": []
   },
   "outputs": [],
   "source": []
  }
 ],
 "metadata": {
  "kernelspec": {
   "display_name": "Python 3",
   "language": "python",
   "name": "python3"
  },
  "language_info": {
   "codemirror_mode": {
    "name": "ipython",
    "version": 3
   },
   "file_extension": ".py",
   "mimetype": "text/x-python",
   "name": "python",
   "nbconvert_exporter": "python",
   "pygments_lexer": "ipython3",
   "version": "3.7.10"
  },
  "papermill": {
   "default_parameters": {},
   "duration": 452.765033,
   "end_time": "2022-09-21T13:54:25.397581",
   "environment_variables": {},
   "exception": null,
   "input_path": "__notebook__.ipynb",
   "output_path": "__notebook__.ipynb",
   "parameters": {},
   "start_time": "2022-09-21T13:46:52.632548",
   "version": "2.3.3"
  }
 },
 "nbformat": 4,
 "nbformat_minor": 5
}
